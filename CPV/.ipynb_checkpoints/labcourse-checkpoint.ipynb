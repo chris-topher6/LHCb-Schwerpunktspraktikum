{
 "cells": [
  {
   "cell_type": "markdown",
   "metadata": {
    "heading_collapsed": true
   },
   "source": [
    "# Measurement of matter antimatter differences with the LHCb experiment"
   ]
  },
  {
   "cell_type": "markdown",
   "metadata": {
    "hidden": true
   },
   "source": [
    "![](http://lhcb-public.web.cern.ch/lhcb-public/en/LHCb-outreach/multimedia/LHCbDetectorpnglight1.png)"
   ]
  },
  {
   "cell_type": "markdown",
   "metadata": {
    "heading_collapsed": true
   },
   "source": [
    "# Introduction\n",
    "### Hit the grey arrow to extend a section"
   ]
  },
  {
   "cell_type": "markdown",
   "metadata": {
    "hidden": true
   },
   "source": [
    "<b> Welcome to the HEP lab course of the TU Dortmund LHCb group</b>\n",
    "\n",
    "<div align=\"justify\"> This notebook is going to help you analysing data from the Large Hadron Collider (LHC) at CERN. The goal of your analysis is to make differences visible in the interactions of matter and [antimatter](https://en.wikipedia.org/wiki/Antimatter). This lab course is designed to make you capable to perform data analysis of HEP data on your onw, on  a level similiar to basic researches performed at CERN. Basic understanding of particle physics used to be sufficient and no very sophisticated knowledge is required.\n",
    "    \n"
   ]
  },
  {
   "cell_type": "markdown",
   "metadata": {
    "heading_collapsed": true
   },
   "source": [
    "# First steps\n",
    "\n",
    "## Goal:\n",
    "* Get familiar with the principles of this notebook\n",
    "* Read simulated data\n",
    "____"
   ]
  },
  {
   "cell_type": "markdown",
   "metadata": {
    "hidden": true
   },
   "source": [
    "<div align=\"justify\"> Like researchers at CERN you are going to write your own analysis code. To do so you are going to utilize `python`. Though, no experiences in using `python` are expected. There will be a sufficient amount of hints and examples with the exercises. If you need more help using python, there are [tutorials](http://www.tutorialspoint.com/python/) in the internet.\n",
    "\n",
    "Examples of specific code that could be helpful for this analysis could be found in the example of an [analysis of Nobel laureates](Example-Analysis.ipynb). In this analysis utilizes similiar techniques as you will need for this course. Reading and understanding the code of the nobel laureates analysis could therefore make this lab course significantly easier.\n",
    "\n",
    "Important: Each of the following code boxes will be executed by hitting Shift+Enter, after selecting the specific box.\n",
    "The replacement of `In [x]:` (x is empty or a integer) by `In [*]:` next to a code box indicates, that the code is currently running.\n"
   ]
  },
  {
   "cell_type": "markdown",
   "metadata": {
    "heading_collapsed": true,
    "hidden": true
   },
   "source": [
    "## Reading simulated data"
   ]
  },
  {
   "cell_type": "markdown",
   "metadata": {
    "hidden": true
   },
   "source": [
    "Simulated data are a great tool to develop your code and ensure it works correctly before analysing real data from LHCb. The latter are more difficult to analyse, since they contain two types of events. One being the events you are actually interested in, referred to as signal, and the ones that only look or behave similar, called background. In reality, the recorded data are also limited by the resolution of the detector.\n",
    "The data samples provided for this exersice only contain signal events under the assumption of a perfect detector. "
   ]
  },
  {
   "cell_type": "code",
   "execution_count": 1,
   "metadata": {
    "hidden": true,
    "run_control": {
     "frozen": false,
     "read_only": false
    },
    "tags": []
   },
   "outputs": [
    {
     "name": "stdout",
     "output_type": "stream",
     "text": [
      "Populating the interactive namespace from numpy and matplotlib\n",
      "Welcome to JupyROOT 6.16/00\n"
     ]
    }
   ],
   "source": [
    "from __future__ import print_function\n",
    "from __future__ import division\n",
    "\n",
    "%pylab inline\n",
    "# Setup the notebook\n",
    "\n",
    "import functools\n",
    "import os\n",
    "import warnings\n",
    "from subprocess import check_output\n",
    "\n",
    "import numpy\n",
    "from ipywidgets import interact\n",
    "import pandas\n",
    "from root_pandas import read_root\n",
    "from scipy import stats as st\n",
    "from matplotlib import pyplot as plt\n",
    "\n",
    "\n",
    "warnings.filterwarnings(\"ignore\")\n",
    "rcParams['image.cmap'] = 'Blues'  # change default colormap\n",
    "pandas.set_option('display.max_columns', None)\n"
   ]
  },
  {
   "cell_type": "markdown",
   "metadata": {
    "hidden": true
   },
   "source": [
    "If you need help with coding there are, in addition to the [example code](Example-Analysis.ipynb), hints in each section and an overview of useful functions in the instructions. Alternatively you can ask your supervisor for advice."
   ]
  },
  {
   "cell_type": "code",
   "execution_count": 2,
   "metadata": {
    "hidden": true,
    "tags": []
   },
   "outputs": [],
   "source": [
    "# Let us now load the simulated data\n",
    "sim_data = read_root('/data/PhaseSpaceSimulation.root')"
   ]
  },
  {
   "cell_type": "markdown",
   "metadata": {
    "hidden": true
   },
   "source": [
    "<div align=\"justify\">Now that you can access the data, you can use a number of functions which can help you analyse it. You can find these functions in the libraries imported at the top of the page. Try to make a table of some of the information within your data file so that you can get a feeling of the typical values for attributes in the dataset. Understanding the range of values for different variables will help with plotting graphs.</div>\n",
    "\n",
    "The data contains information about 'events' that were observed in the detector. An event refers to the particles produced when two proton bunches of the beams collided at the LHC. If you think of the data as a table, each row of the table is the results from a different collision and each column is a different measured quantity. \n",
    " \n",
    "We are interested in analysing the decays of particles called B<sup>+</sup> or B<sup>-</sup> mesons decaying into three other mesons called kaons (K<sup>+</sup> or K<sup>-</sup>). The events you have been given are those in which this process may have occurred. The detector has been used to reconstruct tracks that may have come from the kaons. You are given the measured momenta, charge, and likelihood of the tracks being kaons. You are given information for three tracks in each event, the ones that could be the three kaons that a B<sup>+</sup> or B<sup>-</sup> meson has decayed into. The instructions give an overview about the recorded information for each event."
   ]
  },
  {
   "cell_type": "code",
   "execution_count": 3,
   "metadata": {
    "hidden": true,
    "run_control": {
     "frozen": false,
     "read_only": false
    },
    "tags": []
   },
   "outputs": [
    {
     "data": {
      "text/html": [
       "<div>\n",
       "<style scoped>\n",
       "    .dataframe tbody tr th:only-of-type {\n",
       "        vertical-align: middle;\n",
       "    }\n",
       "\n",
       "    .dataframe tbody tr th {\n",
       "        vertical-align: top;\n",
       "    }\n",
       "\n",
       "    .dataframe thead th {\n",
       "        text-align: right;\n",
       "    }\n",
       "</style>\n",
       "<table border=\"1\" class=\"dataframe\">\n",
       "  <thead>\n",
       "    <tr style=\"text-align: right;\">\n",
       "      <th></th>\n",
       "      <th>B_FlightDistance</th>\n",
       "      <th>B_VertexChi2</th>\n",
       "      <th>H1_PX</th>\n",
       "      <th>H1_PY</th>\n",
       "      <th>H1_PZ</th>\n",
       "      <th>H1_ProbK</th>\n",
       "      <th>H1_ProbPi</th>\n",
       "      <th>H1_Charge</th>\n",
       "      <th>H1_IPChi2</th>\n",
       "      <th>H1_isMuon</th>\n",
       "      <th>H2_PX</th>\n",
       "      <th>H2_PY</th>\n",
       "      <th>H2_PZ</th>\n",
       "      <th>H2_ProbK</th>\n",
       "      <th>H2_ProbPi</th>\n",
       "      <th>H2_Charge</th>\n",
       "      <th>H2_IPChi2</th>\n",
       "      <th>H2_isMuon</th>\n",
       "      <th>H3_PX</th>\n",
       "      <th>H3_PY</th>\n",
       "      <th>H3_PZ</th>\n",
       "      <th>H3_ProbK</th>\n",
       "      <th>H3_ProbPi</th>\n",
       "      <th>H3_Charge</th>\n",
       "      <th>H3_IPChi2</th>\n",
       "      <th>H3_isMuon</th>\n",
       "    </tr>\n",
       "  </thead>\n",
       "  <tbody>\n",
       "    <tr>\n",
       "      <th>count</th>\n",
       "      <td>50000.0</td>\n",
       "      <td>50000.0</td>\n",
       "      <td>50000.000000</td>\n",
       "      <td>50000.000000</td>\n",
       "      <td>50000.000000</td>\n",
       "      <td>50000.0</td>\n",
       "      <td>50000.0</td>\n",
       "      <td>50000.00000</td>\n",
       "      <td>50000.0</td>\n",
       "      <td>50000.0</td>\n",
       "      <td>50000.000000</td>\n",
       "      <td>50000.000000</td>\n",
       "      <td>50000.000000</td>\n",
       "      <td>50000.0</td>\n",
       "      <td>50000.0</td>\n",
       "      <td>50000.00000</td>\n",
       "      <td>50000.0</td>\n",
       "      <td>50000.0</td>\n",
       "      <td>50000.000000</td>\n",
       "      <td>50000.000000</td>\n",
       "      <td>50000.000000</td>\n",
       "      <td>50000.0</td>\n",
       "      <td>50000.0</td>\n",
       "      <td>50000.00000</td>\n",
       "      <td>50000.0</td>\n",
       "      <td>50000.0</td>\n",
       "    </tr>\n",
       "    <tr>\n",
       "      <th>mean</th>\n",
       "      <td>0.0</td>\n",
       "      <td>1.0</td>\n",
       "      <td>0.855802</td>\n",
       "      <td>47.981736</td>\n",
       "      <td>131647.527679</td>\n",
       "      <td>1.0</td>\n",
       "      <td>0.0</td>\n",
       "      <td>0.00000</td>\n",
       "      <td>1.0</td>\n",
       "      <td>0.0</td>\n",
       "      <td>122.187300</td>\n",
       "      <td>-78.343134</td>\n",
       "      <td>132138.708685</td>\n",
       "      <td>1.0</td>\n",
       "      <td>0.0</td>\n",
       "      <td>0.00000</td>\n",
       "      <td>1.0</td>\n",
       "      <td>0.0</td>\n",
       "      <td>-120.988250</td>\n",
       "      <td>42.517753</td>\n",
       "      <td>132340.515668</td>\n",
       "      <td>1.0</td>\n",
       "      <td>0.0</td>\n",
       "      <td>0.00000</td>\n",
       "      <td>1.0</td>\n",
       "      <td>0.0</td>\n",
       "    </tr>\n",
       "    <tr>\n",
       "      <th>std</th>\n",
       "      <td>0.0</td>\n",
       "      <td>0.0</td>\n",
       "      <td>22538.342967</td>\n",
       "      <td>22388.626646</td>\n",
       "      <td>123495.661394</td>\n",
       "      <td>0.0</td>\n",
       "      <td>0.0</td>\n",
       "      <td>1.00001</td>\n",
       "      <td>0.0</td>\n",
       "      <td>0.0</td>\n",
       "      <td>22534.563515</td>\n",
       "      <td>22348.907985</td>\n",
       "      <td>124534.690032</td>\n",
       "      <td>0.0</td>\n",
       "      <td>0.0</td>\n",
       "      <td>1.00001</td>\n",
       "      <td>0.0</td>\n",
       "      <td>0.0</td>\n",
       "      <td>22612.496447</td>\n",
       "      <td>22622.389605</td>\n",
       "      <td>125165.178671</td>\n",
       "      <td>0.0</td>\n",
       "      <td>0.0</td>\n",
       "      <td>1.00001</td>\n",
       "      <td>0.0</td>\n",
       "      <td>0.0</td>\n",
       "    </tr>\n",
       "    <tr>\n",
       "      <th>min</th>\n",
       "      <td>0.0</td>\n",
       "      <td>1.0</td>\n",
       "      <td>-179037.390000</td>\n",
       "      <td>-163973.830000</td>\n",
       "      <td>-670.110000</td>\n",
       "      <td>1.0</td>\n",
       "      <td>0.0</td>\n",
       "      <td>-1.00000</td>\n",
       "      <td>1.0</td>\n",
       "      <td>0.0</td>\n",
       "      <td>-202064.670000</td>\n",
       "      <td>-175256.790000</td>\n",
       "      <td>-667.250000</td>\n",
       "      <td>1.0</td>\n",
       "      <td>0.0</td>\n",
       "      <td>-1.00000</td>\n",
       "      <td>1.0</td>\n",
       "      <td>0.0</td>\n",
       "      <td>-172124.350000</td>\n",
       "      <td>-187477.990000</td>\n",
       "      <td>-714.030000</td>\n",
       "      <td>1.0</td>\n",
       "      <td>0.0</td>\n",
       "      <td>-1.00000</td>\n",
       "      <td>1.0</td>\n",
       "      <td>0.0</td>\n",
       "    </tr>\n",
       "    <tr>\n",
       "      <th>25%</th>\n",
       "      <td>0.0</td>\n",
       "      <td>1.0</td>\n",
       "      <td>-5642.425000</td>\n",
       "      <td>-5594.430000</td>\n",
       "      <td>35992.245000</td>\n",
       "      <td>1.0</td>\n",
       "      <td>0.0</td>\n",
       "      <td>-1.00000</td>\n",
       "      <td>1.0</td>\n",
       "      <td>0.0</td>\n",
       "      <td>-5544.207500</td>\n",
       "      <td>-5728.655000</td>\n",
       "      <td>35777.302500</td>\n",
       "      <td>1.0</td>\n",
       "      <td>0.0</td>\n",
       "      <td>-1.00000</td>\n",
       "      <td>1.0</td>\n",
       "      <td>0.0</td>\n",
       "      <td>-5569.130000</td>\n",
       "      <td>-5580.415000</td>\n",
       "      <td>35652.217500</td>\n",
       "      <td>1.0</td>\n",
       "      <td>0.0</td>\n",
       "      <td>-1.00000</td>\n",
       "      <td>1.0</td>\n",
       "      <td>0.0</td>\n",
       "    </tr>\n",
       "    <tr>\n",
       "      <th>50%</th>\n",
       "      <td>0.0</td>\n",
       "      <td>1.0</td>\n",
       "      <td>-24.330000</td>\n",
       "      <td>3.770000</td>\n",
       "      <td>92155.685000</td>\n",
       "      <td>1.0</td>\n",
       "      <td>0.0</td>\n",
       "      <td>0.00000</td>\n",
       "      <td>1.0</td>\n",
       "      <td>0.0</td>\n",
       "      <td>-18.140000</td>\n",
       "      <td>-17.250000</td>\n",
       "      <td>92234.940000</td>\n",
       "      <td>1.0</td>\n",
       "      <td>0.0</td>\n",
       "      <td>0.00000</td>\n",
       "      <td>1.0</td>\n",
       "      <td>0.0</td>\n",
       "      <td>-4.685000</td>\n",
       "      <td>3.930000</td>\n",
       "      <td>91949.840000</td>\n",
       "      <td>1.0</td>\n",
       "      <td>0.0</td>\n",
       "      <td>0.00000</td>\n",
       "      <td>1.0</td>\n",
       "      <td>0.0</td>\n",
       "    </tr>\n",
       "    <tr>\n",
       "      <th>75%</th>\n",
       "      <td>0.0</td>\n",
       "      <td>1.0</td>\n",
       "      <td>5594.317500</td>\n",
       "      <td>5533.552500</td>\n",
       "      <td>192728.195000</td>\n",
       "      <td>1.0</td>\n",
       "      <td>0.0</td>\n",
       "      <td>1.00000</td>\n",
       "      <td>1.0</td>\n",
       "      <td>0.0</td>\n",
       "      <td>5487.997500</td>\n",
       "      <td>5592.870000</td>\n",
       "      <td>192884.482500</td>\n",
       "      <td>1.0</td>\n",
       "      <td>0.0</td>\n",
       "      <td>1.00000</td>\n",
       "      <td>1.0</td>\n",
       "      <td>0.0</td>\n",
       "      <td>5533.212500</td>\n",
       "      <td>5668.200000</td>\n",
       "      <td>192926.390000</td>\n",
       "      <td>1.0</td>\n",
       "      <td>0.0</td>\n",
       "      <td>1.00000</td>\n",
       "      <td>1.0</td>\n",
       "      <td>0.0</td>\n",
       "    </tr>\n",
       "    <tr>\n",
       "      <th>max</th>\n",
       "      <td>0.0</td>\n",
       "      <td>1.0</td>\n",
       "      <td>178396.840000</td>\n",
       "      <td>172849.630000</td>\n",
       "      <td>725870.300000</td>\n",
       "      <td>1.0</td>\n",
       "      <td>0.0</td>\n",
       "      <td>1.00000</td>\n",
       "      <td>1.0</td>\n",
       "      <td>0.0</td>\n",
       "      <td>169420.600000</td>\n",
       "      <td>177758.280000</td>\n",
       "      <td>715352.640000</td>\n",
       "      <td>1.0</td>\n",
       "      <td>0.0</td>\n",
       "      <td>1.00000</td>\n",
       "      <td>1.0</td>\n",
       "      <td>0.0</td>\n",
       "      <td>191364.550000</td>\n",
       "      <td>195590.310000</td>\n",
       "      <td>733759.810000</td>\n",
       "      <td>1.0</td>\n",
       "      <td>0.0</td>\n",
       "      <td>1.00000</td>\n",
       "      <td>1.0</td>\n",
       "      <td>0.0</td>\n",
       "    </tr>\n",
       "  </tbody>\n",
       "</table>\n",
       "</div>"
      ],
      "text/plain": [
       "       B_FlightDistance  B_VertexChi2          H1_PX          H1_PY  \\\n",
       "count           50000.0       50000.0   50000.000000   50000.000000   \n",
       "mean                0.0           1.0       0.855802      47.981736   \n",
       "std                 0.0           0.0   22538.342967   22388.626646   \n",
       "min                 0.0           1.0 -179037.390000 -163973.830000   \n",
       "25%                 0.0           1.0   -5642.425000   -5594.430000   \n",
       "50%                 0.0           1.0     -24.330000       3.770000   \n",
       "75%                 0.0           1.0    5594.317500    5533.552500   \n",
       "max                 0.0           1.0  178396.840000  172849.630000   \n",
       "\n",
       "               H1_PZ  H1_ProbK  H1_ProbPi    H1_Charge  H1_IPChi2  H1_isMuon  \\\n",
       "count   50000.000000   50000.0    50000.0  50000.00000    50000.0    50000.0   \n",
       "mean   131647.527679       1.0        0.0      0.00000        1.0        0.0   \n",
       "std    123495.661394       0.0        0.0      1.00001        0.0        0.0   \n",
       "min      -670.110000       1.0        0.0     -1.00000        1.0        0.0   \n",
       "25%     35992.245000       1.0        0.0     -1.00000        1.0        0.0   \n",
       "50%     92155.685000       1.0        0.0      0.00000        1.0        0.0   \n",
       "75%    192728.195000       1.0        0.0      1.00000        1.0        0.0   \n",
       "max    725870.300000       1.0        0.0      1.00000        1.0        0.0   \n",
       "\n",
       "               H2_PX          H2_PY          H2_PZ  H2_ProbK  H2_ProbPi  \\\n",
       "count   50000.000000   50000.000000   50000.000000   50000.0    50000.0   \n",
       "mean      122.187300     -78.343134  132138.708685       1.0        0.0   \n",
       "std     22534.563515   22348.907985  124534.690032       0.0        0.0   \n",
       "min   -202064.670000 -175256.790000    -667.250000       1.0        0.0   \n",
       "25%     -5544.207500   -5728.655000   35777.302500       1.0        0.0   \n",
       "50%       -18.140000     -17.250000   92234.940000       1.0        0.0   \n",
       "75%      5487.997500    5592.870000  192884.482500       1.0        0.0   \n",
       "max    169420.600000  177758.280000  715352.640000       1.0        0.0   \n",
       "\n",
       "         H2_Charge  H2_IPChi2  H2_isMuon          H3_PX          H3_PY  \\\n",
       "count  50000.00000    50000.0    50000.0   50000.000000   50000.000000   \n",
       "mean       0.00000        1.0        0.0    -120.988250      42.517753   \n",
       "std        1.00001        0.0        0.0   22612.496447   22622.389605   \n",
       "min       -1.00000        1.0        0.0 -172124.350000 -187477.990000   \n",
       "25%       -1.00000        1.0        0.0   -5569.130000   -5580.415000   \n",
       "50%        0.00000        1.0        0.0      -4.685000       3.930000   \n",
       "75%        1.00000        1.0        0.0    5533.212500    5668.200000   \n",
       "max        1.00000        1.0        0.0  191364.550000  195590.310000   \n",
       "\n",
       "               H3_PZ  H3_ProbK  H3_ProbPi    H3_Charge  H3_IPChi2  H3_isMuon  \n",
       "count   50000.000000   50000.0    50000.0  50000.00000    50000.0    50000.0  \n",
       "mean   132340.515668       1.0        0.0      0.00000        1.0        0.0  \n",
       "std    125165.178671       0.0        0.0      1.00001        0.0        0.0  \n",
       "min      -714.030000       1.0        0.0     -1.00000        1.0        0.0  \n",
       "25%     35652.217500       1.0        0.0     -1.00000        1.0        0.0  \n",
       "50%     91949.840000       1.0        0.0      0.00000        1.0        0.0  \n",
       "75%    192926.390000       1.0        0.0      1.00000        1.0        0.0  \n",
       "max    733759.810000       1.0        0.0      1.00000        1.0        0.0  "
      ]
     },
     "execution_count": 3,
     "metadata": {},
     "output_type": "execute_result"
    }
   ],
   "source": [
    "# make a table of the data variables here \n",
    "sim_data.describe()"
   ]
  },
  {
   "cell_type": "markdown",
   "metadata": {
    "heading_collapsed": true,
    "hidden": true
   },
   "source": [
    "### Hints"
   ]
  },
  {
   "cell_type": "markdown",
   "metadata": {
    "hidden": true
   },
   "source": [
    "**Creating a table** - Use your `head()` - remember to look at the [example analysis](Example-Analysis.ipynb) to see how it was done there."
   ]
  },
  {
   "cell_type": "markdown",
   "metadata": {},
   "source": [
    "# Reconstruction of the invariant mass\n",
    "\n",
    "## Aims:\n",
    "* Plot histograms of the momenta of one of the kaon candidates\n",
    "* Calculate the energy of each of the kaon candidates\n",
    "* Plot the invariant masses of the B<sup>+</sup> or B<sup>-</sup> mesons"
   ]
  },
  {
   "cell_type": "markdown",
   "metadata": {},
   "source": [
    "### Plotting a feature:\n",
    "\n",
    "You can plot any features of the data in a histogram. Choose any suitable binning that allows you to observ the distribution of the variable clearly. Try making a histogram for the first kaon candidate's momentum x-component (H1_PX):\n",
    "\n"
   ]
  },
  {
   "cell_type": "markdown",
   "metadata": {
    "collapsed": true,
    "jupyter": {
     "outputs_hidden": true
    },
    "run_control": {
     "frozen": false,
     "read_only": false
    }
   },
   "source": []
  },
  {
   "cell_type": "code",
   "execution_count": 4,
   "metadata": {},
   "outputs": [
    {
     "data": {
      "text/plain": [
       "<matplotlib.axes._subplots.AxesSubplot at 0x7f8281564668>"
      ]
     },
     "execution_count": 4,
     "metadata": {},
     "output_type": "execute_result"
    },
    {
     "data": {
      "image/png": "[encoded data removed]",
      "text/plain": [
       "<Figure size 432x288 with 1 Axes>"
      ]
     },
     "metadata": {
      "needs_background": "light"
     },
     "output_type": "display_data"
    }
   ],
   "source": [
    "# make a histogram of the H1_PX variable here\n",
    "sim_data.H1_PX.hist(bins=50)"
   ]
  },
  {
   "cell_type": "markdown",
   "metadata": {},
   "source": [
    "Momentum is a **vector** quantity, it has x,y, and z components. Compare the distributions of the different momentum components.\n",
    "Try calculating the **magnitude** of the momentum of the first kaon candidate and plot a histogram of the resulting distribution. (You'll need the `H1_PX`, `H1_PY` and `H1_PZ` variables.)\n",
    "\n"
   ]
  },
  {
   "cell_type": "code",
   "execution_count": 5,
   "metadata": {
    "jupyter": {
     "outputs_hidden": true
    }
   },
   "outputs": [
    {
     "data": {
      "text/plain": [
       "<matplotlib.axes._subplots.AxesSubplot at 0x7f8281427198>"
      ]
     },
     "execution_count": 5,
     "metadata": {},
     "output_type": "execute_result"
    },
    {
     "data": {
      "image/png": "[encoded data removed]",
      "text/plain": [
       "<Figure size 432x288 with 1 Axes>"
      ]
     },
     "metadata": {
      "needs_background": "light"
     },
     "output_type": "display_data"
    }
   ],
   "source": [
    "# make a histogram of the H1_PX, H1_PY and H1_PZ variables here\n",
    "sim_data.H1_PX.hist(bins=50, alpha=0.5, range=(-30000, 30000))\n",
    "sim_data.H1_PY.hist(bins=50, alpha=0.5 ,range=(-30000, 30000))"
   ]
  },
  {
   "cell_type": "code",
   "execution_count": 6,
   "metadata": {},
   "outputs": [
    {
     "data": {
      "text/plain": [
       "<matplotlib.axes._subplots.AxesSubplot at 0x7f82802b3d30>"
      ]
     },
     "execution_count": 6,
     "metadata": {},
     "output_type": "execute_result"
    },
    {
     "data": {
      "image/png": "[encoded data removed]",
      "text/plain": [
       "<Figure size 432x288 with 1 Axes>"
      ]
     },
     "metadata": {
      "needs_background": "light"
     },
     "output_type": "display_data"
    }
   ],
   "source": [
    "sim_data.H1_PZ.hist(bins=50)"
   ]
  },
  {
   "cell_type": "code",
   "execution_count": 7,
   "metadata": {
    "jupyter": {
     "outputs_hidden": true
    }
   },
   "outputs": [
    {
     "name": "stdout",
     "output_type": "stream",
     "text": [
      "Magnitude of the momentum of the first kaon candidate: 0         24221.955218\n",
      "1         36297.623109\n",
      "2          8260.794099\n",
      "3        222845.073179\n",
      "4         22295.430810\n",
      "5         53560.070989\n",
      "6         57385.200742\n",
      "7        265652.220796\n",
      "8        191664.147197\n",
      "9        390833.646668\n",
      "10        54687.307896\n",
      "11        76881.665496\n",
      "12       235921.693450\n",
      "13       181747.941562\n",
      "14       503604.088873\n",
      "15       158558.557604\n",
      "16       369279.791249\n",
      "17       473972.512983\n",
      "18        11618.813272\n",
      "19        70591.128291\n",
      "20        11324.104704\n",
      "21        28966.292614\n",
      "22       149415.874376\n",
      "23        13959.941472\n",
      "24       150897.424813\n",
      "25       303931.957374\n",
      "26       402580.428633\n",
      "27       113114.676274\n",
      "28       164190.899807\n",
      "29        34964.826933\n",
      "             ...      \n",
      "49970      3249.268418\n",
      "49971    215989.990520\n",
      "49972      5496.433021\n",
      "49973     12154.603492\n",
      "49974    236702.507958\n",
      "49975     14429.529258\n",
      "49976     57163.844954\n",
      "49977    285660.871229\n",
      "49978    212569.296557\n",
      "49979     16307.340975\n",
      "49980    110687.586695\n",
      "49981     51156.837130\n",
      "49982    239452.629775\n",
      "49983     39235.420688\n",
      "49984    150276.306292\n",
      "49985    375063.019860\n",
      "49986    276539.853148\n",
      "49987    169213.446643\n",
      "49988     59044.013358\n",
      "49989    206046.563958\n",
      "49990     19473.025869\n",
      "49991    226590.639241\n",
      "49992      9395.077043\n",
      "49993    201919.938271\n",
      "49994     49620.568096\n",
      "49995    193700.521285\n",
      "49996    216580.005876\n",
      "49997     10434.769860\n",
      "49998     96600.886896\n",
      "49999    503369.726297\n",
      "Length: 50000, dtype: float64\n"
     ]
    }
   ],
   "source": [
    "# calculate a variable for the magnitude of the momentum of the first kaon \n",
    "px1 = sim_data.H1_PX\n",
    "py1 = sim_data.H1_PY\n",
    "pz1 = sim_data.H1_PZ\n",
    "\n",
    "p1 = np.sqrt(px1**2 + py1**2 + pz1**2)\n",
    "print(\"Magnitude of the momentum of the first kaon candidate:\", p1)\n",
    "\n",
    "sim_data[\"H1_P\"] = p1 "
   ]
  },
  {
   "cell_type": "markdown",
   "metadata": {
    "heading_collapsed": true
   },
   "source": [
    "### Hints"
   ]
  },
  {
   "cell_type": "markdown",
   "metadata": {
    "hidden": true
   },
   "source": [
    "**Histogram plotting** - You can use the `hist()` function. The parameters `bins(n)` and `range(x,y)` allow you to chose the binning and the range of the histogram."
   ]
  },
  {
   "cell_type": "markdown",
   "metadata": {},
   "source": [
    "## Energy and mass\n",
    "\n",
    "Einstein's theory of special relativity relates energy, mass and momentum.\n",
    "The momentum of the kaon candidates is measured with the detector (For one candidate you already plotted the components and the magnitude). The invariant mass of the kaon is well known and you can look it up. We wish to determine the energy of the kaons. With all these information you can calculate the energy of the kaon candidates easily using:\n",
    "\n",
    "\n",
    "<latex> $E^2 = p^2 + m^2$ <latex>"
   ]
  },
  {
   "cell_type": "code",
   "execution_count": null,
   "metadata": {},
   "outputs": [],
   "source": []
  },
  {
   "cell_type": "code",
   "execution_count": 8,
   "metadata": {
    "jupyter": {
     "outputs_hidden": true
    },
    "run_control": {
     "frozen": false,
     "read_only": false
    }
   },
   "outputs": [],
   "source": [
    "# calculate the energy of the first kaon\n",
    "mK = 493.677 #MeV\n",
    "E1 = np.sqrt(px1**2 +py1**2 + pz1**2 + mK**2)\n",
    " \n",
    "sim_data[\"H1_E\"] = E1"
   ]
  },
  {
   "cell_type": "code",
   "execution_count": 9,
   "metadata": {
    "jupyter": {
     "outputs_hidden": true
    }
   },
   "outputs": [
    {
     "data": {
      "image/png": "[encoded data removed]",
      "text/plain": [
       "<Figure size 432x288 with 1 Axes>"
      ]
     },
     "metadata": {
      "needs_background": "light"
     },
     "output_type": "display_data"
    }
   ],
   "source": [
    "# plot a histogram of this variable\n",
    "plt.hist(E1, bins=50)\n",
    "plt.xlabel('Energy (MeV)')\n",
    "plt.ylabel('Frequency')\n",
    "plt.title('Histogram of First Kaon Energy')\n",
    "plt.show()"
   ]
  },
  {
   "cell_type": "markdown",
   "metadata": {
    "heading_collapsed": true
   },
   "source": [
    "### Hints"
   ]
  },
  {
   "cell_type": "markdown",
   "metadata": {
    "hidden": true
   },
   "source": [
    "**Energy calculation** - Use the magnitude of momentum variable you calculated above and the known invariant mass of the kaon to work out the energy of the first hadron. Calculate the energy squared, and then the energy and plot this.\n",
    "\n",
    "**Kaon mass** - you can find the kaon mass on wikipedia or in physics textbooks. A commonly used reference for these kind of information is the Particle Data Group ([PDG](http://pdg.lbl.gov/2014/reviews/rpp2014-rev-charged-kaon-mass.pdf)). All knowledge about the properties of discovered particles are collected there.\n"
   ]
  },
  {
   "cell_type": "markdown",
   "metadata": {
    "hidden": true
   },
   "source": [
    "Calculate the momenta and energies of the second and third kaon candidates as well."
   ]
  },
  {
   "cell_type": "code",
   "execution_count": 10,
   "metadata": {
    "hidden": true,
    "jupyter": {
     "outputs_hidden": true
    },
    "run_control": {
     "frozen": false,
     "read_only": false
    }
   },
   "outputs": [],
   "source": [
    "# calculate variables for the energy of the other two kaons\n",
    "# Kaon candidate 2\n",
    "px2 = sim_data.H2_PX\n",
    "py2 = sim_data.H2_PY\n",
    "pz2 = sim_data.H2_PZ\n",
    "\n",
    "p2 = np.sqrt(px2**2 + py2**2 + pz2**2)\n",
    "E2 = np.sqrt(px2**2 +py2**2 + pz2**2 + mK**2)\n",
    "\n",
    "# Kaon candidate 3\n",
    "px3 = sim_data.H3_PX\n",
    "py3 = sim_data.H3_PY\n",
    "pz3 = sim_data.H3_PZ\n",
    "\n",
    "p3 = np.sqrt(px3**2 + py3**2 + pz3**2)\n",
    "E3 = np.sqrt(p3**2 + mK**2)\n",
    "\n",
    "sim_data[\"H2_P\"] = p2 \n",
    "sim_data[\"H2_E\"] = E2\n",
    "sim_data[\"H3_P\"] = p3 \n",
    "sim_data[\"H3_E\"] = E3"
   ]
  },
  {
   "cell_type": "markdown",
   "metadata": {},
   "source": [
    "## Adding features of the $B$ meson\n",
    "\n",
    "In this analysis we are looking for B<sup>+</sup> or B<sup>-</sup> mesons (see [B meson](https://en.wikipedia.org/wiki/B_meson)) that have decayed into the three charged [kaons](https://en.wikipedia.org/wiki/Kaon).\n",
    "\n",
    "Energy is a conserved quantities. This means that you can use the energy of the three 'daughter' kaons, which you have calculated above, to calculate the energy that the B meson that decayed into them must have.\n",
    "\n",
    "Momentum is also a conserved quantity. Hence you can also use the momenta of the 'daughter' kaons to calculate the momentum of the B meson. But be careful - momentum is a **vector** quantity. \n",
    "\n",
    "Using the energy and the magnitude of the momentum you can use the energy-momentum relationship to calculate the invariant mass of the B meson."
   ]
  },
  {
   "cell_type": "code",
   "execution_count": 11,
   "metadata": {
    "jupyter": {
     "outputs_hidden": true
    },
    "run_control": {
     "frozen": false,
     "read_only": false
    }
   },
   "outputs": [],
   "source": [
    "# calculate the energy of the B meson\n",
    "E_B = E1 + E2 + E3\n",
    "sim_data[\"B_E\"] = E_B"
   ]
  },
  {
   "cell_type": "code",
   "execution_count": 12,
   "metadata": {
    "jupyter": {
     "outputs_hidden": true
    },
    "run_control": {
     "frozen": false,
     "read_only": false
    }
   },
   "outputs": [],
   "source": [
    "# calculate the momentum components of the B meson \n",
    "px_B = px1 + px2 + px3\n",
    "py_B = py1 + py2 + py3\n",
    "pz_B = pz1 + pz2 + pz3\n",
    "# and the magnitude of the momentum of the B meson\n",
    "p_B = np.sqrt(px_B**2 + py_B**2 + pz_B**2)\n",
    "\n",
    "sim_data[\"B_P\"] = p_B "
   ]
  },
  {
   "cell_type": "code",
   "execution_count": 13,
   "metadata": {
    "jupyter": {
     "outputs_hidden": true
    },
    "run_control": {
     "frozen": false,
     "read_only": false
    },
    "scrolled": true
   },
   "outputs": [
    {
     "data": {
      "image/png": "[encoded data removed]",
      "text/plain": [
       "<Figure size 432x288 with 1 Axes>"
      ]
     },
     "metadata": {
      "needs_background": "light"
     },
     "output_type": "display_data"
    }
   ],
   "source": [
    "# calculate the B meson invariant mass\n",
    "m_B = np.sqrt(E_B**2 - p_B**2)\n",
    "# plot the B meson invariant mass in a histogram\n",
    "\n",
    "m_B_lit = 5279.34\n",
    "plt.hist(m_B, bins=50, log=True, label='m(KKK)')\n",
    "plt.axvline(x=m_B_lit, color='red', linestyle='--', label='m(B)')\n",
    "plt.xlabel('Invariant Mass (MeV)')\n",
    "plt.ylabel('Frequency (log scale)')\n",
    "plt.title('Mass Distribution of reconstructed B Meson')\n",
    "plt.xticks([3500, 4000, 4500, 5000, m_B_lit])\n",
    "plt.legend()\n",
    "plt.show()\n",
    "\n",
    "sim_data[\"m_B\"] = E_B"
   ]
  },
  {
   "cell_type": "markdown",
   "metadata": {},
   "source": [
    "You should have a graph that sharply peaks at the mass of the B<sup>+</sup> meson. The mass of the B<sup>+</sup> and B<sup>-</sup> meson are the same. Check that the peak of your graph is at the [known mass](http://pdg.lbl.gov/2014/listings/rpp2014-list-B-plus-minus.pdf) of the B meson. \n",
    "\n",
    "Recall that you have made this plot for simulated data. How might you expect the plots for real data to look different ? \n",
    "\n",
    "**Congratulations, you finished your first analysis steps!**\n",
    "In the next section you will start to work with the real LHC data."
   ]
  },
  {
   "cell_type": "markdown",
   "metadata": {
    "heading_collapsed": true
   },
   "source": [
    "### Hints"
   ]
  },
  {
   "cell_type": "markdown",
   "metadata": {
    "hidden": true
   },
   "source": [
    "**B Meson Energy** - From energy conservation, the energy of the B meson will be the sum of the energies of the three kaons: $E_B=E_{K1}+E_{K2}+E_{K3}$, where $E_B$ is the energy of the B meson, $E_{K1}, E_{K2}, E_{K3}$ are the energies of each of the kaons. \n",
    "\n",
    "**B meson momentum** - From momentum conservation, the X component of the momentum of the B meson will be the sum of the X momentum components of the three Kaons : $px_B=px_{K1}+px_{K2}+px_{K3}$, where $px$ is the X direction component of the momentum of the B meson, $px_{K1},px_{K2},px_{K3}$ are the X direction components of the momenta of the three kaons. You can then do the same with the Y and Z components. Having obtained the X,Y, and z components of the B momentum you can find the magnitude of the momentum of the B meson.\n",
    "\n",
    "**B meson invariant mass*** - Rearrange the equation $E^2=p^2+m^2$ to find $m^2$. Using the values of the magnitude of the momentum of the B meson and the B meson Energy, find the mass of the B meson.\n",
    "\n",
    "**Histogram plotting** - Take care that the range of your mass plot is set suitably that you can see the mass peak.\n",
    "\n",
    "**Units** - The data you are provided use the unit 'MeV' (10<sup>6</sup> electron volts) for momenta.\n"
   ]
  },
  {
   "cell_type": "markdown",
   "metadata": {},
   "source": [
    "# Working with real data\n",
    "## Aims:\n",
    "\n",
    "* Filter out data that is not coming from the B<sup>+</sup> → K<sup>+</sup>K<sup>+</sup>K<sup>−</sup> decay channel, or the antiparticle equivalent B<sup>-</sup> → K<sup>+</sup>K<sup>-</sup>K<sup>−</sup>\n",
    "\n",
    "* Plot a histogram of B-meson mass for the real data and observe how different cuts affect the data"
   ]
  },
  {
   "cell_type": "markdown",
   "metadata": {},
   "source": [
    "In the previous section simulated data have been used to determine the invariant B<sup>±</sup> mass. Now you are going to utilize real LHCb data, recorded in 2011 during the first major data taking period of the LHC.\n",
    "\n",
    "The data you are given has been filtered to select only events that are likely to have come from B<sup>+</sup> or B<sup>-</sup> mesons decaying into three final state charged particles. You are interested in the case where these three final state paticles are charged kaons K<sup>+</sup> or K<sup>-</sup>.\n",
    "\n",
    "\n",
    "## Preselection\n",
    "You want to apply a preselection to the data to select only events that have a high probability to contain three kaons in the final state. Therefore, you will need to:\n",
    "* Ensure that they are not muons (use `H1_isMuon` and the equivilant for `H2` and `H3`)\n",
    "* Require that they each have a low probability of being pions (e.g. `H1_ProbPi < 0.5`)\n",
    "* Require that they each have a high probability of being a kaon (e.g. `H1_ProbK > 0.5`)\n",
    "\n",
    "You need to find a balance between making cuts that are too loose and include too many background events and too tight and reject too many of your signal events.\n",
    "Feel free to come back to this stage later and adjust your cuts to see the impact. \n",
    "\n",
    "Now develop your preselection and name it `'preselection'`. We have provided an example preselection in the hints, so feel free to use that to get started if you wish. Redefine the preselection after you have studied the plots and check the impact."
   ]
  },
  {
   "cell_type": "markdown",
   "metadata": {},
   "source": [
    "Make histograms of the probability of a final state particle being a kaon or a pion.\n",
    "These will help to guide you on suitable probability values to cut on.\n",
    "\n",
    "You can also consider more sophisticated options like 2-D plots of kaon and pion probabilities or different values of the cuts for the different final state particles."
   ]
  },
  {
   "cell_type": "code",
   "execution_count": 14,
   "metadata": {},
   "outputs": [],
   "source": [
    "real_data = read_root(['/data/B2HHH_MagnetUp.root', '/data/B2HHH_MagnetDown.root'])"
   ]
  },
  {
   "cell_type": "code",
   "execution_count": 15,
   "metadata": {},
   "outputs": [
    {
     "data": {
      "text/html": [
       "<div>\n",
       "<style scoped>\n",
       "    .dataframe tbody tr th:only-of-type {\n",
       "        vertical-align: middle;\n",
       "    }\n",
       "\n",
       "    .dataframe tbody tr th {\n",
       "        vertical-align: top;\n",
       "    }\n",
       "\n",
       "    .dataframe thead th {\n",
       "        text-align: right;\n",
       "    }\n",
       "</style>\n",
       "<table border=\"1\" class=\"dataframe\">\n",
       "  <thead>\n",
       "    <tr style=\"text-align: right;\">\n",
       "      <th></th>\n",
       "      <th>B_FlightDistance</th>\n",
       "      <th>B_VertexChi2</th>\n",
       "      <th>H1_PX</th>\n",
       "      <th>H1_PY</th>\n",
       "      <th>H1_PZ</th>\n",
       "      <th>H1_ProbK</th>\n",
       "      <th>H1_ProbPi</th>\n",
       "      <th>H1_Charge</th>\n",
       "      <th>H1_IPChi2</th>\n",
       "      <th>H1_isMuon</th>\n",
       "      <th>H2_PX</th>\n",
       "      <th>H2_PY</th>\n",
       "      <th>H2_PZ</th>\n",
       "      <th>H2_ProbK</th>\n",
       "      <th>H2_ProbPi</th>\n",
       "      <th>H2_Charge</th>\n",
       "      <th>H2_IPChi2</th>\n",
       "      <th>H2_isMuon</th>\n",
       "      <th>H3_PX</th>\n",
       "      <th>H3_PY</th>\n",
       "      <th>H3_PZ</th>\n",
       "      <th>H3_ProbK</th>\n",
       "      <th>H3_ProbPi</th>\n",
       "      <th>H3_Charge</th>\n",
       "      <th>H3_IPChi2</th>\n",
       "      <th>H3_isMuon</th>\n",
       "    </tr>\n",
       "  </thead>\n",
       "  <tbody>\n",
       "    <tr>\n",
       "      <th>count</th>\n",
       "      <td>8.556118e+06</td>\n",
       "      <td>8.556118e+06</td>\n",
       "      <td>8.556118e+06</td>\n",
       "      <td>8.556118e+06</td>\n",
       "      <td>8.556118e+06</td>\n",
       "      <td>8.556118e+06</td>\n",
       "      <td>8.556118e+06</td>\n",
       "      <td>8.556118e+06</td>\n",
       "      <td>8.556118e+06</td>\n",
       "      <td>8.556118e+06</td>\n",
       "      <td>8.556118e+06</td>\n",
       "      <td>8.556118e+06</td>\n",
       "      <td>8.556118e+06</td>\n",
       "      <td>8.556118e+06</td>\n",
       "      <td>8.556118e+06</td>\n",
       "      <td>8.556118e+06</td>\n",
       "      <td>8.556118e+06</td>\n",
       "      <td>8.556118e+06</td>\n",
       "      <td>8.556118e+06</td>\n",
       "      <td>8.556118e+06</td>\n",
       "      <td>8.556118e+06</td>\n",
       "      <td>8.556118e+06</td>\n",
       "      <td>8.556118e+06</td>\n",
       "      <td>8.556118e+06</td>\n",
       "      <td>8.556118e+06</td>\n",
       "      <td>8.556118e+06</td>\n",
       "    </tr>\n",
       "    <tr>\n",
       "      <th>mean</th>\n",
       "      <td>1.304660e+01</td>\n",
       "      <td>5.430332e+00</td>\n",
       "      <td>-3.162438e+01</td>\n",
       "      <td>3.839488e+01</td>\n",
       "      <td>4.929132e+04</td>\n",
       "      <td>1.260412e-01</td>\n",
       "      <td>5.234316e-01</td>\n",
       "      <td>-1.695535e-02</td>\n",
       "      <td>7.834023e+02</td>\n",
       "      <td>1.388047e-01</td>\n",
       "      <td>-6.203470e+00</td>\n",
       "      <td>1.560930e+01</td>\n",
       "      <td>2.368052e+04</td>\n",
       "      <td>1.606411e-01</td>\n",
       "      <td>5.356461e-01</td>\n",
       "      <td>1.695535e-02</td>\n",
       "      <td>9.216580e+02</td>\n",
       "      <td>8.227563e-02</td>\n",
       "      <td>-4.954164e+01</td>\n",
       "      <td>6.035465e+01</td>\n",
       "      <td>7.645202e+04</td>\n",
       "      <td>1.854344e-01</td>\n",
       "      <td>4.552695e-01</td>\n",
       "      <td>1.695535e-02</td>\n",
       "      <td>7.394071e+02</td>\n",
       "      <td>1.190410e-01</td>\n",
       "    </tr>\n",
       "    <tr>\n",
       "      <th>std</th>\n",
       "      <td>2.144604e+01</td>\n",
       "      <td>3.327471e+00</td>\n",
       "      <td>2.220791e+03</td>\n",
       "      <td>2.128363e+03</td>\n",
       "      <td>5.484245e+04</td>\n",
       "      <td>3.233255e+00</td>\n",
       "      <td>3.243419e+00</td>\n",
       "      <td>9.998563e-01</td>\n",
       "      <td>3.205236e+03</td>\n",
       "      <td>3.457426e-01</td>\n",
       "      <td>1.021661e+03</td>\n",
       "      <td>9.817932e+02</td>\n",
       "      <td>2.437902e+04</td>\n",
       "      <td>3.480936e+00</td>\n",
       "      <td>3.489230e+00</td>\n",
       "      <td>9.998563e-01</td>\n",
       "      <td>3.925429e+03</td>\n",
       "      <td>2.747842e-01</td>\n",
       "      <td>3.133082e+03</td>\n",
       "      <td>2.977922e+03</td>\n",
       "      <td>6.450054e+04</td>\n",
       "      <td>2.893602e+00</td>\n",
       "      <td>2.897927e+00</td>\n",
       "      <td>9.998563e-01</td>\n",
       "      <td>2.651832e+03</td>\n",
       "      <td>3.238368e-01</td>\n",
       "    </tr>\n",
       "    <tr>\n",
       "      <th>min</th>\n",
       "      <td>3.000001e+00</td>\n",
       "      <td>1.264907e-04</td>\n",
       "      <td>-1.224754e+05</td>\n",
       "      <td>-6.134859e+05</td>\n",
       "      <td>1.409112e+03</td>\n",
       "      <td>-1.000000e+03</td>\n",
       "      <td>-1.000000e+03</td>\n",
       "      <td>-1.000000e+00</td>\n",
       "      <td>1.000002e+00</td>\n",
       "      <td>0.000000e+00</td>\n",
       "      <td>-6.322138e+04</td>\n",
       "      <td>-5.879053e+04</td>\n",
       "      <td>1.402048e+03</td>\n",
       "      <td>-1.000000e+03</td>\n",
       "      <td>-1.000000e+03</td>\n",
       "      <td>-1.000000e+00</td>\n",
       "      <td>1.000000e+00</td>\n",
       "      <td>0.000000e+00</td>\n",
       "      <td>-1.845860e+05</td>\n",
       "      <td>-6.134859e+05</td>\n",
       "      <td>1.416576e+03</td>\n",
       "      <td>-1.000000e+03</td>\n",
       "      <td>-1.000000e+03</td>\n",
       "      <td>-1.000000e+00</td>\n",
       "      <td>1.000000e+00</td>\n",
       "      <td>0.000000e+00</td>\n",
       "    </tr>\n",
       "    <tr>\n",
       "      <th>25%</th>\n",
       "      <td>5.195601e+00</td>\n",
       "      <td>2.552722e+00</td>\n",
       "      <td>-9.580895e+02</td>\n",
       "      <td>-8.106387e+02</td>\n",
       "      <td>1.198366e+04</td>\n",
       "      <td>1.110530e-02</td>\n",
       "      <td>2.169049e-01</td>\n",
       "      <td>-1.000000e+00</td>\n",
       "      <td>5.308578e+00</td>\n",
       "      <td>0.000000e+00</td>\n",
       "      <td>-4.336654e+02</td>\n",
       "      <td>-4.340350e+02</td>\n",
       "      <td>7.060239e+03</td>\n",
       "      <td>1.098499e-02</td>\n",
       "      <td>1.369486e-01</td>\n",
       "      <td>-1.000000e+00</td>\n",
       "      <td>3.653295e+00</td>\n",
       "      <td>0.000000e+00</td>\n",
       "      <td>-1.929098e+03</td>\n",
       "      <td>-1.625005e+03</td>\n",
       "      <td>2.777735e+04</td>\n",
       "      <td>2.037883e-02</td>\n",
       "      <td>1.544116e-01</td>\n",
       "      <td>-1.000000e+00</td>\n",
       "      <td>8.826883e+00</td>\n",
       "      <td>0.000000e+00</td>\n",
       "    </tr>\n",
       "    <tr>\n",
       "      <th>50%</th>\n",
       "      <td>8.002593e+00</td>\n",
       "      <td>5.065350e+00</td>\n",
       "      <td>-2.555744e+01</td>\n",
       "      <td>3.596775e+01</td>\n",
       "      <td>2.915081e+04</td>\n",
       "      <td>3.939587e-02</td>\n",
       "      <td>5.621122e-01</td>\n",
       "      <td>-1.000000e+00</td>\n",
       "      <td>1.065561e+02</td>\n",
       "      <td>0.000000e+00</td>\n",
       "      <td>-1.184591e+01</td>\n",
       "      <td>2.014252e+01</td>\n",
       "      <td>1.522304e+04</td>\n",
       "      <td>3.229675e-02</td>\n",
       "      <td>6.336143e-01</td>\n",
       "      <td>1.000000e+00</td>\n",
       "      <td>6.666076e+01</td>\n",
       "      <td>0.000000e+00</td>\n",
       "      <td>-7.532615e+01</td>\n",
       "      <td>1.003384e+02</td>\n",
       "      <td>5.998320e+04</td>\n",
       "      <td>7.378310e-02</td>\n",
       "      <td>4.611365e-01</td>\n",
       "      <td>1.000000e+00</td>\n",
       "      <td>1.693553e+02</td>\n",
       "      <td>0.000000e+00</td>\n",
       "    </tr>\n",
       "    <tr>\n",
       "      <th>75%</th>\n",
       "      <td>1.371131e+01</td>\n",
       "      <td>8.153070e+00</td>\n",
       "      <td>8.973204e+02</td>\n",
       "      <td>8.933424e+02</td>\n",
       "      <td>6.867737e+04</td>\n",
       "      <td>1.433816e-01</td>\n",
       "      <td>8.532048e-01</td>\n",
       "      <td>1.000000e+00</td>\n",
       "      <td>7.240711e+02</td>\n",
       "      <td>0.000000e+00</td>\n",
       "      <td>4.261180e+02</td>\n",
       "      <td>4.655936e+02</td>\n",
       "      <td>3.173189e+04</td>\n",
       "      <td>1.755018e-01</td>\n",
       "      <td>8.884645e-01</td>\n",
       "      <td>1.000000e+00</td>\n",
       "      <td>7.941545e+02</td>\n",
       "      <td>0.000000e+00</td>\n",
       "      <td>1.829969e+03</td>\n",
       "      <td>1.738433e+03</td>\n",
       "      <td>1.089018e+05</td>\n",
       "      <td>2.280300e-01</td>\n",
       "      <td>7.286100e-01</td>\n",
       "      <td>1.000000e+00</td>\n",
       "      <td>7.443710e+02</td>\n",
       "      <td>0.000000e+00</td>\n",
       "    </tr>\n",
       "    <tr>\n",
       "      <th>max</th>\n",
       "      <td>2.621654e+03</td>\n",
       "      <td>1.200000e+01</td>\n",
       "      <td>2.411849e+05</td>\n",
       "      <td>4.801947e+05</td>\n",
       "      <td>1.998913e+07</td>\n",
       "      <td>9.820957e-01</td>\n",
       "      <td>9.978566e-01</td>\n",
       "      <td>1.000000e+00</td>\n",
       "      <td>1.743161e+06</td>\n",
       "      <td>1.000000e+00</td>\n",
       "      <td>4.609276e+04</td>\n",
       "      <td>3.037502e+04</td>\n",
       "      <td>1.920996e+06</td>\n",
       "      <td>9.823745e-01</td>\n",
       "      <td>9.978297e-01</td>\n",
       "      <td>1.000000e+00</td>\n",
       "      <td>1.574505e+06</td>\n",
       "      <td>1.000000e+00</td>\n",
       "      <td>2.787094e+05</td>\n",
       "      <td>2.944744e+05</td>\n",
       "      <td>1.998913e+07</td>\n",
       "      <td>9.820749e-01</td>\n",
       "      <td>9.976180e-01</td>\n",
       "      <td>1.000000e+00</td>\n",
       "      <td>1.075755e+06</td>\n",
       "      <td>1.000000e+00</td>\n",
       "    </tr>\n",
       "  </tbody>\n",
       "</table>\n",
       "</div>"
      ],
      "text/plain": [
       "       B_FlightDistance  B_VertexChi2         H1_PX         H1_PY  \\\n",
       "count      8.556118e+06  8.556118e+06  8.556118e+06  8.556118e+06   \n",
       "mean       1.304660e+01  5.430332e+00 -3.162438e+01  3.839488e+01   \n",
       "std        2.144604e+01  3.327471e+00  2.220791e+03  2.128363e+03   \n",
       "min        3.000001e+00  1.264907e-04 -1.224754e+05 -6.134859e+05   \n",
       "25%        5.195601e+00  2.552722e+00 -9.580895e+02 -8.106387e+02   \n",
       "50%        8.002593e+00  5.065350e+00 -2.555744e+01  3.596775e+01   \n",
       "75%        1.371131e+01  8.153070e+00  8.973204e+02  8.933424e+02   \n",
       "max        2.621654e+03  1.200000e+01  2.411849e+05  4.801947e+05   \n",
       "\n",
       "              H1_PZ      H1_ProbK     H1_ProbPi     H1_Charge     H1_IPChi2  \\\n",
       "count  8.556118e+06  8.556118e+06  8.556118e+06  8.556118e+06  8.556118e+06   \n",
       "mean   4.929132e+04  1.260412e-01  5.234316e-01 -1.695535e-02  7.834023e+02   \n",
       "std    5.484245e+04  3.233255e+00  3.243419e+00  9.998563e-01  3.205236e+03   \n",
       "min    1.409112e+03 -1.000000e+03 -1.000000e+03 -1.000000e+00  1.000002e+00   \n",
       "25%    1.198366e+04  1.110530e-02  2.169049e-01 -1.000000e+00  5.308578e+00   \n",
       "50%    2.915081e+04  3.939587e-02  5.621122e-01 -1.000000e+00  1.065561e+02   \n",
       "75%    6.867737e+04  1.433816e-01  8.532048e-01  1.000000e+00  7.240711e+02   \n",
       "max    1.998913e+07  9.820957e-01  9.978566e-01  1.000000e+00  1.743161e+06   \n",
       "\n",
       "          H1_isMuon         H2_PX         H2_PY         H2_PZ      H2_ProbK  \\\n",
       "count  8.556118e+06  8.556118e+06  8.556118e+06  8.556118e+06  8.556118e+06   \n",
       "mean   1.388047e-01 -6.203470e+00  1.560930e+01  2.368052e+04  1.606411e-01   \n",
       "std    3.457426e-01  1.021661e+03  9.817932e+02  2.437902e+04  3.480936e+00   \n",
       "min    0.000000e+00 -6.322138e+04 -5.879053e+04  1.402048e+03 -1.000000e+03   \n",
       "25%    0.000000e+00 -4.336654e+02 -4.340350e+02  7.060239e+03  1.098499e-02   \n",
       "50%    0.000000e+00 -1.184591e+01  2.014252e+01  1.522304e+04  3.229675e-02   \n",
       "75%    0.000000e+00  4.261180e+02  4.655936e+02  3.173189e+04  1.755018e-01   \n",
       "max    1.000000e+00  4.609276e+04  3.037502e+04  1.920996e+06  9.823745e-01   \n",
       "\n",
       "          H2_ProbPi     H2_Charge     H2_IPChi2     H2_isMuon         H3_PX  \\\n",
       "count  8.556118e+06  8.556118e+06  8.556118e+06  8.556118e+06  8.556118e+06   \n",
       "mean   5.356461e-01  1.695535e-02  9.216580e+02  8.227563e-02 -4.954164e+01   \n",
       "std    3.489230e+00  9.998563e-01  3.925429e+03  2.747842e-01  3.133082e+03   \n",
       "min   -1.000000e+03 -1.000000e+00  1.000000e+00  0.000000e+00 -1.845860e+05   \n",
       "25%    1.369486e-01 -1.000000e+00  3.653295e+00  0.000000e+00 -1.929098e+03   \n",
       "50%    6.336143e-01  1.000000e+00  6.666076e+01  0.000000e+00 -7.532615e+01   \n",
       "75%    8.884645e-01  1.000000e+00  7.941545e+02  0.000000e+00  1.829969e+03   \n",
       "max    9.978297e-01  1.000000e+00  1.574505e+06  1.000000e+00  2.787094e+05   \n",
       "\n",
       "              H3_PY         H3_PZ      H3_ProbK     H3_ProbPi     H3_Charge  \\\n",
       "count  8.556118e+06  8.556118e+06  8.556118e+06  8.556118e+06  8.556118e+06   \n",
       "mean   6.035465e+01  7.645202e+04  1.854344e-01  4.552695e-01  1.695535e-02   \n",
       "std    2.977922e+03  6.450054e+04  2.893602e+00  2.897927e+00  9.998563e-01   \n",
       "min   -6.134859e+05  1.416576e+03 -1.000000e+03 -1.000000e+03 -1.000000e+00   \n",
       "25%   -1.625005e+03  2.777735e+04  2.037883e-02  1.544116e-01 -1.000000e+00   \n",
       "50%    1.003384e+02  5.998320e+04  7.378310e-02  4.611365e-01  1.000000e+00   \n",
       "75%    1.738433e+03  1.089018e+05  2.280300e-01  7.286100e-01  1.000000e+00   \n",
       "max    2.944744e+05  1.998913e+07  9.820749e-01  9.976180e-01  1.000000e+00   \n",
       "\n",
       "          H3_IPChi2     H3_isMuon  \n",
       "count  8.556118e+06  8.556118e+06  \n",
       "mean   7.394071e+02  1.190410e-01  \n",
       "std    2.651832e+03  3.238368e-01  \n",
       "min    1.000000e+00  0.000000e+00  \n",
       "25%    8.826883e+00  0.000000e+00  \n",
       "50%    1.693553e+02  0.000000e+00  \n",
       "75%    7.443710e+02  0.000000e+00  \n",
       "max    1.075755e+06  1.000000e+00  "
      ]
     },
     "execution_count": 15,
     "metadata": {},
     "output_type": "execute_result"
    }
   ],
   "source": [
    "real_data.describe()"
   ]
  },
  {
   "cell_type": "code",
   "execution_count": 16,
   "metadata": {
    "jupyter": {
     "outputs_hidden": true
    },
    "run_control": {
     "frozen": false,
     "read_only": false
    }
   },
   "outputs": [
    {
     "data": {
      "image/png": "[encoded data removed]",
      "text/plain": [
       "<Figure size 720x720 with 4 Axes>"
      ]
     },
     "metadata": {
      "needs_background": "light"
     },
     "output_type": "display_data"
    }
   ],
   "source": [
    "from matplotlib.colors import LogNorm\n",
    "\n",
    "\n",
    "# Create a figure and axes\n",
    "fig = plt.figure(figsize=(10, 10))\n",
    "\n",
    "# Main 2D Histogram\n",
    "ax_main = fig.add_subplot(111, aspect='equal')\n",
    "h = ax_main.hist2d(real_data.H1_ProbK, real_data.H1_ProbPi, bins=50, norm=LogNorm(), range=[[0, 1], [0, 1]], cmap='viridis')\n",
    "ax_main.set_xlabel('Prob_K')\n",
    "ax_main.set_ylabel('Prob_Pi')\n",
    "\n",
    "# Right Marginal Histogram\n",
    "ax_right = fig.add_axes([ax_main.get_position().x1 + 0.01, ax_main.get_position().y0,\n",
    "                         0.1, ax_main.get_position().height])\n",
    "ax_right.hist(real_data.H1_ProbPi, bins=50, range=[0, 1], alpha=0.5, color='blue', density=True, orientation='horizontal')\n",
    "ax_right.set_xticks([])\n",
    "ax_right.set_ylabel('Density')\n",
    "\n",
    "# Top Marginal Histogram\n",
    "ax_top = fig.add_axes([ax_main.get_position().x0, ax_main.get_position().y1 + 0.01,\n",
    "                       ax_main.get_position().width, 0.1])\n",
    "ax_top.hist(real_data.H1_ProbK, bins=50, range=[0, 1], alpha=0.5, color='red', density=True)\n",
    "ax_top.set_yticks([])\n",
    "\n",
    "# Colorbar\n",
    "cax = fig.add_axes([ax_right.get_position().x1 + 0.01, ax_right.get_position().y0, 0.02, ax_right.get_position().height])\n",
    "plt.colorbar(h[3], cax=cax)\n",
    "\n",
    "plt.show()\n"
   ]
  },
  {
   "cell_type": "code",
   "execution_count": 17,
   "metadata": {
    "jupyter": {
     "outputs_hidden": true
    }
   },
   "outputs": [
    {
     "data": {
      "text/plain": [
       "<matplotlib.axes._subplots.AxesSubplot at 0x7f82800c6978>"
      ]
     },
     "execution_count": 17,
     "metadata": {},
     "output_type": "execute_result"
    },
    {
     "data": {
      "image/png": "[encoded data removed]",
      "text/plain": [
       "<Figure size 432x288 with 1 Axes>"
      ]
     },
     "metadata": {
      "needs_background": "light"
     },
     "output_type": "display_data"
    }
   ],
   "source": [
    "real_data.H1_isMuon.hist(bins=2)"
   ]
  },
  {
   "cell_type": "code",
   "execution_count": 18,
   "metadata": {
    "jupyter": {
     "outputs_hidden": true
    },
    "run_control": {
     "frozen": false,
     "read_only": false
    }
   },
   "outputs": [],
   "source": [
    "# Make your preselection here, this line applies no preselection\n",
    "isMuon = \"H1_isMuon==0 & H2_isMuon==0 & H3_isMuon==0 & \"\n",
    "ProbPi = \"H1_ProbK-H1_ProbPi>0 & H2_ProbK-H2_ProbPi>0 & H3_ProbK-H3_ProbPi>0 &\"\n",
    "ProbK = \"H1_ProbK > 0.8 & H2_ProbK > 0.8 & H3_ProbK > 0.8 &\"\n",
    "Charge = \"(H1_Charge + H2_Charge + H3_Charge == -1 || H1_Charge + H2_Charge + H3_Charge == +1)\"\n",
    "\n",
    "preselection = isMuon + ProbPi + ProbK + Charge"
   ]
  },
  {
   "cell_type": "markdown",
   "metadata": {},
   "source": [
    "This next line of code just loads the real data into a new DataFrame and applies your created preselection`'preselection'`. This may take a few minutes due to the size of the data sample."
   ]
  },
  {
   "cell_type": "code",
   "execution_count": 19,
   "metadata": {},
   "outputs": [],
   "source": [
    "real_data = read_root(['/data/B2HHH_MagnetUp.root', '/data/B2HHH_MagnetDown.root'], where=preselection)"
   ]
  },
  {
   "cell_type": "code",
   "execution_count": 20,
   "metadata": {},
   "outputs": [
    {
     "data": {
      "text/html": [
       "<div>\n",
       "<style scoped>\n",
       "    .dataframe tbody tr th:only-of-type {\n",
       "        vertical-align: middle;\n",
       "    }\n",
       "\n",
       "    .dataframe tbody tr th {\n",
       "        vertical-align: top;\n",
       "    }\n",
       "\n",
       "    .dataframe thead th {\n",
       "        text-align: right;\n",
       "    }\n",
       "</style>\n",
       "<table border=\"1\" class=\"dataframe\">\n",
       "  <thead>\n",
       "    <tr style=\"text-align: right;\">\n",
       "      <th></th>\n",
       "      <th>B_FlightDistance</th>\n",
       "      <th>B_VertexChi2</th>\n",
       "      <th>H1_PX</th>\n",
       "      <th>H1_PY</th>\n",
       "      <th>H1_PZ</th>\n",
       "      <th>H1_ProbK</th>\n",
       "      <th>H1_ProbPi</th>\n",
       "      <th>H1_Charge</th>\n",
       "      <th>H1_IPChi2</th>\n",
       "      <th>H1_isMuon</th>\n",
       "      <th>H2_PX</th>\n",
       "      <th>H2_PY</th>\n",
       "      <th>H2_PZ</th>\n",
       "      <th>H2_ProbK</th>\n",
       "      <th>H2_ProbPi</th>\n",
       "      <th>H2_Charge</th>\n",
       "      <th>H2_IPChi2</th>\n",
       "      <th>H2_isMuon</th>\n",
       "      <th>H3_PX</th>\n",
       "      <th>H3_PY</th>\n",
       "      <th>H3_PZ</th>\n",
       "      <th>H3_ProbK</th>\n",
       "      <th>H3_ProbPi</th>\n",
       "      <th>H3_Charge</th>\n",
       "      <th>H3_IPChi2</th>\n",
       "      <th>H3_isMuon</th>\n",
       "    </tr>\n",
       "  </thead>\n",
       "  <tbody>\n",
       "    <tr>\n",
       "      <th>count</th>\n",
       "      <td>5635.000000</td>\n",
       "      <td>5635.000000</td>\n",
       "      <td>5635.000000</td>\n",
       "      <td>5635.000000</td>\n",
       "      <td>5635.000000</td>\n",
       "      <td>5635.000000</td>\n",
       "      <td>5635.000000</td>\n",
       "      <td>5635.000000</td>\n",
       "      <td>5635.000000</td>\n",
       "      <td>5635.0</td>\n",
       "      <td>5635.000000</td>\n",
       "      <td>5635.000000</td>\n",
       "      <td>5635.000000</td>\n",
       "      <td>5635.000000</td>\n",
       "      <td>5635.000000</td>\n",
       "      <td>5635.000000</td>\n",
       "      <td>5635.000000</td>\n",
       "      <td>5635.0</td>\n",
       "      <td>5635.000000</td>\n",
       "      <td>5635.000000</td>\n",
       "      <td>5635.000000</td>\n",
       "      <td>5635.000000</td>\n",
       "      <td>5635.000000</td>\n",
       "      <td>5635.000000</td>\n",
       "      <td>5635.000000</td>\n",
       "      <td>5635.0</td>\n",
       "    </tr>\n",
       "    <tr>\n",
       "      <th>mean</th>\n",
       "      <td>13.181308</td>\n",
       "      <td>4.041278</td>\n",
       "      <td>91.919988</td>\n",
       "      <td>-5.901466</td>\n",
       "      <td>34461.021173</td>\n",
       "      <td>0.921097</td>\n",
       "      <td>0.109242</td>\n",
       "      <td>-0.032476</td>\n",
       "      <td>1358.897109</td>\n",
       "      <td>0.0</td>\n",
       "      <td>38.801524</td>\n",
       "      <td>-4.815268</td>\n",
       "      <td>29811.484274</td>\n",
       "      <td>0.915357</td>\n",
       "      <td>0.097462</td>\n",
       "      <td>0.032476</td>\n",
       "      <td>1935.562132</td>\n",
       "      <td>0.0</td>\n",
       "      <td>87.441917</td>\n",
       "      <td>31.785326</td>\n",
       "      <td>41247.133265</td>\n",
       "      <td>0.928659</td>\n",
       "      <td>0.127021</td>\n",
       "      <td>0.032476</td>\n",
       "      <td>2267.169269</td>\n",
       "      <td>0.0</td>\n",
       "    </tr>\n",
       "    <tr>\n",
       "      <th>std</th>\n",
       "      <td>10.621751</td>\n",
       "      <td>3.002790</td>\n",
       "      <td>2343.276364</td>\n",
       "      <td>2126.914356</td>\n",
       "      <td>16759.950861</td>\n",
       "      <td>0.045888</td>\n",
       "      <td>0.083036</td>\n",
       "      <td>0.999561</td>\n",
       "      <td>3156.547951</td>\n",
       "      <td>0.0</td>\n",
       "      <td>1677.638776</td>\n",
       "      <td>1531.221171</td>\n",
       "      <td>14385.870250</td>\n",
       "      <td>0.046822</td>\n",
       "      <td>0.074249</td>\n",
       "      <td>0.999561</td>\n",
       "      <td>4803.371434</td>\n",
       "      <td>0.0</td>\n",
       "      <td>3212.039617</td>\n",
       "      <td>2843.409711</td>\n",
       "      <td>18580.113733</td>\n",
       "      <td>0.042703</td>\n",
       "      <td>0.095403</td>\n",
       "      <td>0.999561</td>\n",
       "      <td>4651.304608</td>\n",
       "      <td>0.0</td>\n",
       "    </tr>\n",
       "    <tr>\n",
       "      <th>min</th>\n",
       "      <td>3.003335</td>\n",
       "      <td>0.004078</td>\n",
       "      <td>-9311.186926</td>\n",
       "      <td>-10057.630068</td>\n",
       "      <td>4594.135580</td>\n",
       "      <td>0.800144</td>\n",
       "      <td>0.012823</td>\n",
       "      <td>-1.000000</td>\n",
       "      <td>1.017327</td>\n",
       "      <td>0.0</td>\n",
       "      <td>-7359.357843</td>\n",
       "      <td>-7357.803269</td>\n",
       "      <td>5204.728509</td>\n",
       "      <td>0.800010</td>\n",
       "      <td>0.013229</td>\n",
       "      <td>-1.000000</td>\n",
       "      <td>1.009664</td>\n",
       "      <td>0.0</td>\n",
       "      <td>-11396.278864</td>\n",
       "      <td>-9960.131733</td>\n",
       "      <td>7327.476109</td>\n",
       "      <td>0.800166</td>\n",
       "      <td>0.012587</td>\n",
       "      <td>-1.000000</td>\n",
       "      <td>1.118018</td>\n",
       "      <td>0.0</td>\n",
       "    </tr>\n",
       "    <tr>\n",
       "      <th>25%</th>\n",
       "      <td>6.436078</td>\n",
       "      <td>1.608825</td>\n",
       "      <td>-1443.246661</td>\n",
       "      <td>-1316.446160</td>\n",
       "      <td>21935.327903</td>\n",
       "      <td>0.915031</td>\n",
       "      <td>0.058776</td>\n",
       "      <td>-1.000000</td>\n",
       "      <td>133.194193</td>\n",
       "      <td>0.0</td>\n",
       "      <td>-1085.295588</td>\n",
       "      <td>-1050.643009</td>\n",
       "      <td>19216.417148</td>\n",
       "      <td>0.899096</td>\n",
       "      <td>0.055676</td>\n",
       "      <td>-1.000000</td>\n",
       "      <td>150.036697</td>\n",
       "      <td>0.0</td>\n",
       "      <td>-2284.321058</td>\n",
       "      <td>-2040.422904</td>\n",
       "      <td>26402.190151</td>\n",
       "      <td>0.919184</td>\n",
       "      <td>0.067825</td>\n",
       "      <td>-1.000000</td>\n",
       "      <td>322.897242</td>\n",
       "      <td>0.0</td>\n",
       "    </tr>\n",
       "    <tr>\n",
       "      <th>50%</th>\n",
       "      <td>10.054193</td>\n",
       "      <td>3.291998</td>\n",
       "      <td>88.773328</td>\n",
       "      <td>36.374456</td>\n",
       "      <td>31317.312612</td>\n",
       "      <td>0.932599</td>\n",
       "      <td>0.094152</td>\n",
       "      <td>-1.000000</td>\n",
       "      <td>427.510161</td>\n",
       "      <td>0.0</td>\n",
       "      <td>1.632449</td>\n",
       "      <td>-29.567799</td>\n",
       "      <td>26983.448645</td>\n",
       "      <td>0.927068</td>\n",
       "      <td>0.080071</td>\n",
       "      <td>1.000000</td>\n",
       "      <td>532.908858</td>\n",
       "      <td>0.0</td>\n",
       "      <td>174.676999</td>\n",
       "      <td>160.726798</td>\n",
       "      <td>38235.130052</td>\n",
       "      <td>0.939271</td>\n",
       "      <td>0.103483</td>\n",
       "      <td>1.000000</td>\n",
       "      <td>830.353957</td>\n",
       "      <td>0.0</td>\n",
       "    </tr>\n",
       "    <tr>\n",
       "      <th>75%</th>\n",
       "      <td>16.483354</td>\n",
       "      <td>5.922656</td>\n",
       "      <td>1622.750950</td>\n",
       "      <td>1361.566776</td>\n",
       "      <td>43981.206391</td>\n",
       "      <td>0.953572</td>\n",
       "      <td>0.129206</td>\n",
       "      <td>1.000000</td>\n",
       "      <td>1200.805553</td>\n",
       "      <td>0.0</td>\n",
       "      <td>1108.733974</td>\n",
       "      <td>1040.505163</td>\n",
       "      <td>37860.998101</td>\n",
       "      <td>0.948054</td>\n",
       "      <td>0.119917</td>\n",
       "      <td>1.000000</td>\n",
       "      <td>1683.591671</td>\n",
       "      <td>0.0</td>\n",
       "      <td>2433.947751</td>\n",
       "      <td>2097.526502</td>\n",
       "      <td>54058.689792</td>\n",
       "      <td>0.958676</td>\n",
       "      <td>0.140380</td>\n",
       "      <td>1.000000</td>\n",
       "      <td>2307.464390</td>\n",
       "      <td>0.0</td>\n",
       "    </tr>\n",
       "    <tr>\n",
       "      <th>max</th>\n",
       "      <td>288.000920</td>\n",
       "      <td>11.993023</td>\n",
       "      <td>10046.392373</td>\n",
       "      <td>9099.962014</td>\n",
       "      <td>116711.046810</td>\n",
       "      <td>0.981385</td>\n",
       "      <td>0.693387</td>\n",
       "      <td>1.000000</td>\n",
       "      <td>79713.574446</td>\n",
       "      <td>0.0</td>\n",
       "      <td>9092.228937</td>\n",
       "      <td>7000.574392</td>\n",
       "      <td>93871.752048</td>\n",
       "      <td>0.980252</td>\n",
       "      <td>0.703245</td>\n",
       "      <td>1.000000</td>\n",
       "      <td>152560.489797</td>\n",
       "      <td>0.0</td>\n",
       "      <td>11551.032435</td>\n",
       "      <td>9157.997854</td>\n",
       "      <td>115214.538599</td>\n",
       "      <td>0.980671</td>\n",
       "      <td>0.707328</td>\n",
       "      <td>1.000000</td>\n",
       "      <td>84594.000174</td>\n",
       "      <td>0.0</td>\n",
       "    </tr>\n",
       "  </tbody>\n",
       "</table>\n",
       "</div>"
      ],
      "text/plain": [
       "       B_FlightDistance  B_VertexChi2         H1_PX         H1_PY  \\\n",
       "count       5635.000000   5635.000000   5635.000000   5635.000000   \n",
       "mean          13.181308      4.041278     91.919988     -5.901466   \n",
       "std           10.621751      3.002790   2343.276364   2126.914356   \n",
       "min            3.003335      0.004078  -9311.186926 -10057.630068   \n",
       "25%            6.436078      1.608825  -1443.246661  -1316.446160   \n",
       "50%           10.054193      3.291998     88.773328     36.374456   \n",
       "75%           16.483354      5.922656   1622.750950   1361.566776   \n",
       "max          288.000920     11.993023  10046.392373   9099.962014   \n",
       "\n",
       "               H1_PZ     H1_ProbK    H1_ProbPi    H1_Charge     H1_IPChi2  \\\n",
       "count    5635.000000  5635.000000  5635.000000  5635.000000   5635.000000   \n",
       "mean    34461.021173     0.921097     0.109242    -0.032476   1358.897109   \n",
       "std     16759.950861     0.045888     0.083036     0.999561   3156.547951   \n",
       "min      4594.135580     0.800144     0.012823    -1.000000      1.017327   \n",
       "25%     21935.327903     0.915031     0.058776    -1.000000    133.194193   \n",
       "50%     31317.312612     0.932599     0.094152    -1.000000    427.510161   \n",
       "75%     43981.206391     0.953572     0.129206     1.000000   1200.805553   \n",
       "max    116711.046810     0.981385     0.693387     1.000000  79713.574446   \n",
       "\n",
       "       H1_isMuon        H2_PX        H2_PY         H2_PZ     H2_ProbK  \\\n",
       "count     5635.0  5635.000000  5635.000000   5635.000000  5635.000000   \n",
       "mean         0.0    38.801524    -4.815268  29811.484274     0.915357   \n",
       "std          0.0  1677.638776  1531.221171  14385.870250     0.046822   \n",
       "min          0.0 -7359.357843 -7357.803269   5204.728509     0.800010   \n",
       "25%          0.0 -1085.295588 -1050.643009  19216.417148     0.899096   \n",
       "50%          0.0     1.632449   -29.567799  26983.448645     0.927068   \n",
       "75%          0.0  1108.733974  1040.505163  37860.998101     0.948054   \n",
       "max          0.0  9092.228937  7000.574392  93871.752048     0.980252   \n",
       "\n",
       "         H2_ProbPi    H2_Charge      H2_IPChi2  H2_isMuon         H3_PX  \\\n",
       "count  5635.000000  5635.000000    5635.000000     5635.0   5635.000000   \n",
       "mean      0.097462     0.032476    1935.562132        0.0     87.441917   \n",
       "std       0.074249     0.999561    4803.371434        0.0   3212.039617   \n",
       "min       0.013229    -1.000000       1.009664        0.0 -11396.278864   \n",
       "25%       0.055676    -1.000000     150.036697        0.0  -2284.321058   \n",
       "50%       0.080071     1.000000     532.908858        0.0    174.676999   \n",
       "75%       0.119917     1.000000    1683.591671        0.0   2433.947751   \n",
       "max       0.703245     1.000000  152560.489797        0.0  11551.032435   \n",
       "\n",
       "             H3_PY          H3_PZ     H3_ProbK    H3_ProbPi    H3_Charge  \\\n",
       "count  5635.000000    5635.000000  5635.000000  5635.000000  5635.000000   \n",
       "mean     31.785326   41247.133265     0.928659     0.127021     0.032476   \n",
       "std    2843.409711   18580.113733     0.042703     0.095403     0.999561   \n",
       "min   -9960.131733    7327.476109     0.800166     0.012587    -1.000000   \n",
       "25%   -2040.422904   26402.190151     0.919184     0.067825    -1.000000   \n",
       "50%     160.726798   38235.130052     0.939271     0.103483     1.000000   \n",
       "75%    2097.526502   54058.689792     0.958676     0.140380     1.000000   \n",
       "max    9157.997854  115214.538599     0.980671     0.707328     1.000000   \n",
       "\n",
       "          H3_IPChi2  H3_isMuon  \n",
       "count   5635.000000     5635.0  \n",
       "mean    2267.169269        0.0  \n",
       "std     4651.304608        0.0  \n",
       "min        1.118018        0.0  \n",
       "25%      322.897242        0.0  \n",
       "50%      830.353957        0.0  \n",
       "75%     2307.464390        0.0  \n",
       "max    84594.000174        0.0  "
      ]
     },
     "execution_count": 20,
     "metadata": {},
     "output_type": "execute_result"
    }
   ],
   "source": [
    "real_data.describe()"
   ]
  },
  {
   "cell_type": "markdown",
   "metadata": {},
   "source": [
    "Now calculate the invariant mass of the B meson for the real data and plot a histogram of this. Which differences do you observe compared to the mass plotted with simulated data? Try to explain the differences. "
   ]
  },
  {
   "cell_type": "code",
   "execution_count": 21,
   "metadata": {
    "jupyter": {
     "outputs_hidden": true
    },
    "run_control": {
     "frozen": false,
     "read_only": false
    }
   },
   "outputs": [],
   "source": [
    "mK = 493.677 #MeV\n",
    "\n",
    "px1 = real_data.H1_PX\n",
    "py1 = real_data.H1_PY\n",
    "pz1 = real_data.H1_PZ\n",
    "\n",
    "p1 = np.sqrt(px1**2 + py1**2 + pz1**2)\n",
    "E1 = np.sqrt(p1**2 + mK**2)\n",
    "\n",
    "px2 = real_data.H2_PX\n",
    "py2 = real_data.H2_PY\n",
    "pz2 = real_data.H2_PZ\n",
    "\n",
    "p2 = np.sqrt(px2**2 + py2**2 + pz2**2)\n",
    "E2 = np.sqrt(p2**2 + mK**2)\n",
    "\n",
    "px3 = real_data.H3_PX\n",
    "py3 = real_data.H3_PY\n",
    "pz3 = real_data.H3_PZ\n",
    "\n",
    "p3 = np.sqrt(px3**2 + py3**2 + pz3**2)\n",
    "E3 = np.sqrt(p3**2 + mK**2)\n",
    "\n",
    "\n",
    "real_data[\"H1_P\"] = p1\n",
    "real_data[\"H2_P\"] = p2\n",
    "real_data[\"H3_P\"] = p3\n",
    "real_data[\"H1_E\"] = E1\n",
    "real_data[\"H2_E\"] = E2\n",
    "real_data[\"H3_E\"] = E3\n",
    "\n",
    "# calculate the energy of the B meson\n",
    "E_B = E1 + E2+ E3\n",
    "# calculate the momentum components of the B meson \n",
    "px_B = px1 + px2 + px3\n",
    "py_B = py1 + py2 + py3\n",
    "pz_B = pz1 + pz2 + pz3\n",
    "# and the magnitude of the momentum of the B meson\n",
    "p_B = np.sqrt(px_B**2 + py_B**2 + pz_B**2)\n",
    "# calculate the B meson invariant mass\n",
    "m_B = np.sqrt(E_B**2 - p_B**2)\n",
    "real_data['m_B'] = m_B\n"
   ]
  },
  {
   "cell_type": "code",
   "execution_count": 22,
   "metadata": {},
   "outputs": [
    {
     "data": {
      "image/png": "[encoded data removed]",
      "text/plain": [
       "<Figure size 432x288 with 1 Axes>"
      ]
     },
     "metadata": {
      "needs_background": "light"
     },
     "output_type": "display_data"
    }
   ],
   "source": [
    "#Cutte die ränder weg\n",
    "real_data = real_data[(real_data['m_B'] > 5179.34) & (real_data['m_B'] < 5379.34)]\n",
    "m_B = real_data[\"m_B\"]\n",
    "\n",
    "m_B_lit = 5279.34\n",
    "plt.hist(m_B, bins=75, range=(m_B_lit-101, m_B_lit+101), label='m(KKK)')\n",
    "plt.axvline(x=m_B_lit, color='red', linestyle='--', label='m(B)')\n",
    "plt.axvline(x=5179.34, color='red', linestyle='--')\n",
    "plt.axvline(x=5379.34, color='red', linestyle='--')\n",
    "plt.xlabel('Invariant Mass (MeV)')\n",
    "plt.ylabel('Frequency (log scale)')\n",
    "plt.title('Mass Distribution of reconstructed B Meson')\n",
    "plt.xticks([m_B_lit])\n",
    "plt.legend()\n",
    "plt.show()"
   ]
  },
  {
   "cell_type": "markdown",
   "metadata": {},
   "source": [
    "Experiment with different cuts and observe the impact of them on the invariant mass plot.\n",
    "You should select a set of cuts which preserves most of the signal while removing as much as possible of the background at the same time.\n",
    "Once you have finalised the selection on particle identification, make cuts on the reconstructed particle mass to select the events in the B meson mass peak, removing the background events which lie at lower and higher invariant masses. "
   ]
  },
  {
   "cell_type": "code",
   "execution_count": 23,
   "metadata": {},
   "outputs": [
    {
     "data": {
      "image/png": "[encoded data removed]",
      "text/plain": [
       "<Figure size 432x288 with 1 Axes>"
      ]
     },
     "metadata": {
      "needs_background": "light"
     },
     "output_type": "display_data"
    }
   ],
   "source": [
    "plt.figure()\n",
    "plt.hist(real_data.H1_IPChi2, bins=75, range=[0.,10000], label='data')\n",
    "plt.hist(sim_data.H1_IPChi2, bins=75, range=[0.,10000], label='sim')\n",
    "plt.xlabel('IP Chi2')\n",
    "plt.title('H1 IP Chi2')\n",
    "plt.yscale('log')\n",
    "plt.legend()\n",
    "plt.show()"
   ]
  },
  {
   "cell_type": "code",
   "execution_count": 24,
   "metadata": {},
   "outputs": [
    {
     "data": {
      "image/png": "[encoded data removed]",
      "text/plain": [
       "<Figure size 432x288 with 1 Axes>"
      ]
     },
     "metadata": {
      "needs_background": "light"
     },
     "output_type": "display_data"
    }
   ],
   "source": [
    "plt.figure()\n",
    "plt.hist(real_data.B_VertexChi2, bins=75, range=[0.,13], label='data')\n",
    "plt.hist(sim_data.B_VertexChi2, bins=75, range=[0.,13], label='sim')\n",
    "plt.xlabel('Vertex Chi2')\n",
    "plt.title('B Vertex Chi2')\n",
    "plt.yscale('log')\n",
    "plt.legend()\n",
    "plt.show()"
   ]
  },
  {
   "cell_type": "code",
   "execution_count": 25,
   "metadata": {},
   "outputs": [
    {
     "data": {
      "image/png": "[encoded data removed]",
      "text/plain": [
       "<Figure size 432x288 with 1 Axes>"
      ]
     },
     "metadata": {
      "needs_background": "light"
     },
     "output_type": "display_data"
    }
   ],
   "source": [
    "plt.figure()\n",
    "plt.hist(real_data.B_FlightDistance, bins=75, range=[0.,13], label='data')\n",
    "plt.hist(sim_data.B_FlightDistance, bins=75, range=[0.,13], label='sim')\n",
    "plt.xlabel('Flight Distance')\n",
    "plt.title('B Flight Distance')\n",
    "plt.yscale('log')\n",
    "plt.legend()\n",
    "plt.show()"
   ]
  },
  {
   "cell_type": "code",
   "execution_count": 26,
   "metadata": {},
   "outputs": [
    {
     "data": {
      "image/png": "[encoded data removed]",
      "text/plain": [
       "<Figure size 432x288 with 1 Axes>"
      ]
     },
     "metadata": {
      "needs_background": "light"
     },
     "output_type": "display_data"
    }
   ],
   "source": [
    "real_data_cut = real_data.query(\"H1_IPChi2 < 5000 & H2_IPChi2 < 5000 & H2_IPChi2 < 5000 & B_VertexChi2 < 9\")\n",
    "\n",
    "m_B_lit = 5279.34\n",
    "\n",
    "plt.hist(real_data_cut.m_B, bins=75, range=(m_B_lit-101, m_B_lit+101), label='m(KKK) selected')\n",
    "plt.axvline(x=m_B_lit, color='red', linestyle='--', label='m(B)')\n",
    "plt.axvline(x=5179.34, color='red', linestyle='--')\n",
    "plt.axvline(x=5379.34, color='red', linestyle='--')\n",
    "plt.xlabel('Invariant Mass (MeV)')\n",
    "plt.ylabel('Frequency (log scale)')\n",
    "plt.title('Mass Distribution of reconstructed B Meson')\n",
    "plt.xticks([m_B_lit])\n",
    "plt.legend()\n",
    "plt.show()"
   ]
  },
  {
   "cell_type": "markdown",
   "metadata": {
    "heading_collapsed": true
   },
   "source": [
    "### Hint: Preselection example"
   ]
  },
  {
   "cell_type": "markdown",
   "metadata": {
    "hidden": true
   },
   "source": [
    "This is an example string, showing the syntax and giving you an example for a possible preselection."
   ]
  },
  {
   "cell_type": "code",
   "execution_count": 27,
   "metadata": {
    "hidden": true,
    "jupyter": {
     "outputs_hidden": true
    }
   },
   "outputs": [],
   "source": [
    "# preselection = \"H1_ProbPi < 0.5 & H2_ProbPi < 0.5 & H3_ProbPi < 0.5 & H1_ProbK > 0.5 & H2_ProbK > 0.5 & H3_ProbK > 0.5 & !H1_isMuon & !H2_isMuon & !H3_isMuon\"\n"
   ]
  },
  {
   "cell_type": "markdown",
   "metadata": {
    "heading_collapsed": true
   },
   "source": [
    "# Searching for global matter anti-matter differences\n",
    "\n",
    "In this section you will start to study matter antimatter differences (CP Violation). The attribute 'global' means that you are looking for differences across all ranges of energy and momentum (the kinematics) of the kaons into which the charged B mesons have decayed. Later you will look at 'local' differences in different regions of the kinematics. \n",
    "\n",
    "## Aims:\n",
    "* Calculate the global CP asymmetry \n",
    "* Work out the statistical uncertainty\n",
    "* Determine, if there is evidence for CP violation in this decay"
   ]
  },
  {
   "cell_type": "markdown",
   "metadata": {
    "hidden": true
   },
   "source": [
    "In order to quantify the matter antimatter asymmetry in this process, we will compare the B<sup>+</sup> meson with its anti-particle B<sup>-</sup>. \n",
    "Use the provided charge information (`H1_Charge`, `H2_Charge` and `H3_Charge`) to distinguish B<sup>+</sup> and B<sup>-</sup>."
   ]
  },
  {
   "cell_type": "code",
   "execution_count": 28,
   "metadata": {
    "hidden": true,
    "jupyter": {
     "outputs_hidden": true
    },
    "run_control": {
     "frozen": false,
     "read_only": false
    }
   },
   "outputs": [],
   "source": [
    "# make a variable for the charge of the B mesons\n",
    "B_Charge = real_data.H1_Charge + real_data.H2_Charge + real_data.H3_Charge\n",
    "real_data['B_Charge'] = B_Charge"
   ]
  },
  {
   "cell_type": "code",
   "execution_count": 186,
   "metadata": {},
   "outputs": [
    {
     "data": {
      "image/png": "[encoded data removed]",
      "text/plain": [
       "<Figure size 432x288 with 1 Axes>"
      ]
     },
     "metadata": {
      "needs_background": "light"
     },
     "output_type": "display_data"
    }
   ],
   "source": [
    "m_Bplus = real_data[real_data['B_Charge'] == 1]['m_B']\n",
    "m_Bminus = real_data[real_data['B_Charge'] == -1]['m_B']\n",
    "\n",
    "m_B_lit = 5279.34\n",
    "plt.hist(m_Bplus, bins=50, range=(m_B_lit-101, m_B_lit+101), label='m(K+K+K-)', alpha=0.5)\n",
    "plt.hist(m_Bminus, bins=50, range=(m_B_lit-101, m_B_lit+101), label='m(K+K-K-)', alpha=0.5)\n",
    "plt.axvline(x=m_B_lit, color='red', linestyle='--', label='m(B)')\n",
    "plt.xlabel('Invariant Mass (MeV)')\n",
    "plt.ylabel('Frequency (log scale)')\n",
    "plt.title('Mass Distribution of reconstructed B Meson')\n",
    "plt.xticks([m_B_lit])\n",
    "plt.legend()\n",
    "plt.show()"
   ]
  },
  {
   "cell_type": "markdown",
   "metadata": {
    "hidden": true
   },
   "source": [
    "Now count the numbers of events of each of the two types (N<sup>+</sup> and N<sup>-</sup>) and the difference between those."
   ]
  },
  {
   "cell_type": "code",
   "execution_count": 30,
   "metadata": {
    "hidden": true,
    "jupyter": {
     "outputs_hidden": true
    },
    "run_control": {
     "frozen": false,
     "read_only": false
    }
   },
   "outputs": [],
   "source": [
    "# make variables for the numbers of positive and negative B mesons\n",
    "N_plus = np.count_nonzero(B_Charge == 1)\n",
    "N_minus = np.count_nonzero(B_Charge == -1)\n"
   ]
  },
  {
   "cell_type": "markdown",
   "metadata": {
    "hidden": true
   },
   "source": [
    "Use the following equation to determine the Asmmetry:\n",
    "\n",
    "<latex>$A = \\frac{N^+ - N^-}{N^+ + N^-}$</latex>"
   ]
  },
  {
   "cell_type": "code",
   "execution_count": 31,
   "metadata": {
    "hidden": true,
    "jupyter": {
     "outputs_hidden": true
    },
    "run_control": {
     "frozen": false,
     "read_only": false
    }
   },
   "outputs": [
    {
     "name": "stdout",
     "output_type": "stream",
     "text": [
      "0.047705177481347505\n"
     ]
    }
   ],
   "source": [
    "# calculate the value of the asymmetry, by using the formula above, and then print it\n",
    "A_raw = (N_plus-N_minus)/(N_plus+N_minus)\n",
    "print(A_raw)"
   ]
  },
  {
   "cell_type": "markdown",
   "metadata": {
    "heading_collapsed": true,
    "hidden": true
   },
   "source": [
    "### Hints"
   ]
  },
  {
   "cell_type": "markdown",
   "metadata": {
    "hidden": true
   },
   "source": [
    "**Differentiating between B<sup>+</sup> and B<sup>-</sup>**\n",
    "\n",
    " - Charge is a conserved quantity. The charge of the $B$ meson is equal to the sum of the charges of the three daughter particles.\n",
    " - You can use ` len(real_data.query('B_Charge == charge'))` to count the number of mesons, where `B_Charge` is the variable you created and `charge` is `1` or `-1`."
   ]
  },
  {
   "cell_type": "markdown",
   "metadata": {
    "hidden": true
   },
   "source": [
    "### Estimating the significance of the deviation\n",
    "\n",
    "You will now need to calculate the statistical uncertainty of the asymmetry. You can do so using the formula:\n",
    "\n",
    "<latex>$\\sigma_A = \\sqrt{\\frac{1-A^2}{N^+ + N^-}}$</latex>\n",
    "\n",
    "The significance of the result, sigma, is found by dividing the value for asymmetry by its uncertainty. A value exceeding three sigma is considered \"evidence\" by particle physicists while a value of five sigma or more can be called an \"observation\" or \"discovery\"."
   ]
  },
  {
   "cell_type": "code",
   "execution_count": 32,
   "metadata": {
    "hidden": true,
    "jupyter": {
     "outputs_hidden": true
    },
    "run_control": {
     "frozen": false,
     "read_only": false
    }
   },
   "outputs": [
    {
     "name": "stdout",
     "output_type": "stream",
     "text": [
      "0.015019199529931344\n"
     ]
    }
   ],
   "source": [
    "# calculate the statistical significance of your result and print it\n",
    "sigma_A_raw = np.sqrt((1 - A_raw**2)/(N_plus + N_minus))\n",
    "print(sigma_A_raw)"
   ]
  },
  {
   "cell_type": "markdown",
   "metadata": {
    "hidden": true
   },
   "source": [
    "**Congratulations!** You have performed your first search for CP violaton.\n",
    "\n",
    "Till now you have only considered the statistical uncertainty. Your measurement will also have other sources of uncertainty known as systematic uncertainties.\n",
    "Try to include one systematic uncertainty for the production asymmetry of the $B$ meson and recalculate the significance. \n"
   ]
  },
  {
   "cell_type": "code",
   "execution_count": 33,
   "metadata": {
    "jupyter": {
     "outputs_hidden": true
    }
   },
   "outputs": [],
   "source": [
    "# Wie das denn bitte???"
   ]
  },
  {
   "cell_type": "markdown",
   "metadata": {
    "heading_collapsed": true
   },
   "source": [
    "# Dalitz plots and two body resonances\n",
    "## Aims:\n",
    "* Produce Dalitz plots of the simulation and real data sample\n",
    "* Create ordered and binned dalitz plots to improve the visibility of resonances\n",
    "* Identify two body resonances in the Dalitz plots"
   ]
  },
  {
   "cell_type": "markdown",
   "metadata": {
    "hidden": true
   },
   "source": [
    "In this stage we introduce you to an important technique for analysing three body decays, in our case the decay of charged B mesons to three kaons. This is known as a Dalitz plot. \n",
    "\n",
    "The decay of the B meson can proceed either directly to the three-body final state or via an intermediate particle. For example, B<sup>+</sup> → K<sup>+</sup>K<sup>+</sup>K<sup>−</sup>, could proceed through the decay  B<sup>+</sup> → K<sup>+</sup>R<sup>0</sup>, where R<sup>0</sup> is a neutral particle resonance which can decay R<sup>0</sup> → K<sup>+</sup>K<sup>-</sup>. Dalitz plots can be used to identify these resonances which are visible as bands on the Dalitz plot.\n",
    "\n",
    "The kinematics of a three-body decay can be fully described using only two variables. The energies and momenta of the three kaons are not independent of each other as they all come from the decay of a B meson and energy and momentum are conserved. The axes of the plots conventionally are the squared invariant masses of two pairs of the decay products. The created 2D plots can display structures in their density distribution.\n",
    "\n",
    "In our decay B<sup>+</sup> → K<sup>+</sup><sub>1</sub>K<sup>+</sup><sub>2</sub>K<sup>−</sup><sub>3</sub>, the kaons are nummerated to distinguish them. Therefore, we can calculate the invariant mass of three possible combinations that could correspond to intermediate resonances: R<sup>0</sup><sub>1</sub> → K<sup>+</sup><sub>1</sub>K<sup>-</sup><sub>2</sub>, R<sup>++</sup><sub>2</sub> → K<sup>+</sup><sub>1</sub>K<sup>+</sup><sub>3</sub> und R<sup>0</sup><sub>3</sub> → K<sup>-</sup><sub>2</sub>K<sup>+</sup><sub>3</sub>. \n",
    "\n",
    "The potential resonance R<sup>++</sup><sub>2</sub> would be a doubly charged resonance. We would not expect to see any resonances corresponding to this as mesons are composed of one quark and one anti-quark and their charges cannot add up to two units.\n",
    "\n",
    "But the uncharged resonances, R<sup>0</sup><sub>1</sub> and R<sup>0</sup><sub>3</sub>, could be observed. Hence you should compute the invariant mass combinations for these. The square of these masses should be used as the Dalitz variables for a 2D plot. \n",
    "\n",
    "We suggest you make these plots first for the simulation data. In the simulation there are no intermediate resonances and your plot should be of uniform density inside the range physically allowed by energy and momentum conservation.\n",
    "\t"
   ]
  },
  {
   "cell_type": "code",
   "execution_count": null,
   "metadata": {},
   "outputs": [],
   "source": []
  },
  {
   "cell_type": "code",
   "execution_count": 34,
   "metadata": {
    "hidden": true,
    "jupyter": {
     "outputs_hidden": true
    },
    "run_control": {
     "frozen": false,
     "read_only": false
    }
   },
   "outputs": [
    {
     "data": {
      "text/html": [
       "<div>\n",
       "<style scoped>\n",
       "    .dataframe tbody tr th:only-of-type {\n",
       "        vertical-align: middle;\n",
       "    }\n",
       "\n",
       "    .dataframe tbody tr th {\n",
       "        vertical-align: top;\n",
       "    }\n",
       "\n",
       "    .dataframe thead th {\n",
       "        text-align: right;\n",
       "    }\n",
       "</style>\n",
       "<table border=\"1\" class=\"dataframe\">\n",
       "  <thead>\n",
       "    <tr style=\"text-align: right;\">\n",
       "      <th></th>\n",
       "      <th>B_FlightDistance</th>\n",
       "      <th>B_VertexChi2</th>\n",
       "      <th>H1_PX</th>\n",
       "      <th>H1_PY</th>\n",
       "      <th>H1_PZ</th>\n",
       "      <th>H1_ProbK</th>\n",
       "      <th>H1_ProbPi</th>\n",
       "      <th>H1_Charge</th>\n",
       "      <th>H1_IPChi2</th>\n",
       "      <th>H1_isMuon</th>\n",
       "      <th>H2_PX</th>\n",
       "      <th>H2_PY</th>\n",
       "      <th>H2_PZ</th>\n",
       "      <th>H2_ProbK</th>\n",
       "      <th>H2_ProbPi</th>\n",
       "      <th>H2_Charge</th>\n",
       "      <th>H2_IPChi2</th>\n",
       "      <th>H2_isMuon</th>\n",
       "      <th>H3_PX</th>\n",
       "      <th>H3_PY</th>\n",
       "      <th>H3_PZ</th>\n",
       "      <th>H3_ProbK</th>\n",
       "      <th>H3_ProbPi</th>\n",
       "      <th>H3_Charge</th>\n",
       "      <th>H3_IPChi2</th>\n",
       "      <th>H3_isMuon</th>\n",
       "      <th>H1_P</th>\n",
       "      <th>H1_E</th>\n",
       "      <th>H2_P</th>\n",
       "      <th>H2_E</th>\n",
       "      <th>H3_P</th>\n",
       "      <th>H3_E</th>\n",
       "      <th>B_E</th>\n",
       "      <th>B_P</th>\n",
       "      <th>m_B</th>\n",
       "    </tr>\n",
       "  </thead>\n",
       "  <tbody>\n",
       "    <tr>\n",
       "      <th>49995</th>\n",
       "      <td>0.0</td>\n",
       "      <td>1.0</td>\n",
       "      <td>6040.17</td>\n",
       "      <td>7325.91</td>\n",
       "      <td>193467.67</td>\n",
       "      <td>1.0</td>\n",
       "      <td>0.0</td>\n",
       "      <td>1</td>\n",
       "      <td>1.0</td>\n",
       "      <td>0</td>\n",
       "      <td>736.61</td>\n",
       "      <td>2955.51</td>\n",
       "      <td>49412.76</td>\n",
       "      <td>1.0</td>\n",
       "      <td>0.0</td>\n",
       "      <td>-1</td>\n",
       "      <td>1.0</td>\n",
       "      <td>0</td>\n",
       "      <td>4830.11</td>\n",
       "      <td>10885.24</td>\n",
       "      <td>281292.45</td>\n",
       "      <td>1.0</td>\n",
       "      <td>0.0</td>\n",
       "      <td>1</td>\n",
       "      <td>1.0</td>\n",
       "      <td>0</td>\n",
       "      <td>193700.521285</td>\n",
       "      <td>193701.150392</td>\n",
       "      <td>49506.549915</td>\n",
       "      <td>49509.011316</td>\n",
       "      <td>281544.420722</td>\n",
       "      <td>281544.853543</td>\n",
       "      <td>524755.015250</td>\n",
       "      <td>524728.458842</td>\n",
       "      <td>524755.015250</td>\n",
       "    </tr>\n",
       "    <tr>\n",
       "      <th>49996</th>\n",
       "      <td>0.0</td>\n",
       "      <td>1.0</td>\n",
       "      <td>-11641.21</td>\n",
       "      <td>-53089.92</td>\n",
       "      <td>209649.33</td>\n",
       "      <td>1.0</td>\n",
       "      <td>0.0</td>\n",
       "      <td>-1</td>\n",
       "      <td>1.0</td>\n",
       "      <td>0</td>\n",
       "      <td>-6282.71</td>\n",
       "      <td>-34005.79</td>\n",
       "      <td>124615.91</td>\n",
       "      <td>1.0</td>\n",
       "      <td>0.0</td>\n",
       "      <td>1</td>\n",
       "      <td>1.0</td>\n",
       "      <td>0</td>\n",
       "      <td>-11275.53</td>\n",
       "      <td>-48720.54</td>\n",
       "      <td>195716.80</td>\n",
       "      <td>1.0</td>\n",
       "      <td>0.0</td>\n",
       "      <td>-1</td>\n",
       "      <td>1.0</td>\n",
       "      <td>0</td>\n",
       "      <td>216580.005876</td>\n",
       "      <td>216580.568524</td>\n",
       "      <td>129325.137632</td>\n",
       "      <td>129326.079893</td>\n",
       "      <td>202004.689047</td>\n",
       "      <td>202005.292292</td>\n",
       "      <td>547911.940709</td>\n",
       "      <td>547886.506830</td>\n",
       "      <td>547911.940709</td>\n",
       "    </tr>\n",
       "    <tr>\n",
       "      <th>49997</th>\n",
       "      <td>0.0</td>\n",
       "      <td>1.0</td>\n",
       "      <td>1238.99</td>\n",
       "      <td>-263.53</td>\n",
       "      <td>10357.60</td>\n",
       "      <td>1.0</td>\n",
       "      <td>0.0</td>\n",
       "      <td>1</td>\n",
       "      <td>1.0</td>\n",
       "      <td>0</td>\n",
       "      <td>-941.01</td>\n",
       "      <td>-822.84</td>\n",
       "      <td>4898.16</td>\n",
       "      <td>1.0</td>\n",
       "      <td>0.0</td>\n",
       "      <td>-1</td>\n",
       "      <td>1.0</td>\n",
       "      <td>0</td>\n",
       "      <td>-1268.51</td>\n",
       "      <td>-2707.82</td>\n",
       "      <td>5979.10</td>\n",
       "      <td>1.0</td>\n",
       "      <td>0.0</td>\n",
       "      <td>-1</td>\n",
       "      <td>1.0</td>\n",
       "      <td>0</td>\n",
       "      <td>10434.769860</td>\n",
       "      <td>10446.441453</td>\n",
       "      <td>5055.149540</td>\n",
       "      <td>5079.198150</td>\n",
       "      <td>6685.136018</td>\n",
       "      <td>6703.339508</td>\n",
       "      <td>22228.979111</td>\n",
       "      <td>21592.986951</td>\n",
       "      <td>22228.979111</td>\n",
       "    </tr>\n",
       "    <tr>\n",
       "      <th>49998</th>\n",
       "      <td>0.0</td>\n",
       "      <td>1.0</td>\n",
       "      <td>18814.81</td>\n",
       "      <td>-1548.02</td>\n",
       "      <td>94738.26</td>\n",
       "      <td>1.0</td>\n",
       "      <td>0.0</td>\n",
       "      <td>-1</td>\n",
       "      <td>1.0</td>\n",
       "      <td>0</td>\n",
       "      <td>1087.74</td>\n",
       "      <td>-66.19</td>\n",
       "      <td>9932.05</td>\n",
       "      <td>1.0</td>\n",
       "      <td>0.0</td>\n",
       "      <td>1</td>\n",
       "      <td>1.0</td>\n",
       "      <td>0</td>\n",
       "      <td>22117.46</td>\n",
       "      <td>-4312.07</td>\n",
       "      <td>115181.33</td>\n",
       "      <td>1.0</td>\n",
       "      <td>0.0</td>\n",
       "      <td>1</td>\n",
       "      <td>1.0</td>\n",
       "      <td>0</td>\n",
       "      <td>96600.886896</td>\n",
       "      <td>96602.148351</td>\n",
       "      <td>9991.655350</td>\n",
       "      <td>10003.843942</td>\n",
       "      <td>117364.878755</td>\n",
       "      <td>117365.917038</td>\n",
       "      <td>223971.909330</td>\n",
       "      <td>223909.681894</td>\n",
       "      <td>223971.909330</td>\n",
       "    </tr>\n",
       "    <tr>\n",
       "      <th>49999</th>\n",
       "      <td>0.0</td>\n",
       "      <td>1.0</td>\n",
       "      <td>50835.28</td>\n",
       "      <td>-70318.75</td>\n",
       "      <td>495834.78</td>\n",
       "      <td>1.0</td>\n",
       "      <td>0.0</td>\n",
       "      <td>1</td>\n",
       "      <td>1.0</td>\n",
       "      <td>0</td>\n",
       "      <td>9107.68</td>\n",
       "      <td>-14174.71</td>\n",
       "      <td>94161.01</td>\n",
       "      <td>1.0</td>\n",
       "      <td>0.0</td>\n",
       "      <td>-1</td>\n",
       "      <td>1.0</td>\n",
       "      <td>0</td>\n",
       "      <td>18695.00</td>\n",
       "      <td>-25929.14</td>\n",
       "      <td>195973.22</td>\n",
       "      <td>1.0</td>\n",
       "      <td>0.0</td>\n",
       "      <td>1</td>\n",
       "      <td>1.0</td>\n",
       "      <td>0</td>\n",
       "      <td>503369.726297</td>\n",
       "      <td>503369.968382</td>\n",
       "      <td>95656.510718</td>\n",
       "      <td>95657.784627</td>\n",
       "      <td>198563.154395</td>\n",
       "      <td>198563.768096</td>\n",
       "      <td>797591.521105</td>\n",
       "      <td>797574.049242</td>\n",
       "      <td>797591.521105</td>\n",
       "    </tr>\n",
       "  </tbody>\n",
       "</table>\n",
       "</div>"
      ],
      "text/plain": [
       "       B_FlightDistance  B_VertexChi2     H1_PX     H1_PY      H1_PZ  \\\n",
       "49995               0.0           1.0   6040.17   7325.91  193467.67   \n",
       "49996               0.0           1.0 -11641.21 -53089.92  209649.33   \n",
       "49997               0.0           1.0   1238.99   -263.53   10357.60   \n",
       "49998               0.0           1.0  18814.81  -1548.02   94738.26   \n",
       "49999               0.0           1.0  50835.28 -70318.75  495834.78   \n",
       "\n",
       "       H1_ProbK  H1_ProbPi  H1_Charge  H1_IPChi2  H1_isMuon    H2_PX  \\\n",
       "49995       1.0        0.0          1        1.0          0   736.61   \n",
       "49996       1.0        0.0         -1        1.0          0 -6282.71   \n",
       "49997       1.0        0.0          1        1.0          0  -941.01   \n",
       "49998       1.0        0.0         -1        1.0          0  1087.74   \n",
       "49999       1.0        0.0          1        1.0          0  9107.68   \n",
       "\n",
       "          H2_PY      H2_PZ  H2_ProbK  H2_ProbPi  H2_Charge  H2_IPChi2  \\\n",
       "49995   2955.51   49412.76       1.0        0.0         -1        1.0   \n",
       "49996 -34005.79  124615.91       1.0        0.0          1        1.0   \n",
       "49997   -822.84    4898.16       1.0        0.0         -1        1.0   \n",
       "49998    -66.19    9932.05       1.0        0.0          1        1.0   \n",
       "49999 -14174.71   94161.01       1.0        0.0         -1        1.0   \n",
       "\n",
       "       H2_isMuon     H3_PX     H3_PY      H3_PZ  H3_ProbK  H3_ProbPi  \\\n",
       "49995          0   4830.11  10885.24  281292.45       1.0        0.0   \n",
       "49996          0 -11275.53 -48720.54  195716.80       1.0        0.0   \n",
       "49997          0  -1268.51  -2707.82    5979.10       1.0        0.0   \n",
       "49998          0  22117.46  -4312.07  115181.33       1.0        0.0   \n",
       "49999          0  18695.00 -25929.14  195973.22       1.0        0.0   \n",
       "\n",
       "       H3_Charge  H3_IPChi2  H3_isMuon           H1_P           H1_E  \\\n",
       "49995          1        1.0          0  193700.521285  193701.150392   \n",
       "49996         -1        1.0          0  216580.005876  216580.568524   \n",
       "49997         -1        1.0          0   10434.769860   10446.441453   \n",
       "49998          1        1.0          0   96600.886896   96602.148351   \n",
       "49999          1        1.0          0  503369.726297  503369.968382   \n",
       "\n",
       "                H2_P           H2_E           H3_P           H3_E  \\\n",
       "49995   49506.549915   49509.011316  281544.420722  281544.853543   \n",
       "49996  129325.137632  129326.079893  202004.689047  202005.292292   \n",
       "49997    5055.149540    5079.198150    6685.136018    6703.339508   \n",
       "49998    9991.655350   10003.843942  117364.878755  117365.917038   \n",
       "49999   95656.510718   95657.784627  198563.154395  198563.768096   \n",
       "\n",
       "                 B_E            B_P            m_B  \n",
       "49995  524755.015250  524728.458842  524755.015250  \n",
       "49996  547911.940709  547886.506830  547911.940709  \n",
       "49997   22228.979111   21592.986951   22228.979111  \n",
       "49998  223971.909330  223909.681894  223971.909330  \n",
       "49999  797591.521105  797574.049242  797591.521105  "
      ]
     },
     "execution_count": 34,
     "metadata": {},
     "output_type": "execute_result"
    }
   ],
   "source": [
    "sim_data.tail()"
   ]
  },
  {
   "cell_type": "code",
   "execution_count": 35,
   "metadata": {},
   "outputs": [
    {
     "name": "stdout",
     "output_type": "stream",
     "text": [
      "50000\n",
      "25000\n",
      "25000\n"
     ]
    }
   ],
   "source": [
    "# calculate the invariant masses for each possible hadron pair combination\n",
    "\n",
    "# Candidate 1 & 2\n",
    "sim_data_12 = sim_data[(sim_data.H1_Charge + sim_data.H2_Charge)==0]\n",
    "\n",
    "E1 = sim_data_12.H1_E\n",
    "p1x = sim_data_12.H1_PX\n",
    "p1y = sim_data_12.H1_PY\n",
    "p1z = sim_data_12.H1_PZ\n",
    "E2 = sim_data_12.H2_E\n",
    "p2x = sim_data_12.H2_PX\n",
    "p2y = sim_data_12.H2_PY\n",
    "p2z = sim_data_12.H2_PZ\n",
    "\n",
    "M_squared_12 = (E1 + E2)**2 - ((p1x+p2x)**2 + (p1y+p2y)**2 + (p1z+p2z)**2) \n",
    "\n",
    "# Candidate 2 & 3\n",
    "sim_data_23 = sim_data[(sim_data.H2_Charge + sim_data.H3_Charge)==0]\n",
    "\n",
    "E2 = sim_data_23.H2_E\n",
    "p2x = sim_data_23.H2_PX\n",
    "p2y = sim_data_23.H2_PY\n",
    "p2z = sim_data_23.H2_PZ\n",
    "E3 = sim_data_23.H3_E\n",
    "p3x = sim_data_23.H3_PX\n",
    "p3y = sim_data_23.H3_PY\n",
    "p3z = sim_data_23.H3_PZ\n",
    "\n",
    "M_squared_23 = (E2 + E3)**2 - ((p2x+p3x)**2+(p2y+p3y)**2+(p2z+p3z)**2)  \n",
    "\n",
    "\n",
    "# Candidate 1 & 3\n",
    "sim_data_13 = sim_data[(sim_data.H1_Charge + sim_data.H3_Charge)==0]\n",
    "\n",
    "E1 = sim_data_13.H1_E\n",
    "p1x = sim_data_13.H1_PX\n",
    "p1y = sim_data_13.H1_PY\n",
    "p1z = sim_data_13.H1_PZ\n",
    "E3 = sim_data_13.H3_E\n",
    "p3x = sim_data_13.H3_PX\n",
    "p3y = sim_data_13.H3_PY\n",
    "p3z = sim_data_13.H3_PZ\n",
    "    \n",
    "M_squared_13 = (E1 + E3)**2 - ((p1x+p3x)**2+(p1y+p3y)**2+(p1z+p3z)**2)\n",
    "\n",
    "\n",
    "print(len(M_squared_12))\n",
    "print(len(M_squared_23))\n",
    "print(len(M_squared_13))"
   ]
  },
  {
   "cell_type": "code",
   "execution_count": 36,
   "metadata": {
    "hidden": true,
    "jupyter": {
     "outputs_hidden": true
    }
   },
   "outputs": [
    {
     "data": {
      "text/plain": [
       "<function matplotlib.pyplot.show(*args, **kw)>"
      ]
     },
     "execution_count": 36,
     "metadata": {},
     "output_type": "execute_result"
    },
    {
     "data": {
      "image/png": "[encoded data removed]",
      "text/plain": [
       "<Figure size 432x288 with 1 Axes>"
      ]
     },
     "metadata": {
      "needs_background": "light"
     },
     "output_type": "display_data"
    }
   ],
   "source": [
    "# plot the invariant mass for one of these combinations \n",
    "plt.hist(M_squared_12, bins=50, log=True, range=(900000,2000000), alpha=0.5, label=\"M12^2\")\n",
    "plt.hist(M_squared_23, bins=50, log=True, range=(900000,2000000), alpha=0.5, label=\"M23^2\")\n",
    "plt.hist(M_squared_13, bins=50, log=True, range=(900000,2000000), alpha=0.5, label=\"M13^2\")\n",
    "plt.legend()\n",
    "plt.show"
   ]
  },
  {
   "cell_type": "code",
   "execution_count": 37,
   "metadata": {
    "hidden": true,
    "jupyter": {
     "outputs_hidden": true
    },
    "run_control": {
     "frozen": false,
     "read_only": false
    }
   },
   "outputs": [
    {
     "data": {
      "image/png": "[encoded data removed]",
      "text/plain": [
       "<Figure size 576x576 with 2 Axes>"
      ]
     },
     "metadata": {
      "needs_background": "light"
     },
     "output_type": "display_data"
    }
   ],
   "source": [
    "# make a Dalitz plot with labelled axes for the simulation data\n",
    "\n",
    "m_D0 = 1864.84\n",
    "m_JPsi = 3096.9\n",
    "m_phi = 1019.461\n",
    "\n",
    "plt.figure(figsize=(8, 8))\n",
    "plt.hist2d(M_squared_23, M_squared_13, bins=50, cmap='viridis', norm=LogNorm(), range=[[300000, 25000000], [300000, 25000000]])\n",
    "plt.colorbar(label='Anzahl der Ereignisse')\n",
    "\n",
    "plt.axvline(m_D0**2, color='red', linestyle='--', alpha = 0.7, label='m_D0')\n",
    "plt.axvline(m_JPsi**2, color='green', linestyle='--', alpha = 0.7, label='m_JPsi')\n",
    "plt.axvline(m_phi**2, color='magenta', linestyle='--', alpha = 0.7, label='m_phi')\n",
    "\n",
    "plt.axhline(m_D0**2, color='red', linestyle='--', alpha = 0.7,)\n",
    "plt.axhline(m_JPsi**2, color='green', linestyle='--', alpha = 0.7,)\n",
    "plt.axhline(m_phi**2, color='magenta', linestyle='--', alpha = 0.7,)\n",
    "\n",
    "plt.xlabel('M_squared_23')\n",
    "plt.ylabel('M_squared_13')\n",
    "plt.title('Dalitz Plot for Simulations')\n",
    "plt.show()"
   ]
  },
  {
   "cell_type": "code",
   "execution_count": null,
   "metadata": {},
   "outputs": [],
   "source": []
  },
  {
   "cell_type": "code",
   "execution_count": null,
   "metadata": {},
   "outputs": [],
   "source": []
  },
  {
   "cell_type": "markdown",
   "metadata": {
    "heading_collapsed": true,
    "hidden": true
   },
   "source": [
    "### Hint"
   ]
  },
  {
   "cell_type": "markdown",
   "metadata": {
    "hidden": true
   },
   "source": [
    "**Calculating the invariant mass** - Use the same technique as you did above for the B meson. But instead of using all three finalstate particles use only two.\n",
    "**Plotting the Dalitz plot** - You can use the `scatter()` function from the `matplotlib` library or use the example given in the example analysis. Remember to use the square of each two-body mass."
   ]
  },
  {
   "cell_type": "markdown",
   "metadata": {
    "hidden": true
   },
   "source": [
    "## Adding Dalitz plot for real data\n",
    "Now draw a Dalitz plot for the real data. Check that your two constructed resonances R<sup>0</sup><sub>2</sub> and R<sup>0</sup><sub>3</sub> have a neutral charge."
   ]
  },
  {
   "cell_type": "code",
   "execution_count": null,
   "metadata": {},
   "outputs": [],
   "source": []
  },
  {
   "cell_type": "code",
   "execution_count": 38,
   "metadata": {
    "hidden": true,
    "jupyter": {
     "outputs_hidden": true
    },
    "run_control": {
     "frozen": false,
     "read_only": false
    }
   },
   "outputs": [
    {
     "name": "stdout",
     "output_type": "stream",
     "text": [
      "4423\n",
      "0\n",
      "4423\n"
     ]
    },
    {
     "data": {
      "text/html": [
       "<div>\n",
       "<style scoped>\n",
       "    .dataframe tbody tr th:only-of-type {\n",
       "        vertical-align: middle;\n",
       "    }\n",
       "\n",
       "    .dataframe tbody tr th {\n",
       "        vertical-align: top;\n",
       "    }\n",
       "\n",
       "    .dataframe thead th {\n",
       "        text-align: right;\n",
       "    }\n",
       "</style>\n",
       "<table border=\"1\" class=\"dataframe\">\n",
       "  <thead>\n",
       "    <tr style=\"text-align: right;\">\n",
       "      <th></th>\n",
       "      <th>B_FlightDistance</th>\n",
       "      <th>B_VertexChi2</th>\n",
       "      <th>H1_PX</th>\n",
       "      <th>H1_PY</th>\n",
       "      <th>H1_PZ</th>\n",
       "      <th>H1_ProbK</th>\n",
       "      <th>H1_ProbPi</th>\n",
       "      <th>H1_Charge</th>\n",
       "      <th>H1_IPChi2</th>\n",
       "      <th>H1_isMuon</th>\n",
       "      <th>H2_PX</th>\n",
       "      <th>H2_PY</th>\n",
       "      <th>H2_PZ</th>\n",
       "      <th>H2_ProbK</th>\n",
       "      <th>H2_ProbPi</th>\n",
       "      <th>H2_Charge</th>\n",
       "      <th>H2_IPChi2</th>\n",
       "      <th>H2_isMuon</th>\n",
       "      <th>H3_PX</th>\n",
       "      <th>H3_PY</th>\n",
       "      <th>H3_PZ</th>\n",
       "      <th>H3_ProbK</th>\n",
       "      <th>H3_ProbPi</th>\n",
       "      <th>H3_Charge</th>\n",
       "      <th>H3_IPChi2</th>\n",
       "      <th>H3_isMuon</th>\n",
       "      <th>H1_P</th>\n",
       "      <th>H2_P</th>\n",
       "      <th>H3_P</th>\n",
       "      <th>H1_E</th>\n",
       "      <th>H2_E</th>\n",
       "      <th>H3_E</th>\n",
       "      <th>m_B</th>\n",
       "      <th>B_Charge</th>\n",
       "      <th>M_squared_12</th>\n",
       "      <th>M_squared_23</th>\n",
       "      <th>M_squared_13</th>\n",
       "    </tr>\n",
       "  </thead>\n",
       "  <tbody>\n",
       "    <tr>\n",
       "      <th>count</th>\n",
       "      <td>4423.000000</td>\n",
       "      <td>4423.000000</td>\n",
       "      <td>4423.000000</td>\n",
       "      <td>4423.000000</td>\n",
       "      <td>4423.000000</td>\n",
       "      <td>4423.000000</td>\n",
       "      <td>4423.000000</td>\n",
       "      <td>4423.000000</td>\n",
       "      <td>4423.000000</td>\n",
       "      <td>4423.0</td>\n",
       "      <td>4423.000000</td>\n",
       "      <td>4423.000000</td>\n",
       "      <td>4423.000000</td>\n",
       "      <td>4423.000000</td>\n",
       "      <td>4423.000000</td>\n",
       "      <td>4423.000000</td>\n",
       "      <td>4423.000000</td>\n",
       "      <td>4423.0</td>\n",
       "      <td>4423.000000</td>\n",
       "      <td>4423.000000</td>\n",
       "      <td>4423.000000</td>\n",
       "      <td>4423.000000</td>\n",
       "      <td>4423.000000</td>\n",
       "      <td>4423.000000</td>\n",
       "      <td>4423.000000</td>\n",
       "      <td>4423.0</td>\n",
       "      <td>4423.000000</td>\n",
       "      <td>4423.000000</td>\n",
       "      <td>4423.000000</td>\n",
       "      <td>4423.000000</td>\n",
       "      <td>4423.000000</td>\n",
       "      <td>4423.000000</td>\n",
       "      <td>4423.000000</td>\n",
       "      <td>4423.000000</td>\n",
       "      <td>4.423000e+03</td>\n",
       "      <td>0.0</td>\n",
       "      <td>4.423000e+03</td>\n",
       "    </tr>\n",
       "    <tr>\n",
       "      <th>mean</th>\n",
       "      <td>14.146122</td>\n",
       "      <td>3.800417</td>\n",
       "      <td>137.151494</td>\n",
       "      <td>-8.703521</td>\n",
       "      <td>33990.916780</td>\n",
       "      <td>0.921958</td>\n",
       "      <td>0.107494</td>\n",
       "      <td>-0.047705</td>\n",
       "      <td>1522.581575</td>\n",
       "      <td>0.0</td>\n",
       "      <td>63.156375</td>\n",
       "      <td>4.906460</td>\n",
       "      <td>29084.381326</td>\n",
       "      <td>0.916810</td>\n",
       "      <td>0.094244</td>\n",
       "      <td>0.047705</td>\n",
       "      <td>2227.992732</td>\n",
       "      <td>0.0</td>\n",
       "      <td>142.583094</td>\n",
       "      <td>34.322366</td>\n",
       "      <td>42026.032161</td>\n",
       "      <td>0.930705</td>\n",
       "      <td>0.129114</td>\n",
       "      <td>0.047705</td>\n",
       "      <td>2532.708117</td>\n",
       "      <td>0.0</td>\n",
       "      <td>34140.779959</td>\n",
       "      <td>29186.394716</td>\n",
       "      <td>42272.469087</td>\n",
       "      <td>34145.348634</td>\n",
       "      <td>29191.657966</td>\n",
       "      <td>42276.046050</td>\n",
       "      <td>5282.954261</td>\n",
       "      <td>0.047705</td>\n",
       "      <td>6.555502e+06</td>\n",
       "      <td>NaN</td>\n",
       "      <td>9.767649e+06</td>\n",
       "    </tr>\n",
       "    <tr>\n",
       "      <th>std</th>\n",
       "      <td>10.395248</td>\n",
       "      <td>2.871645</td>\n",
       "      <td>2413.146596</td>\n",
       "      <td>2205.341852</td>\n",
       "      <td>16681.193542</td>\n",
       "      <td>0.045933</td>\n",
       "      <td>0.080471</td>\n",
       "      <td>0.998974</td>\n",
       "      <td>3259.601440</td>\n",
       "      <td>0.0</td>\n",
       "      <td>1754.891954</td>\n",
       "      <td>1600.738877</td>\n",
       "      <td>13940.824878</td>\n",
       "      <td>0.046587</td>\n",
       "      <td>0.066064</td>\n",
       "      <td>0.998974</td>\n",
       "      <td>5192.439340</td>\n",
       "      <td>0.0</td>\n",
       "      <td>3365.544915</td>\n",
       "      <td>2969.913579</td>\n",
       "      <td>18663.765738</td>\n",
       "      <td>0.041605</td>\n",
       "      <td>0.095912</td>\n",
       "      <td>0.998974</td>\n",
       "      <td>4989.994994</td>\n",
       "      <td>0.0</td>\n",
       "      <td>16695.962866</td>\n",
       "      <td>13930.071033</td>\n",
       "      <td>18647.412212</td>\n",
       "      <td>16693.918068</td>\n",
       "      <td>13927.789606</td>\n",
       "      <td>18645.837577</td>\n",
       "      <td>22.978637</td>\n",
       "      <td>0.998974</td>\n",
       "      <td>5.108089e+06</td>\n",
       "      <td>NaN</td>\n",
       "      <td>6.155687e+06</td>\n",
       "    </tr>\n",
       "    <tr>\n",
       "      <th>min</th>\n",
       "      <td>3.007046</td>\n",
       "      <td>0.015853</td>\n",
       "      <td>-9311.186926</td>\n",
       "      <td>-10057.630068</td>\n",
       "      <td>4594.135580</td>\n",
       "      <td>0.800394</td>\n",
       "      <td>0.012823</td>\n",
       "      <td>-1.000000</td>\n",
       "      <td>1.051479</td>\n",
       "      <td>0.0</td>\n",
       "      <td>-7359.357843</td>\n",
       "      <td>-7357.803269</td>\n",
       "      <td>5204.728509</td>\n",
       "      <td>0.800010</td>\n",
       "      <td>0.013229</td>\n",
       "      <td>-1.000000</td>\n",
       "      <td>1.035260</td>\n",
       "      <td>0.0</td>\n",
       "      <td>-11396.278864</td>\n",
       "      <td>-9960.131733</td>\n",
       "      <td>7327.476109</td>\n",
       "      <td>0.800166</td>\n",
       "      <td>0.012587</td>\n",
       "      <td>-1.000000</td>\n",
       "      <td>1.118018</td>\n",
       "      <td>0.0</td>\n",
       "      <td>4661.210000</td>\n",
       "      <td>5235.510000</td>\n",
       "      <td>7486.680000</td>\n",
       "      <td>4687.280197</td>\n",
       "      <td>5258.733872</td>\n",
       "      <td>7502.939051</td>\n",
       "      <td>5180.133701</td>\n",
       "      <td>-1.000000</td>\n",
       "      <td>9.786791e+05</td>\n",
       "      <td>NaN</td>\n",
       "      <td>9.758606e+05</td>\n",
       "    </tr>\n",
       "    <tr>\n",
       "      <th>25%</th>\n",
       "      <td>7.177420</td>\n",
       "      <td>1.486330</td>\n",
       "      <td>-1462.074586</td>\n",
       "      <td>-1380.760328</td>\n",
       "      <td>21635.677003</td>\n",
       "      <td>0.915490</td>\n",
       "      <td>0.058428</td>\n",
       "      <td>-1.000000</td>\n",
       "      <td>165.676064</td>\n",
       "      <td>0.0</td>\n",
       "      <td>-1146.609062</td>\n",
       "      <td>-1092.242061</td>\n",
       "      <td>18841.169581</td>\n",
       "      <td>0.902826</td>\n",
       "      <td>0.055127</td>\n",
       "      <td>-1.000000</td>\n",
       "      <td>228.828375</td>\n",
       "      <td>0.0</td>\n",
       "      <td>-2426.947883</td>\n",
       "      <td>-2178.014634</td>\n",
       "      <td>26962.277261</td>\n",
       "      <td>0.920899</td>\n",
       "      <td>0.070950</td>\n",
       "      <td>-1.000000</td>\n",
       "      <td>357.378330</td>\n",
       "      <td>0.0</td>\n",
       "      <td>21773.045000</td>\n",
       "      <td>18972.675000</td>\n",
       "      <td>27238.375000</td>\n",
       "      <td>21778.641040</td>\n",
       "      <td>18979.096755</td>\n",
       "      <td>27242.848413</td>\n",
       "      <td>5270.953914</td>\n",
       "      <td>-1.000000</td>\n",
       "      <td>2.025623e+06</td>\n",
       "      <td>NaN</td>\n",
       "      <td>3.704842e+06</td>\n",
       "    </tr>\n",
       "    <tr>\n",
       "      <th>50%</th>\n",
       "      <td>10.980939</td>\n",
       "      <td>3.061677</td>\n",
       "      <td>151.674591</td>\n",
       "      <td>96.481321</td>\n",
       "      <td>30681.406778</td>\n",
       "      <td>0.933387</td>\n",
       "      <td>0.093614</td>\n",
       "      <td>-1.000000</td>\n",
       "      <td>491.308694</td>\n",
       "      <td>0.0</td>\n",
       "      <td>26.993313</td>\n",
       "      <td>37.345402</td>\n",
       "      <td>26379.878023</td>\n",
       "      <td>0.927974</td>\n",
       "      <td>0.079576</td>\n",
       "      <td>1.000000</td>\n",
       "      <td>691.555704</td>\n",
       "      <td>0.0</td>\n",
       "      <td>277.749973</td>\n",
       "      <td>224.729325</td>\n",
       "      <td>39121.463543</td>\n",
       "      <td>0.941378</td>\n",
       "      <td>0.106517</td>\n",
       "      <td>1.000000</td>\n",
       "      <td>937.010874</td>\n",
       "      <td>0.0</td>\n",
       "      <td>30841.460000</td>\n",
       "      <td>26477.650000</td>\n",
       "      <td>39406.820000</td>\n",
       "      <td>30845.410873</td>\n",
       "      <td>26482.251915</td>\n",
       "      <td>39409.912198</td>\n",
       "      <td>5283.979732</td>\n",
       "      <td>1.000000</td>\n",
       "      <td>4.965160e+06</td>\n",
       "      <td>NaN</td>\n",
       "      <td>1.007750e+07</td>\n",
       "    </tr>\n",
       "    <tr>\n",
       "      <th>75%</th>\n",
       "      <td>17.644547</td>\n",
       "      <td>5.538477</td>\n",
       "      <td>1725.137553</td>\n",
       "      <td>1407.321324</td>\n",
       "      <td>43381.311123</td>\n",
       "      <td>0.954737</td>\n",
       "      <td>0.128874</td>\n",
       "      <td>1.000000</td>\n",
       "      <td>1388.923228</td>\n",
       "      <td>0.0</td>\n",
       "      <td>1196.421512</td>\n",
       "      <td>1122.080415</td>\n",
       "      <td>36885.290015</td>\n",
       "      <td>0.949972</td>\n",
       "      <td>0.119330</td>\n",
       "      <td>1.000000</td>\n",
       "      <td>1990.500815</td>\n",
       "      <td>0.0</td>\n",
       "      <td>2672.088977</td>\n",
       "      <td>2242.011377</td>\n",
       "      <td>54689.912927</td>\n",
       "      <td>0.959933</td>\n",
       "      <td>0.142877</td>\n",
       "      <td>1.000000</td>\n",
       "      <td>2617.227665</td>\n",
       "      <td>0.0</td>\n",
       "      <td>43524.955000</td>\n",
       "      <td>36959.725000</td>\n",
       "      <td>54970.665000</td>\n",
       "      <td>43527.754649</td>\n",
       "      <td>36963.021915</td>\n",
       "      <td>54972.881747</td>\n",
       "      <td>5296.233260</td>\n",
       "      <td>1.000000</td>\n",
       "      <td>1.067355e+07</td>\n",
       "      <td>NaN</td>\n",
       "      <td>1.512842e+07</td>\n",
       "    </tr>\n",
       "    <tr>\n",
       "      <th>max</th>\n",
       "      <td>88.938201</td>\n",
       "      <td>11.993023</td>\n",
       "      <td>10046.392373</td>\n",
       "      <td>9099.962014</td>\n",
       "      <td>116711.046810</td>\n",
       "      <td>0.981385</td>\n",
       "      <td>0.693387</td>\n",
       "      <td>1.000000</td>\n",
       "      <td>64200.427302</td>\n",
       "      <td>0.0</td>\n",
       "      <td>9092.228937</td>\n",
       "      <td>7000.574392</td>\n",
       "      <td>88825.491584</td>\n",
       "      <td>0.979818</td>\n",
       "      <td>0.703245</td>\n",
       "      <td>1.000000</td>\n",
       "      <td>152560.489797</td>\n",
       "      <td>0.0</td>\n",
       "      <td>11551.032435</td>\n",
       "      <td>9157.997854</td>\n",
       "      <td>115214.538599</td>\n",
       "      <td>0.980671</td>\n",
       "      <td>0.671402</td>\n",
       "      <td>1.000000</td>\n",
       "      <td>84594.000174</td>\n",
       "      <td>0.0</td>\n",
       "      <td>117159.000000</td>\n",
       "      <td>88896.700000</td>\n",
       "      <td>115693.160000</td>\n",
       "      <td>117160.040107</td>\n",
       "      <td>88898.070777</td>\n",
       "      <td>115694.213286</td>\n",
       "      <td>5379.265220</td>\n",
       "      <td>1.000000</td>\n",
       "      <td>2.174229e+07</td>\n",
       "      <td>NaN</td>\n",
       "      <td>2.308886e+07</td>\n",
       "    </tr>\n",
       "  </tbody>\n",
       "</table>\n",
       "</div>"
      ],
      "text/plain": [
       "       B_FlightDistance  B_VertexChi2         H1_PX         H1_PY  \\\n",
       "count       4423.000000   4423.000000   4423.000000   4423.000000   \n",
       "mean          14.146122      3.800417    137.151494     -8.703521   \n",
       "std           10.395248      2.871645   2413.146596   2205.341852   \n",
       "min            3.007046      0.015853  -9311.186926 -10057.630068   \n",
       "25%            7.177420      1.486330  -1462.074586  -1380.760328   \n",
       "50%           10.980939      3.061677    151.674591     96.481321   \n",
       "75%           17.644547      5.538477   1725.137553   1407.321324   \n",
       "max           88.938201     11.993023  10046.392373   9099.962014   \n",
       "\n",
       "               H1_PZ     H1_ProbK    H1_ProbPi    H1_Charge     H1_IPChi2  \\\n",
       "count    4423.000000  4423.000000  4423.000000  4423.000000   4423.000000   \n",
       "mean    33990.916780     0.921958     0.107494    -0.047705   1522.581575   \n",
       "std     16681.193542     0.045933     0.080471     0.998974   3259.601440   \n",
       "min      4594.135580     0.800394     0.012823    -1.000000      1.051479   \n",
       "25%     21635.677003     0.915490     0.058428    -1.000000    165.676064   \n",
       "50%     30681.406778     0.933387     0.093614    -1.000000    491.308694   \n",
       "75%     43381.311123     0.954737     0.128874     1.000000   1388.923228   \n",
       "max    116711.046810     0.981385     0.693387     1.000000  64200.427302   \n",
       "\n",
       "       H1_isMuon        H2_PX        H2_PY         H2_PZ     H2_ProbK  \\\n",
       "count     4423.0  4423.000000  4423.000000   4423.000000  4423.000000   \n",
       "mean         0.0    63.156375     4.906460  29084.381326     0.916810   \n",
       "std          0.0  1754.891954  1600.738877  13940.824878     0.046587   \n",
       "min          0.0 -7359.357843 -7357.803269   5204.728509     0.800010   \n",
       "25%          0.0 -1146.609062 -1092.242061  18841.169581     0.902826   \n",
       "50%          0.0    26.993313    37.345402  26379.878023     0.927974   \n",
       "75%          0.0  1196.421512  1122.080415  36885.290015     0.949972   \n",
       "max          0.0  9092.228937  7000.574392  88825.491584     0.979818   \n",
       "\n",
       "         H2_ProbPi    H2_Charge      H2_IPChi2  H2_isMuon         H3_PX  \\\n",
       "count  4423.000000  4423.000000    4423.000000     4423.0   4423.000000   \n",
       "mean      0.094244     0.047705    2227.992732        0.0    142.583094   \n",
       "std       0.066064     0.998974    5192.439340        0.0   3365.544915   \n",
       "min       0.013229    -1.000000       1.035260        0.0 -11396.278864   \n",
       "25%       0.055127    -1.000000     228.828375        0.0  -2426.947883   \n",
       "50%       0.079576     1.000000     691.555704        0.0    277.749973   \n",
       "75%       0.119330     1.000000    1990.500815        0.0   2672.088977   \n",
       "max       0.703245     1.000000  152560.489797        0.0  11551.032435   \n",
       "\n",
       "             H3_PY          H3_PZ     H3_ProbK    H3_ProbPi    H3_Charge  \\\n",
       "count  4423.000000    4423.000000  4423.000000  4423.000000  4423.000000   \n",
       "mean     34.322366   42026.032161     0.930705     0.129114     0.047705   \n",
       "std    2969.913579   18663.765738     0.041605     0.095912     0.998974   \n",
       "min   -9960.131733    7327.476109     0.800166     0.012587    -1.000000   \n",
       "25%   -2178.014634   26962.277261     0.920899     0.070950    -1.000000   \n",
       "50%     224.729325   39121.463543     0.941378     0.106517     1.000000   \n",
       "75%    2242.011377   54689.912927     0.959933     0.142877     1.000000   \n",
       "max    9157.997854  115214.538599     0.980671     0.671402     1.000000   \n",
       "\n",
       "          H3_IPChi2  H3_isMuon           H1_P          H2_P           H3_P  \\\n",
       "count   4423.000000     4423.0    4423.000000   4423.000000    4423.000000   \n",
       "mean    2532.708117        0.0   34140.779959  29186.394716   42272.469087   \n",
       "std     4989.994994        0.0   16695.962866  13930.071033   18647.412212   \n",
       "min        1.118018        0.0    4661.210000   5235.510000    7486.680000   \n",
       "25%      357.378330        0.0   21773.045000  18972.675000   27238.375000   \n",
       "50%      937.010874        0.0   30841.460000  26477.650000   39406.820000   \n",
       "75%     2617.227665        0.0   43524.955000  36959.725000   54970.665000   \n",
       "max    84594.000174        0.0  117159.000000  88896.700000  115693.160000   \n",
       "\n",
       "                H1_E          H2_E           H3_E          m_B     B_Charge  \\\n",
       "count    4423.000000   4423.000000    4423.000000  4423.000000  4423.000000   \n",
       "mean    34145.348634  29191.657966   42276.046050  5282.954261     0.047705   \n",
       "std     16693.918068  13927.789606   18645.837577    22.978637     0.998974   \n",
       "min      4687.280197   5258.733872    7502.939051  5180.133701    -1.000000   \n",
       "25%     21778.641040  18979.096755   27242.848413  5270.953914    -1.000000   \n",
       "50%     30845.410873  26482.251915   39409.912198  5283.979732     1.000000   \n",
       "75%     43527.754649  36963.021915   54972.881747  5296.233260     1.000000   \n",
       "max    117160.040107  88898.070777  115694.213286  5379.265220     1.000000   \n",
       "\n",
       "       M_squared_12  M_squared_23  M_squared_13  \n",
       "count  4.423000e+03           0.0  4.423000e+03  \n",
       "mean   6.555502e+06           NaN  9.767649e+06  \n",
       "std    5.108089e+06           NaN  6.155687e+06  \n",
       "min    9.786791e+05           NaN  9.758606e+05  \n",
       "25%    2.025623e+06           NaN  3.704842e+06  \n",
       "50%    4.965160e+06           NaN  1.007750e+07  \n",
       "75%    1.067355e+07           NaN  1.512842e+07  \n",
       "max    2.174229e+07           NaN  2.308886e+07  "
      ]
     },
     "execution_count": 38,
     "metadata": {},
     "output_type": "execute_result"
    }
   ],
   "source": [
    "# calculate the invariant masses for each possible hadron pair combination\n",
    "\n",
    "# Candidate 1 & 2\n",
    "real_data_12 = real_data[(real_data.H1_Charge + real_data.H2_Charge)==0]\n",
    "\n",
    "E1 = real_data_12.H1_E\n",
    "p1x = real_data_12.H1_PX\n",
    "p1y = real_data_12.H1_PY\n",
    "p1z = real_data_12.H1_PZ\n",
    "E2 = real_data_12.H2_E\n",
    "p2x = real_data_12.H2_PX\n",
    "p2y = real_data_12.H2_PY\n",
    "p2z = real_data_12.H2_PZ\n",
    "\n",
    "M_squared_12 = (E1 + E2)**2 - ((p1x+p2x)**2 + (p1y+p2y)**2 + (p1z+p2z)**2) \n",
    "real_data[\"M_squared_12\"] = M_squared_12 \n",
    "\n",
    "# Candidate 2 & 3\n",
    "real_data_23 = real_data[(real_data.H2_Charge + real_data.H3_Charge)==0]\n",
    "\n",
    "E2 = real_data_23.H2_E\n",
    "p2x = real_data_23.H2_PX\n",
    "p2y = real_data_23.H2_PY\n",
    "p2z = real_data_23.H2_PZ\n",
    "E3 = real_data_23.H3_E\n",
    "p3x = real_data_23.H3_PX\n",
    "p3y = real_data_23.H3_PY\n",
    "p3z = real_data_23.H3_PZ\n",
    "\n",
    "M_squared_23 = (E2 + E3)**2 - ((p2x+p3x)**2+(p2y+p3y)**2+(p2z+p3z)**2)  \n",
    "real_data[\"M_squared_23\"] = M_squared_23 \n",
    "\n",
    "# Candidate 1 & 3\n",
    "real_data_13 = real_data[(real_data.H1_Charge + real_data.H3_Charge)==0]\n",
    "\n",
    "E1 = real_data_13.H1_E\n",
    "p1x = real_data_13.H1_PX\n",
    "p1y = real_data_13.H1_PY\n",
    "p1z = real_data_13.H1_PZ\n",
    "E3 = real_data_13.H3_E\n",
    "p3x = real_data_13.H3_PX\n",
    "p3y = real_data_13.H3_PY\n",
    "p3z = real_data_13.H3_PZ\n",
    "    \n",
    "M_squared_13 = (E1 + E3)**2 - ((p1x+p3x)**2+(p1y+p3y)**2+(p1z+p3z)**2)\n",
    "real_data[\"M_squared_13\"] = M_squared_13 \n",
    "\n",
    "print(len(M_squared_12))\n",
    "print(len(M_squared_23))\n",
    "print(len(M_squared_13))\n",
    "real_data.describe()"
   ]
  },
  {
   "cell_type": "code",
   "execution_count": 39,
   "metadata": {},
   "outputs": [
    {
     "data": {
      "text/plain": [
       "<function matplotlib.pyplot.show(*args, **kw)>"
      ]
     },
     "execution_count": 39,
     "metadata": {},
     "output_type": "execute_result"
    },
    {
     "data": {
      "image/png": "[encoded data removed]",
      "text/plain": [
       "<Figure size 432x288 with 1 Axes>"
      ]
     },
     "metadata": {
      "needs_background": "light"
     },
     "output_type": "display_data"
    }
   ],
   "source": [
    "# plot the invariant mass for one of these combinations \n",
    "plt.hist(M_squared_12, bins=50, log=True, range=(900000,2000000), alpha=0.5, label=\"M12^2\")\n",
    "plt.hist(M_squared_23, bins=50, log=True, range=(900000,2000000), alpha=0.5, label=\"M23^2\")\n",
    "plt.hist(M_squared_13, bins=50, log=True, range=(900000,2000000), alpha=0.5, label=\"M13^2\")\n",
    "plt.legend()\n",
    "plt.show"
   ]
  },
  {
   "cell_type": "code",
   "execution_count": 40,
   "metadata": {
    "hidden": true,
    "jupyter": {
     "outputs_hidden": true
    }
   },
   "outputs": [
    {
     "data": {
      "image/png": "[encoded data removed]",
      "text/plain": [
       "<Figure size 576x576 with 2 Axes>"
      ]
     },
     "metadata": {
      "needs_background": "light"
     },
     "output_type": "display_data"
    }
   ],
   "source": [
    "# make a Dalitz plot for the real data (with your preselection cuts applied)\n",
    "m_D0 = 1864.84\n",
    "m_JPsi = 3096.9\n",
    "m_phi = 1019.461\n",
    "m_chi = 3414.71\n",
    "\n",
    "plt.figure(figsize=(8, 8))\n",
    "plt.hist2d(M_squared_12, M_squared_13, bins=500, cmap='viridis', norm=LogNorm(), range=[[300000, 23000000], [300000, 23000000]])\n",
    "plt.colorbar(label='Anzahl der Ereignisse')\n",
    "\n",
    "plt.axvline(m_D0**2, color='red', linestyle='-', label='m_D0')\n",
    "plt.axhline(m_D0**2, color='red', linestyle='-')\n",
    "plt.axvline(m_phi**2, color='magenta', linestyle='-', label='m_phi')\n",
    "plt.axhline(m_phi**2, color='magenta', linestyle='-')\n",
    "plt.axvline(m_chi**2, color='cyan', linestyle='-', label='chi_c0(1P)')\n",
    "plt.axhline(m_chi**2, color='cyan', linestyle='-')\n",
    "#plt.axvline(m_JPsi**2, color='green', linestyle='-', alpha = 0.8, label='m_JPsi')\n",
    "#plt.axhline(m_JPsi**2, color='green', linestyle='-')\n",
    "\n",
    "plt.xlabel(r'M_{12}²')\n",
    "plt.ylabel(r'M_{13}²')\n",
    "plt.title('Dalitz Plot for data')\n",
    "plt.legend()\n",
    "plt.show()"
   ]
  },
  {
   "cell_type": "markdown",
   "metadata": {
    "hidden": true
   },
   "source": [
    "<div align=\"justify\"> Label the axes of the Dalitz plot. Compare the Dalitz plot of the real data with the one for simulation. What are the most striking differences?\n",
    "</div>"
   ]
  },
  {
   "cell_type": "markdown",
   "metadata": {
    "hidden": true
   },
   "source": [
    "### Ordering the Dalitz variables\n",
    "The visibility of the resonances in the Dalitz plot can be improved further. The resonances R<sup>0</sup><sub>1</sub> and R<sup>0</sup><sub>3</sub> are both composed of the same particle types, K<sup>+</sup>K<sup>-</sup>, and hence have the same distributions.\n",
    "It is useful to impose an ordering which distinguishes the resonances to access more information. Therefore, we sort the two resonances in a combination of kaons with the respectively higher mass R<sup>0</sup><sub>High</sub> and one with the corresponding lower mass R<sup>0</sup><sub>Low</sub>. You can now use the mass of these ordered resonances as your Dalitz plot variables, thus effectively \"folding\" your Dalitz plot so that one axis always has a higher value than the other. The total energy range is now reduced, while still remaining with the same statistics. This leads to a higher event density and therefore much clearer structures in the Dalitz plots."
   ]
  },
  {
   "cell_type": "code",
   "execution_count": 41,
   "metadata": {},
   "outputs": [],
   "source": [
    "R0_high = np.max([M_squared_12, M_squared_13], axis=0)\n",
    "R0_low = np.min([M_squared_12, M_squared_13], axis=0)"
   ]
  },
  {
   "cell_type": "code",
   "execution_count": 42,
   "metadata": {
    "hidden": true,
    "jupyter": {
     "outputs_hidden": true
    },
    "run_control": {
     "frozen": false,
     "read_only": false
    }
   },
   "outputs": [
    {
     "data": {
      "image/png": "[encoded data removed]",
      "text/plain": [
       "<Figure size 576x576 with 2 Axes>"
      ]
     },
     "metadata": {
      "needs_background": "light"
     },
     "output_type": "display_data"
    }
   ],
   "source": [
    "# Plot the folded Dalitz plot using the ordered mass squares\n",
    "m_D0 = 1864.84\n",
    "m_JPsi = 3096.9\n",
    "m_phi = 1019.461\n",
    "\n",
    "plt.figure(figsize=(8, 8))\n",
    "plt.hist2d(R0_high, R0_low, bins=500, cmap='viridis', norm=LogNorm(), cmin=0.1, range=[[300000, 24000000], [300000, 14000000]])\n",
    "plt.colorbar(label='Anzahl der Ereignisse')\n",
    "\n",
    "#plt.axvline(m_D0**2, color='red', linestyle='-', label='m_D0')\n",
    "plt.axhline(m_D0**2, color='red', linestyle='-', label='m_D0')\n",
    "#plt.axvline(m_phi**2, color='magenta', linestyle='-', label='m_phi')\n",
    "plt.axhline(m_phi**2, color='magenta', linestyle='-', label='m_phi')\n",
    "plt.axvline(m_chi**2, color='cyan', linestyle='-', label='chi_c0(1P)')\n",
    "plt.axhline(m_chi**2, color='cyan', linestyle='-')\n",
    "\n",
    "plt.xlabel(r'R0_{high}')\n",
    "plt.ylabel(r'R0_{low}')\n",
    "plt.title('Dalitz Plot for data')\n",
    "plt.legend()\n",
    "plt.show()\n"
   ]
  },
  {
   "cell_type": "markdown",
   "metadata": {
    "heading_collapsed": true,
    "hidden": true
   },
   "source": [
    "### Hint"
   ]
  },
  {
   "cell_type": "markdown",
   "metadata": {
    "hidden": true
   },
   "source": [
    "**Sorting** - You can find the lower/higher mass by elementwise comparison of the determined masses R<sup>0</sup><sub>1</sub> and R<sup>0</sup><sub>3</sub>. The functions `numpy.min(a,b)` and `numpy.max(a,b)` from the `numpy` library can be helpful. Both functions perform an elementwise comparison between the arrays `a` and `b` and return one array filled by either the individual min/max element. "
   ]
  },
  {
   "cell_type": "markdown",
   "metadata": {
    "heading_collapsed": true,
    "hidden": true
   },
   "source": [
    "### Binned Dalitz plot\n",
    "In addition, the representation of the Dalitz plots can be improved by using a binning scheme. Therefore, you can use the `hist2d()` function to create a 2D histogram."
   ]
  },
  {
   "cell_type": "code",
   "execution_count": 43,
   "metadata": {
    "hidden": true,
    "jupyter": {
     "outputs_hidden": true
    },
    "run_control": {
     "frozen": false,
     "read_only": false
    }
   },
   "outputs": [],
   "source": [
    "# plot a binned Dalitz Plot\n",
    "# use colorbar() to make a legend for your plot at the side"
   ]
  },
  {
   "cell_type": "markdown",
   "metadata": {
    "heading_collapsed": true,
    "hidden": true
   },
   "source": [
    "## Two body resonances"
   ]
  },
  {
   "cell_type": "markdown",
   "metadata": {
    "hidden": true
   },
   "source": [
    "You can now use your Dalitz plot to identify the intermediate resonances. These resonances create lines with higher event densities in the Dalitz plots. You can use [PDG page](http://pdg.lbl.gov/2015/tables/contents_tables.html) to identify the observed resonances. The tables give the masses and widths of the particles and their decay modes. You are looking for mesons with the masses corresponding to where you see the bands and that decay into K<sup>+</sup>K<sup>-</sup>."
   ]
  },
  {
   "cell_type": "markdown",
   "metadata": {
    "heading_collapsed": true
   },
   "source": [
    "# Searching for local matter anti-matter differences\n",
    "## Aims:\n",
    "* Observe matter antimatter differences (CP violation) in regions of the Dalitz plots of the B<sup>+</sup> and B<sup>-</sup> mesons\n",
    "* Produce plots to display the CP violation in certain regions"
   ]
  },
  {
   "cell_type": "markdown",
   "metadata": {
    "hidden": true
   },
   "source": [
    "In a section above you searched for global CP violation. You probably did not find a result with very high significance. \n",
    "\n",
    "CP violation arises from interference between different decay chains with different intermediate resonances to a common final state. Therefore, the strength and the sign of the CP violation might vary in different kinematic regions. Hence, we can use the same equation that we already used for the global CP violation \n",
    "\n",
    "<latex>$A = \\frac{N^+ - N^-}{N^+ + N^-}$</latex>\n",
    "\n",
    "But we will use it in different kinematic regions independently.\n"
   ]
  },
  {
   "cell_type": "markdown",
   "metadata": {
    "heading_collapsed": true,
    "hidden": true
   },
   "source": [
    "## Removing charm resonances "
   ]
  },
  {
   "cell_type": "markdown",
   "metadata": {
    "hidden": true
   },
   "source": [
    "The analysis performed in this exercise is to study the CP violation in charmless $B$ meson decays to kaons. \"Charmless\" means that the decay does not proceed through a charm quark. However, the most frequent decay of the B mesons occur through the *b* quark decaying into a *c* quark. The majority of these events can be removed by rejecting the events that are proceeding through a D<sup>0</sup> meson (which contains the charm quark).\n",
    "\n",
    "In the previous section you were most likely able to already identify a D<sup>0</sup> meson resonance in the Dalitz plots. As a next step you should reject all events in this kinematic region to surpress the charm resonance contribution. You could add this step to your already existing preselection. By simply re-executing the previous analysis steps, you could observe the effects this change has on the Dalitz plots."
   ]
  },
  {
   "cell_type": "code",
   "execution_count": 93,
   "metadata": {
    "jupyter": {
     "outputs_hidden": true
    }
   },
   "outputs": [
    {
     "name": "stdout",
     "output_type": "stream",
     "text": [
      "3467628.2\n",
      "3487628.2\n",
      "11650244.4\n",
      "11670244.4\n"
     ]
    },
    {
     "data": {
      "text/html": [
       "<div>\n",
       "<style scoped>\n",
       "    .dataframe tbody tr th:only-of-type {\n",
       "        vertical-align: middle;\n",
       "    }\n",
       "\n",
       "    .dataframe tbody tr th {\n",
       "        vertical-align: top;\n",
       "    }\n",
       "\n",
       "    .dataframe thead th {\n",
       "        text-align: right;\n",
       "    }\n",
       "</style>\n",
       "<table border=\"1\" class=\"dataframe\">\n",
       "  <thead>\n",
       "    <tr style=\"text-align: right;\">\n",
       "      <th></th>\n",
       "      <th>B_FlightDistance</th>\n",
       "      <th>B_VertexChi2</th>\n",
       "      <th>H1_PX</th>\n",
       "      <th>H1_PY</th>\n",
       "      <th>H1_PZ</th>\n",
       "      <th>H1_ProbK</th>\n",
       "      <th>H1_ProbPi</th>\n",
       "      <th>H1_Charge</th>\n",
       "      <th>H1_IPChi2</th>\n",
       "      <th>H1_isMuon</th>\n",
       "      <th>H2_PX</th>\n",
       "      <th>H2_PY</th>\n",
       "      <th>H2_PZ</th>\n",
       "      <th>H2_ProbK</th>\n",
       "      <th>H2_ProbPi</th>\n",
       "      <th>H2_Charge</th>\n",
       "      <th>H2_IPChi2</th>\n",
       "      <th>H2_isMuon</th>\n",
       "      <th>H3_PX</th>\n",
       "      <th>H3_PY</th>\n",
       "      <th>H3_PZ</th>\n",
       "      <th>H3_ProbK</th>\n",
       "      <th>H3_ProbPi</th>\n",
       "      <th>H3_Charge</th>\n",
       "      <th>H3_IPChi2</th>\n",
       "      <th>H3_isMuon</th>\n",
       "      <th>H1_P</th>\n",
       "      <th>H2_P</th>\n",
       "      <th>H3_P</th>\n",
       "      <th>H1_E</th>\n",
       "      <th>H2_E</th>\n",
       "      <th>H3_E</th>\n",
       "      <th>m_B</th>\n",
       "      <th>B_Charge</th>\n",
       "      <th>M_squared_12</th>\n",
       "      <th>M_squared_23</th>\n",
       "      <th>M_squared_13</th>\n",
       "    </tr>\n",
       "  </thead>\n",
       "  <tbody>\n",
       "    <tr>\n",
       "      <th>count</th>\n",
       "      <td>4379.000000</td>\n",
       "      <td>4379.000000</td>\n",
       "      <td>4379.000000</td>\n",
       "      <td>4379.000000</td>\n",
       "      <td>4379.000000</td>\n",
       "      <td>4379.000000</td>\n",
       "      <td>4379.000000</td>\n",
       "      <td>4379.000000</td>\n",
       "      <td>4379.000000</td>\n",
       "      <td>4379.0</td>\n",
       "      <td>4379.000000</td>\n",
       "      <td>4379.000000</td>\n",
       "      <td>4379.000000</td>\n",
       "      <td>4379.000000</td>\n",
       "      <td>4379.000000</td>\n",
       "      <td>4379.000000</td>\n",
       "      <td>4379.000000</td>\n",
       "      <td>4379.0</td>\n",
       "      <td>4379.000000</td>\n",
       "      <td>4379.000000</td>\n",
       "      <td>4379.000000</td>\n",
       "      <td>4379.000000</td>\n",
       "      <td>4379.000000</td>\n",
       "      <td>4379.000000</td>\n",
       "      <td>4379.000000</td>\n",
       "      <td>4379.0</td>\n",
       "      <td>4379.000000</td>\n",
       "      <td>4379.000000</td>\n",
       "      <td>4379.000000</td>\n",
       "      <td>4379.000000</td>\n",
       "      <td>4379.000000</td>\n",
       "      <td>4379.000000</td>\n",
       "      <td>4379.000000</td>\n",
       "      <td>4379.000000</td>\n",
       "      <td>4.379000e+03</td>\n",
       "      <td>0.0</td>\n",
       "      <td>4.379000e+03</td>\n",
       "    </tr>\n",
       "    <tr>\n",
       "      <th>mean</th>\n",
       "      <td>14.149153</td>\n",
       "      <td>3.797531</td>\n",
       "      <td>132.192699</td>\n",
       "      <td>-2.978110</td>\n",
       "      <td>34037.238826</td>\n",
       "      <td>0.921993</td>\n",
       "      <td>0.107590</td>\n",
       "      <td>-0.046814</td>\n",
       "      <td>1519.225610</td>\n",
       "      <td>0.0</td>\n",
       "      <td>60.505882</td>\n",
       "      <td>6.591842</td>\n",
       "      <td>29057.210949</td>\n",
       "      <td>0.916707</td>\n",
       "      <td>0.094092</td>\n",
       "      <td>0.046814</td>\n",
       "      <td>2233.292937</td>\n",
       "      <td>0.0</td>\n",
       "      <td>138.024020</td>\n",
       "      <td>40.451911</td>\n",
       "      <td>42025.308112</td>\n",
       "      <td>0.930689</td>\n",
       "      <td>0.128859</td>\n",
       "      <td>0.046814</td>\n",
       "      <td>2532.418470</td>\n",
       "      <td>0.0</td>\n",
       "      <td>34187.229995</td>\n",
       "      <td>29159.273024</td>\n",
       "      <td>42271.767493</td>\n",
       "      <td>34191.794478</td>\n",
       "      <td>29164.540884</td>\n",
       "      <td>42275.346728</td>\n",
       "      <td>5282.962214</td>\n",
       "      <td>0.046814</td>\n",
       "      <td>6.551989e+06</td>\n",
       "      <td>NaN</td>\n",
       "      <td>9.779571e+06</td>\n",
       "    </tr>\n",
       "    <tr>\n",
       "      <th>std</th>\n",
       "      <td>10.408659</td>\n",
       "      <td>2.866372</td>\n",
       "      <td>2417.364520</td>\n",
       "      <td>2205.716277</td>\n",
       "      <td>16698.730506</td>\n",
       "      <td>0.045921</td>\n",
       "      <td>0.080731</td>\n",
       "      <td>0.999018</td>\n",
       "      <td>3251.060919</td>\n",
       "      <td>0.0</td>\n",
       "      <td>1755.357645</td>\n",
       "      <td>1601.627408</td>\n",
       "      <td>13929.330156</td>\n",
       "      <td>0.046634</td>\n",
       "      <td>0.065867</td>\n",
       "      <td>0.999018</td>\n",
       "      <td>5210.863057</td>\n",
       "      <td>0.0</td>\n",
       "      <td>3367.794787</td>\n",
       "      <td>2970.009977</td>\n",
       "      <td>18685.917717</td>\n",
       "      <td>0.041651</td>\n",
       "      <td>0.095643</td>\n",
       "      <td>0.999018</td>\n",
       "      <td>4996.824022</td>\n",
       "      <td>0.0</td>\n",
       "      <td>16713.423304</td>\n",
       "      <td>13918.813971</td>\n",
       "      <td>18669.940094</td>\n",
       "      <td>16711.376515</td>\n",
       "      <td>13916.531288</td>\n",
       "      <td>18668.362344</td>\n",
       "      <td>22.977747</td>\n",
       "      <td>0.999018</td>\n",
       "      <td>5.113550e+06</td>\n",
       "      <td>NaN</td>\n",
       "      <td>6.165849e+06</td>\n",
       "    </tr>\n",
       "    <tr>\n",
       "      <th>min</th>\n",
       "      <td>3.007046</td>\n",
       "      <td>0.015853</td>\n",
       "      <td>-9311.186926</td>\n",
       "      <td>-10057.630068</td>\n",
       "      <td>4594.135580</td>\n",
       "      <td>0.800394</td>\n",
       "      <td>0.012823</td>\n",
       "      <td>-1.000000</td>\n",
       "      <td>1.051479</td>\n",
       "      <td>0.0</td>\n",
       "      <td>-7359.357843</td>\n",
       "      <td>-7357.803269</td>\n",
       "      <td>5204.728509</td>\n",
       "      <td>0.800010</td>\n",
       "      <td>0.013229</td>\n",
       "      <td>-1.000000</td>\n",
       "      <td>1.035260</td>\n",
       "      <td>0.0</td>\n",
       "      <td>-11396.278864</td>\n",
       "      <td>-9960.131733</td>\n",
       "      <td>7327.476109</td>\n",
       "      <td>0.800166</td>\n",
       "      <td>0.012587</td>\n",
       "      <td>-1.000000</td>\n",
       "      <td>1.118018</td>\n",
       "      <td>0.0</td>\n",
       "      <td>4661.210000</td>\n",
       "      <td>5235.510000</td>\n",
       "      <td>7486.680000</td>\n",
       "      <td>4687.280197</td>\n",
       "      <td>5258.733872</td>\n",
       "      <td>7502.939051</td>\n",
       "      <td>5180.133701</td>\n",
       "      <td>-1.000000</td>\n",
       "      <td>9.786791e+05</td>\n",
       "      <td>NaN</td>\n",
       "      <td>9.758606e+05</td>\n",
       "    </tr>\n",
       "    <tr>\n",
       "      <th>25%</th>\n",
       "      <td>7.158059</td>\n",
       "      <td>1.484714</td>\n",
       "      <td>-1464.940351</td>\n",
       "      <td>-1380.198899</td>\n",
       "      <td>21657.288560</td>\n",
       "      <td>0.915503</td>\n",
       "      <td>0.058428</td>\n",
       "      <td>-1.000000</td>\n",
       "      <td>166.827451</td>\n",
       "      <td>0.0</td>\n",
       "      <td>-1147.775930</td>\n",
       "      <td>-1090.076237</td>\n",
       "      <td>18807.680120</td>\n",
       "      <td>0.902357</td>\n",
       "      <td>0.055034</td>\n",
       "      <td>-1.000000</td>\n",
       "      <td>228.277386</td>\n",
       "      <td>0.0</td>\n",
       "      <td>-2433.114101</td>\n",
       "      <td>-2176.708071</td>\n",
       "      <td>26915.764481</td>\n",
       "      <td>0.920942</td>\n",
       "      <td>0.070923</td>\n",
       "      <td>-1.000000</td>\n",
       "      <td>357.886223</td>\n",
       "      <td>0.0</td>\n",
       "      <td>21776.550000</td>\n",
       "      <td>18954.455000</td>\n",
       "      <td>27187.540000</td>\n",
       "      <td>21782.145140</td>\n",
       "      <td>18960.882926</td>\n",
       "      <td>27192.021775</td>\n",
       "      <td>5270.923431</td>\n",
       "      <td>-1.000000</td>\n",
       "      <td>2.012716e+06</td>\n",
       "      <td>NaN</td>\n",
       "      <td>3.710294e+06</td>\n",
       "    </tr>\n",
       "    <tr>\n",
       "      <th>50%</th>\n",
       "      <td>10.960922</td>\n",
       "      <td>3.062864</td>\n",
       "      <td>146.959329</td>\n",
       "      <td>106.341981</td>\n",
       "      <td>30741.539156</td>\n",
       "      <td>0.933387</td>\n",
       "      <td>0.093589</td>\n",
       "      <td>-1.000000</td>\n",
       "      <td>493.352440</td>\n",
       "      <td>0.0</td>\n",
       "      <td>24.428288</td>\n",
       "      <td>37.345402</td>\n",
       "      <td>26362.040609</td>\n",
       "      <td>0.927805</td>\n",
       "      <td>0.079550</td>\n",
       "      <td>1.000000</td>\n",
       "      <td>691.475200</td>\n",
       "      <td>0.0</td>\n",
       "      <td>263.903358</td>\n",
       "      <td>240.105897</td>\n",
       "      <td>39121.463543</td>\n",
       "      <td>0.941391</td>\n",
       "      <td>0.106384</td>\n",
       "      <td>1.000000</td>\n",
       "      <td>935.606796</td>\n",
       "      <td>0.0</td>\n",
       "      <td>30916.450000</td>\n",
       "      <td>26431.250000</td>\n",
       "      <td>39406.820000</td>\n",
       "      <td>30920.391291</td>\n",
       "      <td>26435.859992</td>\n",
       "      <td>39409.912198</td>\n",
       "      <td>5283.916052</td>\n",
       "      <td>1.000000</td>\n",
       "      <td>4.977758e+06</td>\n",
       "      <td>NaN</td>\n",
       "      <td>1.009158e+07</td>\n",
       "    </tr>\n",
       "    <tr>\n",
       "      <th>75%</th>\n",
       "      <td>17.653587</td>\n",
       "      <td>5.531261</td>\n",
       "      <td>1725.137553</td>\n",
       "      <td>1412.950299</td>\n",
       "      <td>43464.547850</td>\n",
       "      <td>0.954785</td>\n",
       "      <td>0.128874</td>\n",
       "      <td>1.000000</td>\n",
       "      <td>1388.923228</td>\n",
       "      <td>0.0</td>\n",
       "      <td>1193.623620</td>\n",
       "      <td>1122.930818</td>\n",
       "      <td>36870.809407</td>\n",
       "      <td>0.949947</td>\n",
       "      <td>0.119226</td>\n",
       "      <td>1.000000</td>\n",
       "      <td>1992.308348</td>\n",
       "      <td>0.0</td>\n",
       "      <td>2672.088977</td>\n",
       "      <td>2245.496042</td>\n",
       "      <td>54804.205630</td>\n",
       "      <td>0.959974</td>\n",
       "      <td>0.142860</td>\n",
       "      <td>1.000000</td>\n",
       "      <td>2614.204411</td>\n",
       "      <td>0.0</td>\n",
       "      <td>43582.050000</td>\n",
       "      <td>36914.430000</td>\n",
       "      <td>55013.230000</td>\n",
       "      <td>43584.845981</td>\n",
       "      <td>36917.730960</td>\n",
       "      <td>55015.445032</td>\n",
       "      <td>5296.256620</td>\n",
       "      <td>1.000000</td>\n",
       "      <td>1.065575e+07</td>\n",
       "      <td>NaN</td>\n",
       "      <td>1.514645e+07</td>\n",
       "    </tr>\n",
       "    <tr>\n",
       "      <th>max</th>\n",
       "      <td>88.938201</td>\n",
       "      <td>11.993023</td>\n",
       "      <td>10046.392373</td>\n",
       "      <td>9099.962014</td>\n",
       "      <td>116711.046810</td>\n",
       "      <td>0.981385</td>\n",
       "      <td>0.693387</td>\n",
       "      <td>1.000000</td>\n",
       "      <td>64200.427302</td>\n",
       "      <td>0.0</td>\n",
       "      <td>9092.228937</td>\n",
       "      <td>7000.574392</td>\n",
       "      <td>88825.491584</td>\n",
       "      <td>0.979818</td>\n",
       "      <td>0.703245</td>\n",
       "      <td>1.000000</td>\n",
       "      <td>152560.489797</td>\n",
       "      <td>0.0</td>\n",
       "      <td>11551.032435</td>\n",
       "      <td>9157.997854</td>\n",
       "      <td>115214.538599</td>\n",
       "      <td>0.980671</td>\n",
       "      <td>0.671402</td>\n",
       "      <td>1.000000</td>\n",
       "      <td>84594.000174</td>\n",
       "      <td>0.0</td>\n",
       "      <td>117159.000000</td>\n",
       "      <td>88896.700000</td>\n",
       "      <td>115693.160000</td>\n",
       "      <td>117160.040107</td>\n",
       "      <td>88898.070777</td>\n",
       "      <td>115694.213286</td>\n",
       "      <td>5379.265220</td>\n",
       "      <td>1.000000</td>\n",
       "      <td>2.174229e+07</td>\n",
       "      <td>NaN</td>\n",
       "      <td>2.308886e+07</td>\n",
       "    </tr>\n",
       "  </tbody>\n",
       "</table>\n",
       "</div>"
      ],
      "text/plain": [
       "       B_FlightDistance  B_VertexChi2         H1_PX         H1_PY  \\\n",
       "count       4379.000000   4379.000000   4379.000000   4379.000000   \n",
       "mean          14.149153      3.797531    132.192699     -2.978110   \n",
       "std           10.408659      2.866372   2417.364520   2205.716277   \n",
       "min            3.007046      0.015853  -9311.186926 -10057.630068   \n",
       "25%            7.158059      1.484714  -1464.940351  -1380.198899   \n",
       "50%           10.960922      3.062864    146.959329    106.341981   \n",
       "75%           17.653587      5.531261   1725.137553   1412.950299   \n",
       "max           88.938201     11.993023  10046.392373   9099.962014   \n",
       "\n",
       "               H1_PZ     H1_ProbK    H1_ProbPi    H1_Charge     H1_IPChi2  \\\n",
       "count    4379.000000  4379.000000  4379.000000  4379.000000   4379.000000   \n",
       "mean    34037.238826     0.921993     0.107590    -0.046814   1519.225610   \n",
       "std     16698.730506     0.045921     0.080731     0.999018   3251.060919   \n",
       "min      4594.135580     0.800394     0.012823    -1.000000      1.051479   \n",
       "25%     21657.288560     0.915503     0.058428    -1.000000    166.827451   \n",
       "50%     30741.539156     0.933387     0.093589    -1.000000    493.352440   \n",
       "75%     43464.547850     0.954785     0.128874     1.000000   1388.923228   \n",
       "max    116711.046810     0.981385     0.693387     1.000000  64200.427302   \n",
       "\n",
       "       H1_isMuon        H2_PX        H2_PY         H2_PZ     H2_ProbK  \\\n",
       "count     4379.0  4379.000000  4379.000000   4379.000000  4379.000000   \n",
       "mean         0.0    60.505882     6.591842  29057.210949     0.916707   \n",
       "std          0.0  1755.357645  1601.627408  13929.330156     0.046634   \n",
       "min          0.0 -7359.357843 -7357.803269   5204.728509     0.800010   \n",
       "25%          0.0 -1147.775930 -1090.076237  18807.680120     0.902357   \n",
       "50%          0.0    24.428288    37.345402  26362.040609     0.927805   \n",
       "75%          0.0  1193.623620  1122.930818  36870.809407     0.949947   \n",
       "max          0.0  9092.228937  7000.574392  88825.491584     0.979818   \n",
       "\n",
       "         H2_ProbPi    H2_Charge      H2_IPChi2  H2_isMuon         H3_PX  \\\n",
       "count  4379.000000  4379.000000    4379.000000     4379.0   4379.000000   \n",
       "mean      0.094092     0.046814    2233.292937        0.0    138.024020   \n",
       "std       0.065867     0.999018    5210.863057        0.0   3367.794787   \n",
       "min       0.013229    -1.000000       1.035260        0.0 -11396.278864   \n",
       "25%       0.055034    -1.000000     228.277386        0.0  -2433.114101   \n",
       "50%       0.079550     1.000000     691.475200        0.0    263.903358   \n",
       "75%       0.119226     1.000000    1992.308348        0.0   2672.088977   \n",
       "max       0.703245     1.000000  152560.489797        0.0  11551.032435   \n",
       "\n",
       "             H3_PY          H3_PZ     H3_ProbK    H3_ProbPi    H3_Charge  \\\n",
       "count  4379.000000    4379.000000  4379.000000  4379.000000  4379.000000   \n",
       "mean     40.451911   42025.308112     0.930689     0.128859     0.046814   \n",
       "std    2970.009977   18685.917717     0.041651     0.095643     0.999018   \n",
       "min   -9960.131733    7327.476109     0.800166     0.012587    -1.000000   \n",
       "25%   -2176.708071   26915.764481     0.920942     0.070923    -1.000000   \n",
       "50%     240.105897   39121.463543     0.941391     0.106384     1.000000   \n",
       "75%    2245.496042   54804.205630     0.959974     0.142860     1.000000   \n",
       "max    9157.997854  115214.538599     0.980671     0.671402     1.000000   \n",
       "\n",
       "          H3_IPChi2  H3_isMuon           H1_P          H2_P           H3_P  \\\n",
       "count   4379.000000     4379.0    4379.000000   4379.000000    4379.000000   \n",
       "mean    2532.418470        0.0   34187.229995  29159.273024   42271.767493   \n",
       "std     4996.824022        0.0   16713.423304  13918.813971   18669.940094   \n",
       "min        1.118018        0.0    4661.210000   5235.510000    7486.680000   \n",
       "25%      357.886223        0.0   21776.550000  18954.455000   27187.540000   \n",
       "50%      935.606796        0.0   30916.450000  26431.250000   39406.820000   \n",
       "75%     2614.204411        0.0   43582.050000  36914.430000   55013.230000   \n",
       "max    84594.000174        0.0  117159.000000  88896.700000  115693.160000   \n",
       "\n",
       "                H1_E          H2_E           H3_E          m_B     B_Charge  \\\n",
       "count    4379.000000   4379.000000    4379.000000  4379.000000  4379.000000   \n",
       "mean    34191.794478  29164.540884   42275.346728  5282.962214     0.046814   \n",
       "std     16711.376515  13916.531288   18668.362344    22.977747     0.999018   \n",
       "min      4687.280197   5258.733872    7502.939051  5180.133701    -1.000000   \n",
       "25%     21782.145140  18960.882926   27192.021775  5270.923431    -1.000000   \n",
       "50%     30920.391291  26435.859992   39409.912198  5283.916052     1.000000   \n",
       "75%     43584.845981  36917.730960   55015.445032  5296.256620     1.000000   \n",
       "max    117160.040107  88898.070777  115694.213286  5379.265220     1.000000   \n",
       "\n",
       "       M_squared_12  M_squared_23  M_squared_13  \n",
       "count  4.379000e+03           0.0  4.379000e+03  \n",
       "mean   6.551989e+06           NaN  9.779571e+06  \n",
       "std    5.113550e+06           NaN  6.165849e+06  \n",
       "min    9.786791e+05           NaN  9.758606e+05  \n",
       "25%    2.012716e+06           NaN  3.710294e+06  \n",
       "50%    4.977758e+06           NaN  1.009158e+07  \n",
       "75%    1.065575e+07           NaN  1.514645e+07  \n",
       "max    2.174229e+07           NaN  2.308886e+07  "
      ]
     },
     "execution_count": 93,
     "metadata": {},
     "output_type": "execute_result"
    }
   ],
   "source": [
    "m_D0 = 1864.84\n",
    "m_phi = 1019.461\n",
    "m_chi = 3414.71\n",
    "\n",
    "print(f\"{m_D0**2-10000:.8}\")\n",
    "print(f\"{m_D0**2+10000:.8}\")\n",
    "print(f\"{m_chi**2-10000:.9}\")\n",
    "print(f\"{m_chi**2+10000:.9}\")\n",
    "\n",
    "\n",
    "#real_data = real_data.query('3467628.2 < M_squared_12 < 3487628.2') #18 events\n",
    "#real_data = real_data.query('3467628.2 < M_squared_13 < 3487628.2') # 11 events\n",
    "#real_data = real_data.query('11650244.4 < M_squared_12 < 11670244.4') # 9 events\n",
    "#real_data = real_data.query('11650244.4 < M_squared_13 < 11670244.4') # 6 events\n",
    "\n",
    "real_data = real_data.query('3467628.2 > M_squared_12 | M_squared_12 > 3487628.2')\n",
    "real_data = real_data.query('3467628.2 > M_squared_13 | M_squared_13 > 3487628.2')\n",
    "real_data = real_data.query('11650244.4 > M_squared_12 | M_squared_12 > 11670244.4')\n",
    "real_data = real_data.query('11650244.4 > M_squared_13 | M_squared_13 > 11670244.4')\n",
    "\n",
    "real_data.describe()"
   ]
  },
  {
   "cell_type": "markdown",
   "metadata": {
    "heading_collapsed": true,
    "hidden": true
   },
   "source": [
    "## Comparing Dalitz plots"
   ]
  },
  {
   "cell_type": "markdown",
   "metadata": {
    "hidden": true
   },
   "source": [
    "Make separate Dalitz plots for the B<sup>+</sup> and the B<sup>-</sup> decays. Local CP violation will show up as asymmetry between both plots.\n",
    "\n",
    "In order that the statistical error on the asymmetry in each bin is not overly large, the bins need to contain a reasonable number of entries. Therefore, a coarser binning is needed compared to the Dalitz plots that you used to search for the resonances. A suitable initial bin width should be in the order of a few $\\text{GeV}^2/\\text{c}^4$."
   ]
  },
  {
   "cell_type": "code",
   "execution_count": 106,
   "metadata": {
    "hidden": true,
    "jupyter": {
     "outputs_hidden": true
    },
    "run_control": {
     "frozen": false,
     "read_only": false
    }
   },
   "outputs": [
    {
     "data": {
      "image/png": "[encoded data removed]",
      "text/plain": [
       "<Figure size 576x576 with 2 Axes>"
      ]
     },
     "metadata": {
      "needs_background": "light"
     },
     "output_type": "display_data"
    }
   ],
   "source": [
    "# make a Dalitz plot for the B+ events\n",
    "\n",
    "m_D0 = 1864.84\n",
    "m_JPsi = 3096.9\n",
    "m_phi = 1019.461\n",
    "m_chi = 3414.71\n",
    "\n",
    "real_data_plus = real_data[real_data['B_Charge'] == 1]\n",
    "\n",
    "plt.figure(figsize=(8, 8))\n",
    "plt.hist2d(real_data_plus.M_squared_12, real_data_plus.M_squared_13, bins=30, cmap='viridis', norm=LogNorm(), range=[[300000, 23000000], [300000, 23000000]])\n",
    "plt.colorbar(label='Anzahl der Ereignisse')\n",
    "\n",
    "plt.xlabel(r'M_{12}²')\n",
    "plt.ylabel(r'M_{13}²')\n",
    "plt.title('Dalitz Plot for B+')\n",
    "plt.show()"
   ]
  },
  {
   "cell_type": "code",
   "execution_count": 107,
   "metadata": {
    "hidden": true,
    "jupyter": {
     "outputs_hidden": true
    },
    "run_control": {
     "frozen": false,
     "read_only": false
    }
   },
   "outputs": [
    {
     "data": {
      "image/png": "[encoded data removed]",
      "text/plain": [
       "<Figure size 576x576 with 2 Axes>"
      ]
     },
     "metadata": {
      "needs_background": "light"
     },
     "output_type": "display_data"
    }
   ],
   "source": [
    "# make a Dalitz plot for the B- events\n",
    "\n",
    "m_D0 = 1864.84\n",
    "m_JPsi = 3096.9\n",
    "m_phi = 1019.461\n",
    "m_chi = 3414.71\n",
    "\n",
    "real_data_minus = real_data[real_data['B_Charge'] == -1]\n",
    "\n",
    "plt.figure(figsize=(8, 8))\n",
    "plt.hist2d(real_data_minus.M_squared_12, real_data_minus.M_squared_13, bins=30, cmap='viridis', norm=LogNorm(), range=[[300000, 23000000], [300000, 23000000]])\n",
    "plt.colorbar(label='Anzahl der Ereignisse')\n",
    "\n",
    "plt.xlabel(r'M_{12}²')\n",
    "plt.ylabel(r'M_{13}²')\n",
    "plt.title('Dalitz Plot for B-')\n",
    "plt.show()"
   ]
  },
  {
   "cell_type": "code",
   "execution_count": 120,
   "metadata": {
    "hidden": true,
    "jupyter": {
     "outputs_hidden": true
    }
   },
   "outputs": [
    {
     "data": {
      "image/png": "[encoded data removed]",
      "text/plain": [
       "<Figure size 576x576 with 2 Axes>"
      ]
     },
     "metadata": {
      "needs_background": "light"
     },
     "output_type": "display_data"
    }
   ],
   "source": [
    "# Make a plot showing the asymmetry between these two Daltz plots\n",
    "# i.e. calculate the asymmetry between each bin of the B+ and B- Dalitz plots and show the result in another 2D plot\n",
    "\n",
    "hist_Bplus, xedges, yedges = np.histogram2d(real_data_plus.M_squared_12, real_data_plus.M_squared_13, bins=30, range=[[300000, 23000000], [300000, 23000000]])\n",
    "hist_Bminus, xedges, yedges = np.histogram2d(real_data_minus.M_squared_12, real_data_minus.M_squared_13, bins=30, range=[[300000, 23000000], [300000, 23000000]])\n",
    "\n",
    "\n",
    "asymmetry = (hist_Bplus - hist_Bminus) / (hist_Bplus + hist_Bminus)\n",
    "\n",
    "plt.figure(figsize=(8, 8))\n",
    "plt.imshow(asymmetry.T, origin='lower', cmap='RdBu_r', extent=[xedges[0], xedges[-1], yedges[0], yedges[-1]])\n",
    "plt.colorbar(label='Asymmetry')\n",
    "\n",
    "plt.xlabel(r'M_{12}²')\n",
    "plt.ylabel(r'M_{13}²')\n",
    "plt.title('Asymmetry between B+ and B- Dalitz Plots')\n",
    "plt.show()"
   ]
  },
  {
   "cell_type": "markdown",
   "metadata": {
    "hidden": true
   },
   "source": [
    "Observing a large asymmetry in some regions of the plot does not necessarily mean you have observed CP violation. If there are only very few events in that region of the plot the uncertainty on that large asymmetry may be large, too. Hence, the value may still be compatible with zero.\n",
    "\n",
    "You can calculate the statistical uncertainty on the asymmetry, for each bin of the plot, using the same formulas as you used in the global asymmetry section. You can then make a plot showing the uncertainty on the asymmetry.\n",
    "\n",
    "By dividing the plot showing the asymmetry by the plot showing the statistical uncertainty you can then obtain the significance of the asymmetry in each bin. Plotting the significance provides a way to select regions with CP violation. "
   ]
  },
  {
   "cell_type": "code",
   "execution_count": 121,
   "metadata": {
    "hidden": true,
    "jupyter": {
     "outputs_hidden": true
    }
   },
   "outputs": [
    {
     "data": {
      "image/png": "[encoded data removed]",
      "text/plain": [
       "<Figure size 576x576 with 2 Axes>"
      ]
     },
     "metadata": {
      "needs_background": "light"
     },
     "output_type": "display_data"
    }
   ],
   "source": [
    "# Make a plot showing the uncertainty on the asymmetry \n",
    "#Asig = abs(A / Aerr)\n",
    "# Calculate statistical uncertainty of the asymmetry\n",
    "uncertainty = np.sqrt((1 - asymmetry**2) / (hist_Bplus + hist_Bminus))\n",
    "\n",
    "# Calculate significance of the asymmetry\n",
    "significance = asymmetry / uncertainty\n",
    "\n",
    "# Create uncertainty plot\n",
    "plt.figure(figsize=(8, 8))\n",
    "plt.imshow(uncertainty.T, origin='lower', cmap='YlGnBu', extent=[xedges[0], xedges[-1], yedges[0], yedges[-1]])\n",
    "plt.colorbar(label='Uncertainty')\n",
    "\n",
    "plt.xlabel(r'M_{12}²')\n",
    "plt.ylabel(r'M_{13}²')\n",
    "plt.title('Statistical Uncertainty on the Asymmetry')\n",
    "plt.show()\n"
   ]
  },
  {
   "cell_type": "code",
   "execution_count": 182,
   "metadata": {
    "hidden": true,
    "jupyter": {
     "outputs_hidden": true
    }
   },
   "outputs": [
    {
     "data": {
      "image/png": "[encoded data removed]",
      "text/plain": [
       "<Figure size 576x576 with 2 Axes>"
      ]
     },
     "metadata": {
      "needs_background": "light"
     },
     "output_type": "display_data"
    }
   ],
   "source": [
    "# Make a plot showing the statistical significance of the asymmetry\n",
    "plt.figure(figsize=(8, 8))\n",
    "plt.imshow(significance.T, origin='lower', cmap='RdBu_r', extent=[xedges[0], xedges[-1], yedges[0], yedges[-1]])\n",
    "plt.colorbar(label='Significance')\n",
    "plt.axhline(5.e6, color='magenta', linestyle='-')\n",
    "plt.axvline(15.e6, color='magenta')\n",
    "plt.xlabel(r'M_{12}²')\n",
    "plt.ylabel(r'M_{13}²')\n",
    "plt.title('Significance of the Asymmetry')\n",
    "plt.show()"
   ]
  },
  {
   "cell_type": "code",
   "execution_count": 153,
   "metadata": {},
   "outputs": [
    {
     "data": {
      "image/png": "[encoded data removed]",
      "text/plain": [
       "<Figure size 576x576 with 1 Axes>"
      ]
     },
     "metadata": {
      "needs_background": "light"
     },
     "output_type": "display_data"
    }
   ],
   "source": [
    "selected_bins_minus = significance < -1\n",
    "selected_bins_plus = significance > 1\n",
    "\n",
    "# Plot the selected region\n",
    "plt.figure(figsize=(8, 8))\n",
    "plt.imshow(selected_bins_minus.T, origin='lower', cmap='hot', alpha=0.5, extent=[xedges[0], xedges[-1], yedges[0], yedges[-1]])\n",
    "plt.imshow(selected_bins_plus.T, origin='lower', cmap='cool', alpha=0.5, extent=[xedges[0], xedges[-1], yedges[0], yedges[-1]])\n",
    "plt.xlabel(r'M_{12}²')\n",
    "plt.ylabel(r'M_{13}²')\n",
    "plt.title('Selected Region with High Significance')\n",
    "plt.show()\n"
   ]
  },
  {
   "cell_type": "markdown",
   "metadata": {
    "heading_collapsed": true,
    "hidden": true
   },
   "source": [
    "## Observing CP violation\n",
    "The previous investigations of the asymmetry and its significance should also now make it possible to select a region in the Dalitz plot that shows signs of significant CP violation of a certain size. This can be identified by a collection of contiguous bins with significant positive (or negative) asymmetry. It may help to vary the binning to select the optimal region.\n",
    "\n",
    "You can now select the corresponding kinematic region in your data. Then, using a simple 1D histogram, plot the invariant mass distributions for the B<sup>+</sup> and B<sup>-</sup> events,\n",
    "just as you did it for the global asymmetry. However, this time the events are exclusively in the kinematic region of interest. Now repeat the procedure to determine the CP violation for the selected data, count the respective event rate, calculate the asymmetry, its statistical uncertainty and the resulting significance of the measured CP violation."
   ]
  },
  {
   "cell_type": "code",
   "execution_count": 190,
   "metadata": {
    "hidden": true,
    "jupyter": {
     "outputs_hidden": true
    }
   },
   "outputs": [
    {
     "data": {
      "image/png": "[encoded data removed]",
      "text/plain": [
       "<Figure size 432x288 with 1 Axes>"
      ]
     },
     "metadata": {
      "needs_background": "light"
     },
     "output_type": "display_data"
    }
   ],
   "source": [
    "# Make a plot showing the invariant mass of the B+ meson particles\n",
    "# using events from a region of the Dalitz plot showing sizeable CP asymmetries\n",
    "selected_data = real_data.query('M_squared_13 < 15.e6 & M_squared_13 < 5.e6')\n",
    "\n",
    "plt.hist(selected_data[selected_data['B_Charge'] == 1]['m_B'], bins=20, color='blue', alpha=0.5, label=\"m(K+K+K-)\")\n",
    "plt.hist(selected_data[selected_data['B_Charge'] == -1]['m_B'], bins=20, color='red', alpha=0.5, label=\"m(K+K-K-)\")\n",
    "plt.xlabel('Invariant Mass')\n",
    "plt.ylabel('Event Count')\n",
    "plt.title('Invariant Mass Distribution for B+ in the Selected Kinematic Region')\n",
    "plt.legend()\n",
    "plt.show()"
   ]
  },
  {
   "cell_type": "code",
   "execution_count": 194,
   "metadata": {},
   "outputs": [
    {
     "data": {
      "image/png": "[encoded data removed]",
      "text/plain": [
       "<Figure size 432x288 with 1 Axes>"
      ]
     },
     "metadata": {
      "needs_background": "light"
     },
     "output_type": "display_data"
    }
   ],
   "source": [
    "selected_data = real_data.query('M_squared_13 < 15.e6 & M_squared_13 < 5.e6')\n",
    "\n",
    "hist_plus, bin_edges_plus, _ = plt.hist(selected_data[selected_data['B_Charge'] == 1]['m_B'], bins=20, color='blue', alpha=0.5, histtype='step')\n",
    "hist_minus, bin_edges_minus, _ = plt.hist(selected_data[selected_data['B_Charge'] == -1]['m_B'], bins=20, color='red', alpha=0.5, histtype='step')\n",
    "\n",
    "bin_centers_plus = 0.5 * (bin_edges_plus[:-1] + bin_edges_plus[1:])\n",
    "bin_centers_minus = 0.5 * (bin_edges_minus[:-1] + bin_edges_minus[1:])\n",
    "\n",
    "error_plus = np.sqrt(hist_plus)\n",
    "error_minus = np.sqrt(hist_minus)\n",
    "\n",
    "plt.errorbar(bin_centers_plus, hist_plus, yerr=error_plus, fmt='o', color='blue', label=\"m(K+K+K-)\")\n",
    "plt.errorbar(bin_centers_minus, hist_minus, yerr=error_minus, fmt='o', color='red', label=\"m(K+K-K-)\")\n",
    "\n",
    "plt.xlabel('Invariant Mass')\n",
    "plt.ylabel('Event Count')\n",
    "plt.title('Invariant Mass Distributions in the Selected Kinematic Region')\n",
    "plt.legend()\n",
    "plt.show()"
   ]
  },
  {
   "cell_type": "code",
   "execution_count": 192,
   "metadata": {
    "hidden": true,
    "jupyter": {
     "outputs_hidden": true
    }
   },
   "outputs": [
    {
     "name": "stdout",
     "output_type": "stream",
     "text": [
      "Asymmetry: 0.136 ± 0.0267(stat) ± 0.01(sys)\n"
     ]
    }
   ],
   "source": [
    "# Count the number of events for B+ and B-\n",
    "N_plus = np.count_nonzero(selected_data['B_Charge'] == 1)\n",
    "N_minus = np.count_nonzero(selected_data['B_Charge'] == -1)\n",
    "\n",
    "# Calculate the asymmetry\n",
    "asymmetry = (N_plus - N_minus) / (N_plus + N_minus)\n",
    "\n",
    "# Calculate the statistical uncertainty\n",
    "uncertainty = np.sqrt((1 - asymmetry**2) / (N_plus + N_minus))\n",
    "\n",
    "# Print the result\n",
    "print(f\"Asymmetry: {asymmetry} \\u00B1 {uncertainty:.3}(stat) \\u00B1 {0.01}(sys)\")"
   ]
  },
  {
   "cell_type": "markdown",
   "metadata": {
    "hidden": true
   },
   "source": [
    "**Congratulations!** You should now have succesfully observed significant evidence for CP Violation. Your Dalitz plots should show, that the decay widths of particles and anti-particles differ in different kinematic regions. You may wish to comapre your results with those published by the LHCb collaboration in this [Paper](http://lhcbproject.web.cern.ch/lhcbproject/Publications/LHCbProjectPublic/LHCb-PAPER-2013-027.html)."
   ]
  },
  {
   "cell_type": "markdown",
   "metadata": {
    "heading_collapsed": true
   },
   "source": [
    "# Further analyses"
   ]
  },
  {
   "cell_type": "markdown",
   "metadata": {
    "hidden": true
   },
   "source": [
    "The dataset used in your analysis contains an inclusive set of charged B meson decays into three charged tracks recorded at the LHCb experiment. Hence, this dataset has been used for further publicated measurements (you can fin some [here](http://lhcbproject.web.cern.ch/lhcbproject/Publications/LHCbProjectPublic/LHCb-PAPER-2013-027.html) and [here](http://lhcbproject.web.cern.ch/lhcbproject/Publications/LHCbProjectPublic/LHCb-PAPER-2013-051.html)).\n",
    "\n",
    "There are further possibilities to extend this analysis. The following two possibilities will be allobrated in more details:\n",
    "<ul>\n",
    "<li>Additional elements that you could add to your analysis of B<sup>+</sup> → K<sup>+</sup>K<sup>+</sup>K<sup>−</sup> </li>\n",
    "<li>Similar analyses on this dataset</li>\n",
    "</ul>"
   ]
  },
  {
   "cell_type": "markdown",
   "metadata": {
    "hidden": true
   },
   "source": [
    "## Adding extra sophistication\n",
    "\n",
    "### Systematic Uncertainties\n",
    "In this analysis you considered the statistical uncertainty on the result. This occurs as a result of having only a limited number of events. In addition there are [systematic uncertainties](https://en.wikipedia.org/wiki/Observational_error#Systematic_versus_random_error), these arise from biases in your measurement. Here we discuss three possible sources of those for this analysis.\n",
    "<ul>\n",
    "<li> Production asymmetry. The LHC is a proton-proton collider and hence the initial state of the collision is not matter antimatter symmetric. Consequently B<sup>+</sup> and B<sup>-</sup> mesons may not be produced at exactly the same rates. This small production asymmetry it is estimated to be approximately 1%. It can also be measured from the data, as discussed in the LHCb paper.</li>\n",
    "<li> Detection asymmetry. The LHCb detector could be more efficient for detecting either the B<sup>+</sup> or the B<sup>-</sup> final states. This is because the positive and negative kaons will be bent by the magnet indifferent directions in the detector. If the efficiency of the detector is higher in one region than in another this will lead to higher efficiencies for K<sup>+</sup> or K<sup>-</sup> and hence for B<sup>+</sup> or B<sup>-</sup>. For this reason the magnetic field of the LHCb detector is regularly reversed. You used data in this analysis in which the magnetic field was both up and down and hence the effect will (partially) cancel. By comparing results for the two magnet polarities separately you can check the size of this effect. When loading the data above both polarities were combined, you can instead load them independently to measure the difference between the two datasets.</li>\n",
    "<li> Analysis technique. The analysis technique you have used may bias the result. A major simplification we made in the analysis above was to neglect 'background' events. We imposed a selection to select a sample of predominantly signal events but have not accounted for the effect of the residual background events.</li>\n",
    "</ul>\n",
    "\n",
    "### Using mass sidebands\n",
    "\n",
    "One source of 'background' events arises from random combinations of tracks in events that happen to fake the 'signal' characteristics. These events will not peak in the mass distribution at the mass of the B meson but will have a rather smoothly varying distribution. Looking at the number and distribution of events away from the mass peak can allow you to estimate the number of background events under the mass peak.\n",
    "\n",
    "### Fitting distributions\n",
    "\n",
    "The next level of sophistication in the analysis requires fitting the distributions of events that are observed in the B mass distribution in order to estimate the yield of signal events and background events. You can see how this is done in the LHCb paper on the analysis. Fitting can be performed using for example the [CERN root framework](https://root.cern.ch/), the [zfit](https://zfit.readthedocs.io/en/latest/) or the [iminuit](https://iminuit.readthedocs.io/en/stable/about.html) libaries."
   ]
  },
  {
   "cell_type": "code",
   "execution_count": null,
   "metadata": {},
   "outputs": [],
   "source": []
  },
  {
   "cell_type": "markdown",
   "metadata": {
    "hidden": true
   },
   "source": [
    "## Further analyses\n",
    "\n",
    "The LHCb papers using the data set, that you are using, analysed four decay channels of the charged B mesons. You can perform any of these analyses.\n",
    "<ul>\n",
    "<li>B<sup>+</sup> → K<sup>+</sup>K<sup>+</sup>K<sup>−</sup> (and anti-particle equivalent). This is the analysis you have performed here. It has the lowest background of the four channels and hence the approximation we made of neglecting the background events will give the least bias to this channel.</li>\n",
    "<li>B<sup>+</sup> → &pi;<sup>+</sup>&pi;<sup>+</sup>&pi;<sup>−</sup> (and anti-particle equivalent). In this analysis the final state is three charged pions. The level of background events compared to the signal is significantly higher as pions are the most commonly produced particle at the LHC. Hence, a method of estimating the background level should be added to complete this analysis.</li>\n",
    "<li>B<sup>+</sup> → K<sup>+</sup>&pi;<sup>+</sup>&pi;<sup>−</sup> (and anti-particle equivalent). In this analysis the final state is a mixture of one kaon and two pions. This means that the analysis needs to determine in each event which track is the best candidate kaon and apply selection cuts appropriately to select the events.</li>\n",
    "<li>B<sup>+</sup> → &pi;<sup>+</sup>K<sup>+</sup>K<sup>−</sup> (and anti-particle equivalent). This channel has a higher level of background compared to the signal.</li>\n",
    "</ul>"
   ]
  },
  {
   "cell_type": "code",
   "execution_count": null,
   "metadata": {
    "jupyter": {
     "outputs_hidden": true
    }
   },
   "outputs": [],
   "source": []
  },
  {
   "cell_type": "code",
   "execution_count": null,
   "metadata": {
    "jupyter": {
     "outputs_hidden": true
    }
   },
   "outputs": [],
   "source": []
  },
  {
   "cell_type": "code",
   "execution_count": null,
   "metadata": {
    "jupyter": {
     "outputs_hidden": true
    }
   },
   "outputs": [],
   "source": []
  },
  {
   "cell_type": "code",
   "execution_count": null,
   "metadata": {
    "jupyter": {
     "outputs_hidden": true
    }
   },
   "outputs": [],
   "source": []
  },
  {
   "cell_type": "code",
   "execution_count": null,
   "metadata": {
    "jupyter": {
     "outputs_hidden": true
    }
   },
   "outputs": [],
   "source": []
  },
  {
   "cell_type": "code",
   "execution_count": null,
   "metadata": {
    "jupyter": {
     "outputs_hidden": true
    }
   },
   "outputs": [],
   "source": []
  },
  {
   "cell_type": "code",
   "execution_count": null,
   "metadata": {
    "jupyter": {
     "outputs_hidden": true
    }
   },
   "outputs": [],
   "source": []
  },
  {
   "cell_type": "code",
   "execution_count": null,
   "metadata": {
    "jupyter": {
     "outputs_hidden": true
    }
   },
   "outputs": [],
   "source": []
  }
 ],
 "metadata": {
  "kernelspec": {
   "display_name": "Python 3",
   "language": "python",
   "name": "python3"
  },
  "language_info": {
   "codemirror_mode": {
    "name": "ipython",
    "version": 3
   },
   "file_extension": ".py",
   "mimetype": "text/x-python",
   "name": "python",
   "nbconvert_exporter": "python",
   "pygments_lexer": "ipython3",
   "version": "3.7.1"
  },
  "toc": {
   "toc_cell": false,
   "toc_number_sections": true,
   "toc_threshold": 6,
   "toc_window_display": false
  },
  "widgets": {
   "state": {},
   "version": "1.1.2"
  }
 },
 "nbformat": 4,
 "nbformat_minor": 4
}
